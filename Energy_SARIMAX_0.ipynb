{
  "nbformat": 4,
  "nbformat_minor": 0,
  "metadata": {
    "colab": {
      "name": "Energy_SARIMAX_0.ipynb",
      "provenance": [],
      "collapsed_sections": [],
      "mount_file_id": "19Tds8_USoTsbtf1OGHg19-7vXX1fE574",
      "authorship_tag": "ABX9TyMtwVNSDbOvZFw4bthV8O7G",
      "include_colab_link": true
    },
    "kernelspec": {
      "name": "python3",
      "display_name": "Python 3"
    }
  },
  "cells": [
    {
      "cell_type": "markdown",
      "metadata": {
        "id": "view-in-github",
        "colab_type": "text"
      },
      "source": [
        "<a href=\"https://colab.research.google.com/github/kmgr10/energy/blob/master/Energy_SARIMAX_0.ipynb\" target=\"_parent\"><img src=\"https://colab.research.google.com/assets/colab-badge.svg\" alt=\"Open In Colab\"/></a>"
      ]
    },
    {
      "cell_type": "code",
      "metadata": {
        "id": "MdPT4PiMAKRF",
        "colab_type": "code",
        "colab": {
          "base_uri": "https://localhost:8080/",
          "height": 85
        },
        "outputId": "d2cb0ece-079a-4b98-9673-69a1fd11102c"
      },
      "source": [
        "# Load libraries\n",
        "import pandas as pd\n",
        "import numpy as np\n",
        "import datetime as dt\n",
        "import matplotlib.pyplot as plt\n",
        "import plotly.graph_objects as go\n",
        "import statsmodels.api as sm\n",
        "from statsmodels.formula.api import ols\n",
        "from statsmodels.tsa.stattools import adfuller\n",
        "from sklearn.preprocessing import MinMaxScaler\n",
        "from statsmodels.tsa.statespace.sarimax import SARIMAX\n",
        "import urllib\n",
        "from scipy.ndimage.interpolation import shift\n",
        "import logging\n",
        "from sklearn.metrics import mean_absolute_error"
      ],
      "execution_count": 1,
      "outputs": [
        {
          "output_type": "stream",
          "text": [
            "/usr/local/lib/python3.6/dist-packages/statsmodels/tools/_testing.py:19: FutureWarning:\n",
            "\n",
            "pandas.util.testing is deprecated. Use the functions in the public API at pandas.testing instead.\n",
            "\n"
          ],
          "name": "stderr"
        }
      ]
    },
    {
      "cell_type": "code",
      "metadata": {
        "id": "SSHT0I2HAbit",
        "colab_type": "code",
        "colab": {}
      },
      "source": [
        "# Load data and rename columns\n",
        "link = \"https://github.com/chiaracecilia/forecasting_competition/raw/master/load_weather_dataset.xlsx\"\n",
        "urllib.request.urlretrieve(link, \"load_weather_dataset_recent.xlsx\")\n",
        "data = pd.read_excel('load_weather_dataset_recent.xlsx')\n",
        "\n",
        "# If loading directly from gdrive:\n",
        "#data = pd.read_excel('drive/My Drive/load_weather_dataset.xlsx')\n",
        "\n",
        "data.columns=['Date','Temp_min','Temp_mean','Temp_max','Load','London_min','London_mean','London_max',\n",
        "              'Bristol_min','Bristol_mean','Bristol_max','Leeds_min','Leeds_mean','Leeds_max','Lockdown_index']\n",
        "\n",
        "data['Date'] = pd.to_datetime(data['Date'])\n",
        "\n",
        "# Remove stuff that isn't within 1 day of the 'as of' date\n",
        "# For example, as of 12 Jun, we have data up to 11 Jun and forecasts for 13 Jun - we want to predict load for 13 Jun\n",
        "# So remove anything past 13 June - it seems the data source is inconsistent with NaN beyond that\n",
        "\n",
        "today_date = dt.datetime(2020,6,12)\n",
        "fcast_date = dt.datetime(2020,6,13)\n",
        "yday_date = dt.datetime(2020,6,11)\n",
        "\n",
        "data = data[data['Date']<=fcast_date]"
      ],
      "execution_count": 0,
      "outputs": []
    },
    {
      "cell_type": "code",
      "metadata": {
        "id": "96ezgdBnBOtJ",
        "colab_type": "code",
        "colab": {}
      },
      "source": [
        "# Add Bank holiday flags, as energy demand is lower on bank holiday days\n",
        "# Note: have added the following '2020-04-20','2020-04-21','2020-04-22' (these are not bank holidays but load looks really low)\n",
        "bh_ls = ['2017-01-01', '2017-04-14','2017-04-17', '2017-05-01', '2017-05-29','2017-08-28', '2017-12-25', '2017-12-26',\n",
        "         '2018-01-01', '2018-03-30','2018-04-02', '2018-05-07', '2018-05-28', '2018-08-27', '2018-12-25', '2018-12-26',\n",
        "         '2019-01-01', '2019-04-19','2019-04-22', '2019-05-06', '2019-05-27', '2019-08-26' , '2019-12-25', '2019-12-26',\n",
        "         '2020-01-01', '2020-04-10','2020-04-13','2020-04-20','2020-04-21','2020-04-22', '2020-05-08', '2020-05-25']\n",
        "\n",
        "bd_dt = [pd.to_datetime(x) for x in bh_ls]\n",
        "data['Holiday'] = data['Date'].apply(lambda x: 1 if x in bd_dt else 0)\n",
        "data_ar = data[['Date','Temp_mean','Load','Lockdown_index','Holiday']]"
      ],
      "execution_count": 0,
      "outputs": []
    },
    {
      "cell_type": "code",
      "metadata": {
        "id": "xbEg6vnCBeZQ",
        "colab_type": "code",
        "outputId": "fb94e816-28ae-477f-da51-99047ee9678a",
        "colab": {
          "base_uri": "https://localhost:8080/",
          "height": 476
        }
      },
      "source": [
        "# Clean data\n",
        "data['Lockdown_index'] = data['Lockdown_index'].apply(lambda x: 0 if np.isnan(x) else x)\n",
        "data['Load'] = np.log(data_ar['Load'])\n",
        "data_ar['Lockdown_index'] = data_ar['Lockdown_index'].apply(lambda x: 0 if np.isnan(x) else x)\n",
        "data_ar['Log_load'] = np.log(data_ar['Load'])\n",
        "data_ar = data_ar[:-2]\n",
        "data_ar.tail()"
      ],
      "execution_count": 4,
      "outputs": [
        {
          "output_type": "stream",
          "text": [
            "/usr/local/lib/python3.6/dist-packages/ipykernel_launcher.py:4: SettingWithCopyWarning:\n",
            "\n",
            "\n",
            "A value is trying to be set on a copy of a slice from a DataFrame.\n",
            "Try using .loc[row_indexer,col_indexer] = value instead\n",
            "\n",
            "See the caveats in the documentation: https://pandas.pydata.org/pandas-docs/stable/user_guide/indexing.html#returning-a-view-versus-a-copy\n",
            "\n",
            "/usr/local/lib/python3.6/dist-packages/ipykernel_launcher.py:5: SettingWithCopyWarning:\n",
            "\n",
            "\n",
            "A value is trying to be set on a copy of a slice from a DataFrame.\n",
            "Try using .loc[row_indexer,col_indexer] = value instead\n",
            "\n",
            "See the caveats in the documentation: https://pandas.pydata.org/pandas-docs/stable/user_guide/indexing.html#returning-a-view-versus-a-copy\n",
            "\n"
          ],
          "name": "stderr"
        },
        {
          "output_type": "execute_result",
          "data": {
            "text/html": [
              "<div>\n",
              "<style scoped>\n",
              "    .dataframe tbody tr th:only-of-type {\n",
              "        vertical-align: middle;\n",
              "    }\n",
              "\n",
              "    .dataframe tbody tr th {\n",
              "        vertical-align: top;\n",
              "    }\n",
              "\n",
              "    .dataframe thead th {\n",
              "        text-align: right;\n",
              "    }\n",
              "</style>\n",
              "<table border=\"1\" class=\"dataframe\">\n",
              "  <thead>\n",
              "    <tr style=\"text-align: right;\">\n",
              "      <th></th>\n",
              "      <th>Date</th>\n",
              "      <th>Temp_mean</th>\n",
              "      <th>Load</th>\n",
              "      <th>Lockdown_index</th>\n",
              "      <th>Holiday</th>\n",
              "      <th>Log_load</th>\n",
              "    </tr>\n",
              "  </thead>\n",
              "  <tbody>\n",
              "    <tr>\n",
              "      <th>1253</th>\n",
              "      <td>2020-06-07</td>\n",
              "      <td>12.3</td>\n",
              "      <td>19706.750000</td>\n",
              "      <td>64.81</td>\n",
              "      <td>0</td>\n",
              "      <td>9.888716</td>\n",
              "    </tr>\n",
              "    <tr>\n",
              "      <th>1254</th>\n",
              "      <td>2020-06-08</td>\n",
              "      <td>12.7</td>\n",
              "      <td>21908.208330</td>\n",
              "      <td>70.37</td>\n",
              "      <td>0</td>\n",
              "      <td>9.994617</td>\n",
              "    </tr>\n",
              "    <tr>\n",
              "      <th>1255</th>\n",
              "      <td>2020-06-09</td>\n",
              "      <td>12.8</td>\n",
              "      <td>22262.312500</td>\n",
              "      <td>70.37</td>\n",
              "      <td>0</td>\n",
              "      <td>10.010651</td>\n",
              "    </tr>\n",
              "    <tr>\n",
              "      <th>1256</th>\n",
              "      <td>2020-06-10</td>\n",
              "      <td>12.9</td>\n",
              "      <td>23484.020833</td>\n",
              "      <td>70.37</td>\n",
              "      <td>0</td>\n",
              "      <td>10.064076</td>\n",
              "    </tr>\n",
              "    <tr>\n",
              "      <th>1257</th>\n",
              "      <td>2020-06-11</td>\n",
              "      <td>13.7</td>\n",
              "      <td>21509.041667</td>\n",
              "      <td>70.37</td>\n",
              "      <td>0</td>\n",
              "      <td>9.976229</td>\n",
              "    </tr>\n",
              "  </tbody>\n",
              "</table>\n",
              "</div>"
            ],
            "text/plain": [
              "           Date  Temp_mean          Load  Lockdown_index  Holiday   Log_load\n",
              "1253 2020-06-07       12.3  19706.750000           64.81        0   9.888716\n",
              "1254 2020-06-08       12.7  21908.208330           70.37        0   9.994617\n",
              "1255 2020-06-09       12.8  22262.312500           70.37        0  10.010651\n",
              "1256 2020-06-10       12.9  23484.020833           70.37        0  10.064076\n",
              "1257 2020-06-11       13.7  21509.041667           70.37        0   9.976229"
            ]
          },
          "metadata": {
            "tags": []
          },
          "execution_count": 4
        }
      ]
    },
    {
      "cell_type": "code",
      "metadata": {
        "id": "uIwzejYHFlgl",
        "colab_type": "code",
        "colab": {}
      },
      "source": [
        "# Scale the data\n",
        "scaler_in = MinMaxScaler()\n",
        "scaler_out = MinMaxScaler()\n",
        "\n",
        "scaled_in= scaler_in.fit_transform(data_ar[['Temp_mean','Lockdown_index','Holiday']])\n",
        "scaled_out = scaler_out.fit_transform(np.array(data_ar['Log_load']).reshape(-1,1))\n",
        "\n",
        "X = scaled_in\n",
        "y = scaled_out\n",
        "\n",
        "n = 1200\n",
        "\n",
        "# Train and test split\n",
        "X_train, X_test = X[:n], X[n:]\n",
        "y_train, y_test = y[:n], y[n:]"
      ],
      "execution_count": 0,
      "outputs": []
    },
    {
      "cell_type": "code",
      "metadata": {
        "id": "_P_-HwwJJ13J",
        "colab_type": "code",
        "colab": {}
      },
      "source": [
        "## This section explores a grid search for the optimal SARIMAX parameters for this problem\n",
        "## Based on our knowledge of seasonality of this problem we have used:\n",
        "## arima = (1,0,0)\n",
        "## seasonal = (1,0,0,7)\n",
        "## Can we do better?\n",
        "\n",
        "## How to measure error: MAE on the test set\n",
        "\n",
        "p = [1] #[1]\n",
        "d = [0,1] #[0,1]\n",
        "q = [1] #[0,1]\n",
        "P = [0,1,2] #[0,1,2]\n",
        "D = [0] #[0]\n",
        "Q = [0] # [0,1]\n",
        "m = [0,7] #[0,7]\n",
        "trend = ['n','c','t','ct']\n",
        "\n",
        "y_test_inv = scaler_out.inverse_transform(y_test.reshape(-1,1))\n",
        "\n",
        "def train_score_model(y_train,regs_train, y_test_inv, regs_test,arima_order, seas_order, start=n, end=len(y)-1):\n",
        "\n",
        "  model_op = SARIMAX(y_train,exog=regs_train,order=arima_order,seasonal_order=seas_order).fit(method='powell')\n",
        "  \n",
        "  out = np.array(model_op.predict(start,end,exog=regs_test,))\n",
        "  out_inv = scaler_out.inverse_transform(out.reshape(-1,1))\n",
        "  \n",
        "  return mean_absolute_error(y_test_inv,out_inv)"
      ],
      "execution_count": 0,
      "outputs": []
    },
    {
      "cell_type": "code",
      "metadata": {
        "id": "3onQosdGOD5q",
        "colab_type": "code",
        "colab": {
          "base_uri": "https://localhost:8080/",
          "height": 833
        },
        "outputId": "cfdbf092-d458-400f-e550-946a36f26cd7"
      },
      "source": [
        "dico = {}\n",
        "\n",
        "for _p in p:\n",
        "  for _d in d:\n",
        "    for _q in q:\n",
        "      for _P in P:\n",
        "        for _D in D:\n",
        "          for _Q in Q:\n",
        "            for _m in m:\n",
        "                _arima = (_p,_d,_q)\n",
        "                _seas = (_P,_D,_Q,_m)\n",
        "                dico[str(_arima)+','+str(_seas)] = train_score_model(y_train,X_train,y_test_inv,X_test,_arima,_seas,start=1200,)"
      ],
      "execution_count": 7,
      "outputs": [
        {
          "output_type": "stream",
          "text": [
            "Optimization terminated successfully.\n",
            "         Current function value: -0.908531\n",
            "         Iterations: 3\n",
            "         Function evaluations: 205\n",
            "Optimization terminated successfully.\n",
            "         Current function value: -0.908531\n",
            "         Iterations: 3\n",
            "         Function evaluations: 205\n",
            "Optimization terminated successfully.\n",
            "         Current function value: -0.934595\n",
            "         Iterations: 9\n",
            "         Function evaluations: 721\n",
            "Optimization terminated successfully.\n",
            "         Current function value: -1.451296\n",
            "         Iterations: 6\n",
            "         Function evaluations: 497\n",
            "Optimization terminated successfully.\n",
            "         Current function value: -0.943891\n",
            "         Iterations: 5\n",
            "         Function evaluations: 472\n",
            "Optimization terminated successfully.\n",
            "         Current function value: -1.571832\n",
            "         Iterations: 4\n",
            "         Function evaluations: 400\n",
            "Optimization terminated successfully.\n",
            "         Current function value: -1.014284\n",
            "         Iterations: 5\n",
            "         Function evaluations: 351\n",
            "Optimization terminated successfully.\n",
            "         Current function value: -1.014284\n",
            "         Iterations: 5\n",
            "         Function evaluations: 351\n",
            "Optimization terminated successfully.\n",
            "         Current function value: -1.043510\n",
            "         Iterations: 5\n",
            "         Function evaluations: 416\n",
            "Optimization terminated successfully.\n",
            "         Current function value: -1.494637\n",
            "         Iterations: 10\n",
            "         Function evaluations: 856\n",
            "Optimization terminated successfully.\n",
            "         Current function value: -1.113638\n",
            "         Iterations: 6\n",
            "         Function evaluations: 573\n",
            "Optimization terminated successfully.\n",
            "         Current function value: -1.586651\n",
            "         Iterations: 10\n",
            "         Function evaluations: 1031\n"
          ],
          "name": "stdout"
        }
      ]
    },
    {
      "cell_type": "code",
      "metadata": {
        "id": "jsUtzDZvVX36",
        "colab_type": "code",
        "colab": {
          "base_uri": "https://localhost:8080/",
          "height": 221
        },
        "outputId": "b6d29ba7-47a7-469f-e983-19f6a802bf57"
      },
      "source": [
        "sorted(dico.items(), key=lambda x:x[1])"
      ],
      "execution_count": 8,
      "outputs": [
        {
          "output_type": "execute_result",
          "data": {
            "text/plain": [
              "[('(1, 0, 1),(2, 0, 0, 7)', 0.04689610090252247),\n",
              " ('(1, 1, 1),(2, 0, 0, 7)', 0.049007502060624895),\n",
              " ('(1, 0, 1),(1, 0, 0, 7)', 0.05296641492163813),\n",
              " ('(1, 1, 1),(1, 0, 0, 7)', 0.06644928649351672),\n",
              " ('(1, 1, 1),(2, 0, 0, 0)', 0.06882244153272392),\n",
              " ('(1, 0, 1),(2, 0, 0, 0)', 0.07521048047910087),\n",
              " ('(1, 0, 1),(1, 0, 0, 0)', 0.0774912142307979),\n",
              " ('(1, 0, 1),(0, 0, 0, 0)', 0.07918039208736855),\n",
              " ('(1, 0, 1),(0, 0, 0, 7)', 0.07918039208736855),\n",
              " ('(1, 1, 1),(0, 0, 0, 0)', 0.08312181396234765),\n",
              " ('(1, 1, 1),(0, 0, 0, 7)', 0.08312181396234765),\n",
              " ('(1, 1, 1),(1, 0, 0, 0)', 0.08656589402977295)]"
            ]
          },
          "metadata": {
            "tags": []
          },
          "execution_count": 8
        }
      ]
    },
    {
      "cell_type": "code",
      "metadata": {
        "id": "TllnPPWyC9ZM",
        "colab_type": "code",
        "colab": {
          "base_uri": "https://localhost:8080/",
          "height": 85
        },
        "outputId": "b73f9b31-d3b6-40a8-8600-f0f80420d95b"
      },
      "source": [
        "# Define and fit SARIMAX\n",
        "\n",
        "arima = (1,0,1) # AR, diff and MA from grid search\n",
        "seasonal = (2,0,0,7) # use m = 7 for seasonality, AR from grid search\n",
        "\n",
        "# From a grid search, the following have lowest MAE\n",
        "#(1, 0, 1),(2, 0, 0, 7)', 0.04701908475228621),\n",
        "# ('(1, 0, 0),(2, 0, 0, 7)', 0.04724594561118061),\n",
        "# ('(1, 1, 1),(2, 0, 0, 7)', 0.04825452865898891),\n",
        "# ('(1, 0, 0),(1, 0, 0, 7)', 0.04898568816029656),\n",
        "# ('(1, 1, 1),(1, 0, 1, 7)', 0.05008007903805577),\n",
        "# ('(1, 0, 1),(1, 0, 0, 7)', 0.050593459105267385),\n",
        "# ('(1, 1, 1),(1, 0, 0, 7)', 0.05857539866168278),\n",
        "# ('(1, 1, 0),(1, 0, 1, 7)', 0.0683257129226174),\n",
        "# ('(1, 1, 1),(2, 0, 1, 7)', 0.07363304326038127),\n",
        "# ('(1, 0, 0),(0, 0, 0, 7)', 0.07560881978961105),\n",
        "# ('(1, 0, 1),(0, 0, 0, 7)', 0.0792274244169828),\n",
        "# ('(1, 0, 1),(0, 0, 1, 7)', 0.08041924384926953),\n",
        "# ('(1, 1, 0),(1, 0, 0, 7)', 0.08070865548297948),\n",
        "# ('(1, 0, 0),(0, 0, 1, 7)', 0.08265722117141774),\n",
        "# ('(1, 1, 1),(0, 0, 0, 7)', 0.08299809736457218),\n",
        "# ('(1, 0, 1),(1, 0, 1, 7)', 0.08673344735080618),\n",
        "# ('(1, 0, 1),(2, 0, 1, 7)', 0.08705576861836783),\n",
        "# ('(1, 1, 1),(0, 0, 1, 7)', 0.08710159367216692),\n",
        "# ('(1, 1, 0),(0, 0, 0, 7)', 0.08749495682333003),\n",
        "# ('(1, 0, 0),(1, 0, 1, 7)', 0.09510547991083766),\n",
        "# ('(1, 0, 0),(2, 0, 1, 7)', 0.09525441624246912),\n",
        "# ('(1, 1, 0),(2, 0, 1, 7)', 0.10987851539687055),\n",
        "# ('(1, 1, 0),(0, 0, 1, 7)', 0.13792866105646728),\n",
        "# ('(1, 1, 0),(2, 0, 0, 7)', 0.14748914595073864)]\n",
        "\n",
        "model_1 = SARIMAX(y_train,exog=X_train,order=arima,seasonal_order=seasonal).fit(method='powell')"
      ],
      "execution_count": 9,
      "outputs": [
        {
          "output_type": "stream",
          "text": [
            "Optimization terminated successfully.\n",
            "         Current function value: -1.571832\n",
            "         Iterations: 4\n",
            "         Function evaluations: 400\n"
          ],
          "name": "stdout"
        }
      ]
    },
    {
      "cell_type": "code",
      "metadata": {
        "id": "s3j-wF5XEP9f",
        "colab_type": "code",
        "outputId": "d29ff639-3fa7-4a7a-92de-9f21f9dd2d13",
        "colab": {
          "base_uri": "https://localhost:8080/",
          "height": 510
        }
      },
      "source": [
        "print(model_1.summary())"
      ],
      "execution_count": 10,
      "outputs": [
        {
          "output_type": "stream",
          "text": [
            "                                 Statespace Model Results                                \n",
            "=========================================================================================\n",
            "Dep. Variable:                                 y   No. Observations:                 1200\n",
            "Model:             SARIMAX(1, 0, 1)x(2, 0, 0, 7)   Log Likelihood                1886.199\n",
            "Date:                           Sun, 14 Jun 2020   AIC                          -3756.397\n",
            "Time:                                   17:38:06   BIC                          -3715.677\n",
            "Sample:                                        0   HQIC                         -3741.058\n",
            "                                          - 1200                                         \n",
            "Covariance Type:                             opg                                         \n",
            "==============================================================================\n",
            "                 coef    std err          z      P>|z|      [0.025      0.975]\n",
            "------------------------------------------------------------------------------\n",
            "x1            -0.2161      0.019    -11.562      0.000      -0.253      -0.179\n",
            "x2            -0.1601      0.064     -2.488      0.013      -0.286      -0.034\n",
            "x3            -0.1402      0.006    -22.747      0.000      -0.152      -0.128\n",
            "ar.L1          0.7790      0.027     28.644      0.000       0.726       0.832\n",
            "ma.L1         -0.1551      0.040     -3.864      0.000      -0.234      -0.076\n",
            "ar.S.L7        0.5120      0.025     20.652      0.000       0.463       0.561\n",
            "ar.S.L14       0.4693      0.025     19.084      0.000       0.421       0.517\n",
            "sigma2         0.0025   9.81e-05     25.249      0.000       0.002       0.003\n",
            "===================================================================================\n",
            "Ljung-Box (Q):                      137.23   Jarque-Bera (JB):                10.45\n",
            "Prob(Q):                              0.00   Prob(JB):                         0.01\n",
            "Heteroskedasticity (H):               1.06   Skew:                            -0.21\n",
            "Prob(H) (two-sided):                  0.57   Kurtosis:                         3.20\n",
            "===================================================================================\n",
            "\n",
            "Warnings:\n",
            "[1] Covariance matrix calculated using the outer product of gradients (complex-step).\n"
          ],
          "name": "stdout"
        }
      ]
    },
    {
      "cell_type": "code",
      "metadata": {
        "id": "dq8fdouaEd4X",
        "colab_type": "code",
        "colab": {}
      },
      "source": [
        "# Use model_1 to predict the test data\n",
        "\n",
        "model_1_out_insample = model_1.predict()\n",
        "model_1_out_outsample = model_1.predict(start=n,end=len(y)-1,exog=X_test,)\n",
        "\n",
        "model_1_out = np.append(model_1_out_insample,model_1_out_outsample)\n",
        "model_1_out = scaler_out.inverse_transform(model_1_out.reshape(-1,1))\n",
        "\n",
        "# Map it back to the df for plotting\n",
        "data_ar['model_1_forecast'] = model_1_out"
      ],
      "execution_count": 0,
      "outputs": []
    },
    {
      "cell_type": "code",
      "metadata": {
        "id": "CtDQQm0qHvAX",
        "colab_type": "code",
        "outputId": "7093df77-0cb9-4924-f457-b5ad88a336be",
        "colab": {
          "base_uri": "https://localhost:8080/",
          "height": 542
        }
      },
      "source": [
        "# Show in-sample forecasts\n",
        "cutoff = dt.datetime(2019,9,2)\n",
        "plt_df = data_ar[data_ar['Date']>=cutoff]\n",
        "fig = go.Figure()\n",
        "fig.add_trace(go.Scatter(x=plt_df['Date'], y=plt_df['Log_load'],\n",
        "                    mode='lines',\n",
        "                    name='Log load'))\n",
        "fig.add_trace(go.Scatter(x=plt_df['Date'], y=plt_df['model_1_forecast'],\n",
        "                    mode='lines',\n",
        "                    name='SARIMAX'))\n",
        "fig.show()"
      ],
      "execution_count": 12,
      "outputs": [
        {
          "output_type": "display_data",
          "data": {
            "text/html": [
              "<html>\n",
              "<head><meta charset=\"utf-8\" /></head>\n",
              "<body>\n",
              "    <div>\n",
              "            <script src=\"https://cdnjs.cloudflare.com/ajax/libs/mathjax/2.7.5/MathJax.js?config=TeX-AMS-MML_SVG\"></script><script type=\"text/javascript\">if (window.MathJax) {MathJax.Hub.Config({SVG: {font: \"STIX-Web\"}});}</script>\n",
              "                <script type=\"text/javascript\">window.PlotlyConfig = {MathJaxConfig: 'local'};</script>\n",
              "        <script src=\"https://cdn.plot.ly/plotly-latest.min.js\"></script>    \n",
              "            <div id=\"395aac7b-3a30-407e-bb1d-a881c40662b5\" class=\"plotly-graph-div\" style=\"height:525px; width:100%;\"></div>\n",
              "            <script type=\"text/javascript\">\n",
              "                \n",
              "                    window.PLOTLYENV=window.PLOTLYENV || {};\n",
              "                    \n",
              "                if (document.getElementById(\"395aac7b-3a30-407e-bb1d-a881c40662b5\")) {\n",
              "                    Plotly.newPlot(\n",
              "                        '395aac7b-3a30-407e-bb1d-a881c40662b5',\n",
              "                        [{\"mode\": \"lines\", \"name\": \"Log load\", \"type\": \"scatter\", \"x\": [\"2019-09-02T00:00:00\", \"2019-09-03T00:00:00\", \"2019-09-04T00:00:00\", \"2019-09-05T00:00:00\", \"2019-09-06T00:00:00\", \"2019-09-07T00:00:00\", \"2019-09-08T00:00:00\", \"2019-09-09T00:00:00\", \"2019-09-10T00:00:00\", \"2019-09-11T00:00:00\", \"2019-09-12T00:00:00\", \"2019-09-13T00:00:00\", \"2019-09-14T00:00:00\", \"2019-09-15T00:00:00\", \"2019-09-16T00:00:00\", \"2019-09-17T00:00:00\", \"2019-09-18T00:00:00\", \"2019-09-19T00:00:00\", \"2019-09-20T00:00:00\", \"2019-09-21T00:00:00\", \"2019-09-22T00:00:00\", \"2019-09-23T00:00:00\", \"2019-09-24T00:00:00\", \"2019-09-25T00:00:00\", \"2019-09-26T00:00:00\", \"2019-09-27T00:00:00\", \"2019-09-28T00:00:00\", \"2019-09-29T00:00:00\", \"2019-09-30T00:00:00\", \"2019-10-01T00:00:00\", \"2019-10-02T00:00:00\", \"2019-10-03T00:00:00\", \"2019-10-04T00:00:00\", \"2019-10-05T00:00:00\", \"2019-10-06T00:00:00\", \"2019-10-07T00:00:00\", \"2019-10-08T00:00:00\", \"2019-10-09T00:00:00\", \"2019-10-10T00:00:00\", \"2019-10-11T00:00:00\", \"2019-10-12T00:00:00\", \"2019-10-13T00:00:00\", \"2019-10-14T00:00:00\", \"2019-10-15T00:00:00\", \"2019-10-16T00:00:00\", \"2019-10-17T00:00:00\", \"2019-10-18T00:00:00\", \"2019-10-19T00:00:00\", \"2019-10-20T00:00:00\", \"2019-10-21T00:00:00\", \"2019-10-22T00:00:00\", \"2019-10-23T00:00:00\", \"2019-10-24T00:00:00\", \"2019-10-25T00:00:00\", \"2019-10-26T00:00:00\", \"2019-10-27T00:00:00\", \"2019-10-28T00:00:00\", \"2019-10-29T00:00:00\", \"2019-10-30T00:00:00\", \"2019-10-31T00:00:00\", \"2019-11-01T00:00:00\", \"2019-11-02T00:00:00\", \"2019-11-03T00:00:00\", \"2019-11-04T00:00:00\", \"2019-11-05T00:00:00\", \"2019-11-06T00:00:00\", \"2019-11-07T00:00:00\", \"2019-11-08T00:00:00\", \"2019-11-09T00:00:00\", \"2019-11-10T00:00:00\", \"2019-11-11T00:00:00\", \"2019-11-12T00:00:00\", \"2019-11-13T00:00:00\", \"2019-11-14T00:00:00\", \"2019-11-15T00:00:00\", \"2019-11-16T00:00:00\", \"2019-11-17T00:00:00\", \"2019-11-18T00:00:00\", \"2019-11-19T00:00:00\", \"2019-11-20T00:00:00\", \"2019-11-21T00:00:00\", \"2019-11-22T00:00:00\", \"2019-11-23T00:00:00\", \"2019-11-24T00:00:00\", \"2019-11-25T00:00:00\", \"2019-11-26T00:00:00\", \"2019-11-27T00:00:00\", \"2019-11-28T00:00:00\", \"2019-11-29T00:00:00\", \"2019-11-30T00:00:00\", \"2019-12-01T00:00:00\", \"2019-12-02T00:00:00\", \"2019-12-03T00:00:00\", \"2019-12-04T00:00:00\", \"2019-12-05T00:00:00\", \"2019-12-06T00:00:00\", \"2019-12-07T00:00:00\", \"2019-12-08T00:00:00\", \"2019-12-09T00:00:00\", \"2019-12-10T00:00:00\", \"2019-12-11T00:00:00\", \"2019-12-12T00:00:00\", \"2019-12-13T00:00:00\", \"2019-12-14T00:00:00\", \"2019-12-15T00:00:00\", \"2019-12-16T00:00:00\", \"2019-12-17T00:00:00\", \"2019-12-18T00:00:00\", \"2019-12-19T00:00:00\", \"2019-12-20T00:00:00\", \"2019-12-21T00:00:00\", \"2019-12-22T00:00:00\", \"2019-12-23T00:00:00\", \"2019-12-24T00:00:00\", \"2019-12-25T00:00:00\", \"2019-12-26T00:00:00\", \"2019-12-27T00:00:00\", \"2019-12-28T00:00:00\", \"2019-12-29T00:00:00\", \"2019-12-30T00:00:00\", \"2019-12-31T00:00:00\", \"2020-01-01T00:00:00\", \"2020-01-02T00:00:00\", \"2020-01-03T00:00:00\", \"2020-01-04T00:00:00\", \"2020-01-05T00:00:00\", \"2020-01-06T00:00:00\", \"2020-01-07T00:00:00\", \"2020-01-08T00:00:00\", \"2020-01-09T00:00:00\", \"2020-01-10T00:00:00\", \"2020-01-11T00:00:00\", \"2020-01-12T00:00:00\", \"2020-01-13T00:00:00\", \"2020-01-14T00:00:00\", \"2020-01-15T00:00:00\", \"2020-01-16T00:00:00\", \"2020-01-17T00:00:00\", \"2020-01-18T00:00:00\", \"2020-01-19T00:00:00\", \"2020-01-20T00:00:00\", \"2020-01-21T00:00:00\", \"2020-01-22T00:00:00\", \"2020-01-23T00:00:00\", \"2020-01-24T00:00:00\", \"2020-01-25T00:00:00\", \"2020-01-26T00:00:00\", \"2020-01-27T00:00:00\", \"2020-01-28T00:00:00\", \"2020-01-29T00:00:00\", \"2020-01-30T00:00:00\", \"2020-01-31T00:00:00\", \"2020-02-01T00:00:00\", \"2020-02-02T00:00:00\", \"2020-02-03T00:00:00\", \"2020-02-04T00:00:00\", \"2020-02-05T00:00:00\", \"2020-02-06T00:00:00\", \"2020-02-07T00:00:00\", \"2020-02-08T00:00:00\", \"2020-02-09T00:00:00\", \"2020-02-10T00:00:00\", \"2020-02-11T00:00:00\", \"2020-02-12T00:00:00\", \"2020-02-13T00:00:00\", \"2020-02-14T00:00:00\", \"2020-02-15T00:00:00\", \"2020-02-16T00:00:00\", \"2020-02-17T00:00:00\", \"2020-02-18T00:00:00\", \"2020-02-19T00:00:00\", \"2020-02-20T00:00:00\", \"2020-02-21T00:00:00\", \"2020-02-22T00:00:00\", \"2020-02-23T00:00:00\", \"2020-02-24T00:00:00\", \"2020-02-25T00:00:00\", \"2020-02-26T00:00:00\", \"2020-02-27T00:00:00\", \"2020-02-28T00:00:00\", \"2020-02-29T00:00:00\", \"2020-03-01T00:00:00\", \"2020-03-02T00:00:00\", \"2020-03-03T00:00:00\", \"2020-03-04T00:00:00\", \"2020-03-05T00:00:00\", \"2020-03-06T00:00:00\", \"2020-03-07T00:00:00\", \"2020-03-08T00:00:00\", \"2020-03-09T00:00:00\", \"2020-03-10T00:00:00\", \"2020-03-11T00:00:00\", \"2020-03-12T00:00:00\", \"2020-03-13T00:00:00\", \"2020-03-14T00:00:00\", \"2020-03-15T00:00:00\", \"2020-03-16T00:00:00\", \"2020-03-17T00:00:00\", \"2020-03-18T00:00:00\", \"2020-03-19T00:00:00\", \"2020-03-20T00:00:00\", \"2020-03-21T00:00:00\", \"2020-03-22T00:00:00\", \"2020-03-23T00:00:00\", \"2020-03-24T00:00:00\", \"2020-03-25T00:00:00\", \"2020-03-26T00:00:00\", \"2020-03-27T00:00:00\", \"2020-03-28T00:00:00\", \"2020-03-29T00:00:00\", \"2020-03-30T00:00:00\", \"2020-03-31T00:00:00\", \"2020-04-01T00:00:00\", \"2020-04-02T00:00:00\", \"2020-04-03T00:00:00\", \"2020-04-04T00:00:00\", \"2020-04-05T00:00:00\", \"2020-04-06T00:00:00\", \"2020-04-07T00:00:00\", \"2020-04-08T00:00:00\", \"2020-04-09T00:00:00\", \"2020-04-10T00:00:00\", \"2020-04-11T00:00:00\", \"2020-04-12T00:00:00\", \"2020-04-13T00:00:00\", \"2020-04-14T00:00:00\", \"2020-04-15T00:00:00\", \"2020-04-16T00:00:00\", \"2020-04-17T00:00:00\", \"2020-04-18T00:00:00\", \"2020-04-19T00:00:00\", \"2020-04-20T00:00:00\", \"2020-04-21T00:00:00\", \"2020-04-22T00:00:00\", \"2020-04-23T00:00:00\", \"2020-04-24T00:00:00\", \"2020-04-25T00:00:00\", \"2020-04-26T00:00:00\", \"2020-04-27T00:00:00\", \"2020-04-28T00:00:00\", \"2020-04-29T00:00:00\", \"2020-04-30T00:00:00\", \"2020-05-01T00:00:00\", \"2020-05-02T00:00:00\", \"2020-05-03T00:00:00\", \"2020-05-04T00:00:00\", \"2020-05-05T00:00:00\", \"2020-05-06T00:00:00\", \"2020-05-07T00:00:00\", \"2020-05-08T00:00:00\", \"2020-05-09T00:00:00\", \"2020-05-10T00:00:00\", \"2020-05-11T00:00:00\", \"2020-05-12T00:00:00\", \"2020-05-13T00:00:00\", \"2020-05-14T00:00:00\", \"2020-05-15T00:00:00\", \"2020-05-16T00:00:00\", \"2020-05-17T00:00:00\", \"2020-05-18T00:00:00\", \"2020-05-19T00:00:00\", \"2020-05-20T00:00:00\", \"2020-05-21T00:00:00\", \"2020-05-22T00:00:00\", \"2020-05-23T00:00:00\", \"2020-05-24T00:00:00\", \"2020-05-25T00:00:00\", \"2020-05-26T00:00:00\", \"2020-05-27T00:00:00\", \"2020-05-28T00:00:00\", \"2020-05-29T00:00:00\", \"2020-05-30T00:00:00\", \"2020-05-31T00:00:00\", \"2020-06-01T00:00:00\", \"2020-06-02T00:00:00\", \"2020-06-03T00:00:00\", \"2020-06-04T00:00:00\", \"2020-06-05T00:00:00\", \"2020-06-06T00:00:00\", \"2020-06-07T00:00:00\", \"2020-06-08T00:00:00\", \"2020-06-09T00:00:00\", \"2020-06-10T00:00:00\", \"2020-06-11T00:00:00\"], \"y\": [10.071818465937206, 10.092093142950638, 10.045986687553137, 10.064995033191936, 10.081155066889545, 9.982062837764103, 9.953481357277624, 10.185510674538575, 10.147669078770729, 10.118158646935308, 10.122421422361734, 10.086572706465569, 9.947609097547666, 9.970005558668664, 10.173970215752455, 10.111827062780323, 10.140201935348536, 10.129334945174634, 10.074458475593635, 9.935011453288755, 10.026359469842097, 10.132453288790419, 10.169995463691325, 10.187430612208525, 10.110317931454786, 10.097518069043726, 9.982060912169432, 10.011512016730114, 10.195248015659972, 10.174180816310901, 10.178220520929235, 10.244203006108522, 10.19177647219389, 10.104469847173487, 10.037490188420602, 10.227146651462446, 10.163599281950326, 10.185874379765313, 10.17172874475337, 10.189663804433998, 10.129872511607514, 10.118019127001773, 10.266778479067149, 10.252252964988832, 10.226388199632973, 10.240174051915723, 10.218874464678185, 10.128040110733759, 10.091616001234463, 10.27219430217922, 10.275367151091004, 10.286432928579925, 10.281140290834797, 10.260093535647117, 10.173624416553409, 10.119225416112945, 10.312846458962623, 10.307320774174906, 10.293750186401095, 10.3210884455465, 10.285403231062823, 10.167082629627522, 10.180783058372755, 10.319329193399799, 10.313861426249938, 10.358937877755007, 10.344949700328378, 10.338564050499848, 10.297661375670554, 10.229354645746932, 10.318876863433353, 10.34469443925217, 10.374700086075022, 10.381626618877073, 10.362815255716898, 10.278570054005733, 10.271411591538845, 10.370778521468484, 10.430130544462369, 10.394860825152087, 10.414240048528349, 10.374272126764936, 10.266503185203455, 10.26167322974248, 10.356786018013704, 10.349976634765294, 10.36084580969972, 10.355667259619347, 10.374843132172453, 10.316808528022197, 10.299858657594458, 10.430819937015672, 10.418801214873378, 10.425492331049774, 10.395231014510328, 10.316940809260554, 10.221256200675262, 10.15574482336794, 10.338729885631794, 10.374545963741236, 10.39559788274629, 10.414326301115988, 10.359896588560483, 10.249301436568357, 10.242083276889119, 10.39315337856863, 10.433683112059638, 10.40410499981062, 10.339375436802055, 10.346050395269973, 10.250743695050394, 10.21017153363269, 10.257870601138066, 10.21324372091246, 10.125318576062472, 10.129773660841577, 10.241940712617993, 10.195468185549357, 10.161038166493817, 10.230521038613935, 10.240193392941281, 10.190043209570197, 10.276574373499248, 10.29238350836203, 10.222491889619132, 10.218001715554887, 10.29625924458171, 10.325727834005994, 10.340022591321844, 10.330131655127259, 10.338147993386805, 10.186084844374301, 10.194147218802247, 10.329147367929812, 10.337357885149459, 10.328824729973762, 10.33421895688521, 10.348498507901564, 10.274660227986892, 10.29595325552951, 10.415057898927373, 10.42537983927021, 10.419941681506263, 10.421312995306666, 10.402126089524486, 10.299197595447767, 10.23825819345464, 10.359635873136389, 10.353216060065273, 10.345651499964, 10.343905465115629, 10.288036121511949, 10.136137441763788, 10.180801214564156, 10.28744453815096, 10.328638178686937, 10.386473601591625, 10.379313392479874, 10.330502127340813, 10.161051854052468, 10.183205180331795, 10.312997248039954, 10.327087230839775, 10.342537865991453, 10.36146736158885, 10.34310378765494, 10.211185924307538, 10.164102692022173, 10.284171745544258, 10.31423590193654, 10.354638805978691, 10.314507343677175, 10.304171108332689, 10.152881039768372, 10.168031331161785, 10.312818788642106, 10.325828214118935, 10.346134705136896, 10.353985113132822, 10.374919199179503, 10.165277132673438, 10.150021242443252, 10.3337658620611, 10.351400000135495, 10.392502033390208, 10.404640294355444, 10.339205666207512, 10.194320125694652, 10.104231256833069, 10.289082239270146, 10.2589655303967, 10.22941630503069, 10.219918025884718, 10.294767103032862, 10.175940974092029, 10.143387429210112, 10.252590988262734, 10.244571904838894, 10.29938130658146, 10.316652799446958, 10.240698355635676, 10.076098046724985, 10.07127165912997, 10.18790962947213, 10.132961027545207, 10.107817737074575, 10.093769528453192, 10.054393688805623, 9.984543208542695, 9.988365666153268, 10.151880471992675, 10.168391058348568, 10.182107594791363, 10.077550272441277, 10.092266513954522, 9.958747811853412, 9.84926673150705, 9.97070704696352, 9.995771377240978, 9.993933649117217, 9.951272251076906, 9.876385033243512, 9.846927121633446, 9.84024596779063, 9.818736119947342, 9.971878993199814, 9.949046310856664, 9.9355634108697, 9.942700252836794, 9.978453935911396, 9.832740911951916, 9.852167942012837, 9.852190968669483, 9.883052037508751, 9.925184829927174, 9.91271549596984, 9.85764756356719, 9.855421501133755, 9.983549490793987, 10.088053983546741, 10.03999692843852, 10.010422141190784, 9.972305964361434, 9.881878669942575, 9.95416977484049, 9.949410514970225, 9.918743503135897, 9.923895592938033, 9.925754461256606, 9.84739327818122, 9.789980517992511, 9.830462007167618, 9.907633114474534, 9.996307892836777, 9.983895578088346, 9.971850781395313, 9.86599875541674, 9.819316456309348, 9.898239430201855, 9.940097689624647, 9.922720164463234, 9.920586364416916, 9.920586364580757, 9.791886540421947, 9.729349915925054, 9.755190539853976, 9.780205833227503, 9.913885390668717, 9.92046552414792, 9.884741054838695, 10.03999692843852, 9.75549737189008, 9.735051642182352, 9.900428712350852, 9.91774994288534, 9.987252171297552, 9.983279267175083, 9.90032735603775, 9.82852713399936, 9.888716495632448, 9.994616655170066, 10.01065050532775, 10.064075504312507, 9.97622866834814]}, {\"mode\": \"lines\", \"name\": \"SARIMAX\", \"type\": \"scatter\", \"x\": [\"2019-09-02T00:00:00\", \"2019-09-03T00:00:00\", \"2019-09-04T00:00:00\", \"2019-09-05T00:00:00\", \"2019-09-06T00:00:00\", \"2019-09-07T00:00:00\", \"2019-09-08T00:00:00\", \"2019-09-09T00:00:00\", \"2019-09-10T00:00:00\", \"2019-09-11T00:00:00\", \"2019-09-12T00:00:00\", \"2019-09-13T00:00:00\", \"2019-09-14T00:00:00\", \"2019-09-15T00:00:00\", \"2019-09-16T00:00:00\", \"2019-09-17T00:00:00\", \"2019-09-18T00:00:00\", \"2019-09-19T00:00:00\", \"2019-09-20T00:00:00\", \"2019-09-21T00:00:00\", \"2019-09-22T00:00:00\", \"2019-09-23T00:00:00\", \"2019-09-24T00:00:00\", \"2019-09-25T00:00:00\", \"2019-09-26T00:00:00\", \"2019-09-27T00:00:00\", \"2019-09-28T00:00:00\", \"2019-09-29T00:00:00\", \"2019-09-30T00:00:00\", \"2019-10-01T00:00:00\", \"2019-10-02T00:00:00\", \"2019-10-03T00:00:00\", \"2019-10-04T00:00:00\", \"2019-10-05T00:00:00\", \"2019-10-06T00:00:00\", \"2019-10-07T00:00:00\", \"2019-10-08T00:00:00\", \"2019-10-09T00:00:00\", \"2019-10-10T00:00:00\", \"2019-10-11T00:00:00\", \"2019-10-12T00:00:00\", \"2019-10-13T00:00:00\", \"2019-10-14T00:00:00\", \"2019-10-15T00:00:00\", \"2019-10-16T00:00:00\", \"2019-10-17T00:00:00\", \"2019-10-18T00:00:00\", \"2019-10-19T00:00:00\", \"2019-10-20T00:00:00\", \"2019-10-21T00:00:00\", \"2019-10-22T00:00:00\", \"2019-10-23T00:00:00\", \"2019-10-24T00:00:00\", \"2019-10-25T00:00:00\", \"2019-10-26T00:00:00\", \"2019-10-27T00:00:00\", \"2019-10-28T00:00:00\", \"2019-10-29T00:00:00\", \"2019-10-30T00:00:00\", \"2019-10-31T00:00:00\", \"2019-11-01T00:00:00\", \"2019-11-02T00:00:00\", \"2019-11-03T00:00:00\", \"2019-11-04T00:00:00\", \"2019-11-05T00:00:00\", \"2019-11-06T00:00:00\", \"2019-11-07T00:00:00\", \"2019-11-08T00:00:00\", \"2019-11-09T00:00:00\", \"2019-11-10T00:00:00\", \"2019-11-11T00:00:00\", \"2019-11-12T00:00:00\", \"2019-11-13T00:00:00\", \"2019-11-14T00:00:00\", \"2019-11-15T00:00:00\", \"2019-11-16T00:00:00\", \"2019-11-17T00:00:00\", \"2019-11-18T00:00:00\", \"2019-11-19T00:00:00\", \"2019-11-20T00:00:00\", \"2019-11-21T00:00:00\", \"2019-11-22T00:00:00\", \"2019-11-23T00:00:00\", \"2019-11-24T00:00:00\", \"2019-11-25T00:00:00\", \"2019-11-26T00:00:00\", \"2019-11-27T00:00:00\", \"2019-11-28T00:00:00\", \"2019-11-29T00:00:00\", \"2019-11-30T00:00:00\", \"2019-12-01T00:00:00\", \"2019-12-02T00:00:00\", \"2019-12-03T00:00:00\", \"2019-12-04T00:00:00\", \"2019-12-05T00:00:00\", \"2019-12-06T00:00:00\", \"2019-12-07T00:00:00\", \"2019-12-08T00:00:00\", \"2019-12-09T00:00:00\", \"2019-12-10T00:00:00\", \"2019-12-11T00:00:00\", \"2019-12-12T00:00:00\", \"2019-12-13T00:00:00\", \"2019-12-14T00:00:00\", \"2019-12-15T00:00:00\", \"2019-12-16T00:00:00\", \"2019-12-17T00:00:00\", \"2019-12-18T00:00:00\", \"2019-12-19T00:00:00\", \"2019-12-20T00:00:00\", \"2019-12-21T00:00:00\", \"2019-12-22T00:00:00\", \"2019-12-23T00:00:00\", \"2019-12-24T00:00:00\", \"2019-12-25T00:00:00\", \"2019-12-26T00:00:00\", \"2019-12-27T00:00:00\", \"2019-12-28T00:00:00\", \"2019-12-29T00:00:00\", \"2019-12-30T00:00:00\", \"2019-12-31T00:00:00\", \"2020-01-01T00:00:00\", \"2020-01-02T00:00:00\", \"2020-01-03T00:00:00\", \"2020-01-04T00:00:00\", \"2020-01-05T00:00:00\", \"2020-01-06T00:00:00\", \"2020-01-07T00:00:00\", \"2020-01-08T00:00:00\", \"2020-01-09T00:00:00\", \"2020-01-10T00:00:00\", \"2020-01-11T00:00:00\", \"2020-01-12T00:00:00\", \"2020-01-13T00:00:00\", \"2020-01-14T00:00:00\", \"2020-01-15T00:00:00\", \"2020-01-16T00:00:00\", \"2020-01-17T00:00:00\", \"2020-01-18T00:00:00\", \"2020-01-19T00:00:00\", \"2020-01-20T00:00:00\", \"2020-01-21T00:00:00\", \"2020-01-22T00:00:00\", \"2020-01-23T00:00:00\", \"2020-01-24T00:00:00\", \"2020-01-25T00:00:00\", \"2020-01-26T00:00:00\", \"2020-01-27T00:00:00\", \"2020-01-28T00:00:00\", \"2020-01-29T00:00:00\", \"2020-01-30T00:00:00\", \"2020-01-31T00:00:00\", \"2020-02-01T00:00:00\", \"2020-02-02T00:00:00\", \"2020-02-03T00:00:00\", \"2020-02-04T00:00:00\", \"2020-02-05T00:00:00\", \"2020-02-06T00:00:00\", \"2020-02-07T00:00:00\", \"2020-02-08T00:00:00\", \"2020-02-09T00:00:00\", \"2020-02-10T00:00:00\", \"2020-02-11T00:00:00\", \"2020-02-12T00:00:00\", \"2020-02-13T00:00:00\", \"2020-02-14T00:00:00\", \"2020-02-15T00:00:00\", \"2020-02-16T00:00:00\", \"2020-02-17T00:00:00\", \"2020-02-18T00:00:00\", \"2020-02-19T00:00:00\", \"2020-02-20T00:00:00\", \"2020-02-21T00:00:00\", \"2020-02-22T00:00:00\", \"2020-02-23T00:00:00\", \"2020-02-24T00:00:00\", \"2020-02-25T00:00:00\", \"2020-02-26T00:00:00\", \"2020-02-27T00:00:00\", \"2020-02-28T00:00:00\", \"2020-02-29T00:00:00\", \"2020-03-01T00:00:00\", \"2020-03-02T00:00:00\", \"2020-03-03T00:00:00\", \"2020-03-04T00:00:00\", \"2020-03-05T00:00:00\", \"2020-03-06T00:00:00\", \"2020-03-07T00:00:00\", \"2020-03-08T00:00:00\", \"2020-03-09T00:00:00\", \"2020-03-10T00:00:00\", \"2020-03-11T00:00:00\", \"2020-03-12T00:00:00\", \"2020-03-13T00:00:00\", \"2020-03-14T00:00:00\", \"2020-03-15T00:00:00\", \"2020-03-16T00:00:00\", \"2020-03-17T00:00:00\", \"2020-03-18T00:00:00\", \"2020-03-19T00:00:00\", \"2020-03-20T00:00:00\", \"2020-03-21T00:00:00\", \"2020-03-22T00:00:00\", \"2020-03-23T00:00:00\", \"2020-03-24T00:00:00\", \"2020-03-25T00:00:00\", \"2020-03-26T00:00:00\", \"2020-03-27T00:00:00\", \"2020-03-28T00:00:00\", \"2020-03-29T00:00:00\", \"2020-03-30T00:00:00\", \"2020-03-31T00:00:00\", \"2020-04-01T00:00:00\", \"2020-04-02T00:00:00\", \"2020-04-03T00:00:00\", \"2020-04-04T00:00:00\", \"2020-04-05T00:00:00\", \"2020-04-06T00:00:00\", \"2020-04-07T00:00:00\", \"2020-04-08T00:00:00\", \"2020-04-09T00:00:00\", \"2020-04-10T00:00:00\", \"2020-04-11T00:00:00\", \"2020-04-12T00:00:00\", \"2020-04-13T00:00:00\", \"2020-04-14T00:00:00\", \"2020-04-15T00:00:00\", \"2020-04-16T00:00:00\", \"2020-04-17T00:00:00\", \"2020-04-18T00:00:00\", \"2020-04-19T00:00:00\", \"2020-04-20T00:00:00\", \"2020-04-21T00:00:00\", \"2020-04-22T00:00:00\", \"2020-04-23T00:00:00\", \"2020-04-24T00:00:00\", \"2020-04-25T00:00:00\", \"2020-04-26T00:00:00\", \"2020-04-27T00:00:00\", \"2020-04-28T00:00:00\", \"2020-04-29T00:00:00\", \"2020-04-30T00:00:00\", \"2020-05-01T00:00:00\", \"2020-05-02T00:00:00\", \"2020-05-03T00:00:00\", \"2020-05-04T00:00:00\", \"2020-05-05T00:00:00\", \"2020-05-06T00:00:00\", \"2020-05-07T00:00:00\", \"2020-05-08T00:00:00\", \"2020-05-09T00:00:00\", \"2020-05-10T00:00:00\", \"2020-05-11T00:00:00\", \"2020-05-12T00:00:00\", \"2020-05-13T00:00:00\", \"2020-05-14T00:00:00\", \"2020-05-15T00:00:00\", \"2020-05-16T00:00:00\", \"2020-05-17T00:00:00\", \"2020-05-18T00:00:00\", \"2020-05-19T00:00:00\", \"2020-05-20T00:00:00\", \"2020-05-21T00:00:00\", \"2020-05-22T00:00:00\", \"2020-05-23T00:00:00\", \"2020-05-24T00:00:00\", \"2020-05-25T00:00:00\", \"2020-05-26T00:00:00\", \"2020-05-27T00:00:00\", \"2020-05-28T00:00:00\", \"2020-05-29T00:00:00\", \"2020-05-30T00:00:00\", \"2020-05-31T00:00:00\", \"2020-06-01T00:00:00\", \"2020-06-02T00:00:00\", \"2020-06-03T00:00:00\", \"2020-06-04T00:00:00\", \"2020-06-05T00:00:00\", \"2020-06-06T00:00:00\", \"2020-06-07T00:00:00\", \"2020-06-08T00:00:00\", \"2020-06-09T00:00:00\", \"2020-06-10T00:00:00\", \"2020-06-11T00:00:00\"], \"y\": [10.056350029400901, 10.092646616113878, 10.100265173596497, 10.034966034744809, 10.04792598651749, 9.951772845938931, 9.958546472661544, 10.116007651390973, 10.192501257429003, 10.100005359014824, 10.065607200722186, 10.110796274957611, 9.98029178501645, 9.891409347145117, 10.158911564948266, 10.174811701541866, 10.100843799329166, 10.11722302899366, 10.096847254147415, 9.941307885281608, 9.93684789063243, 10.213319853465928, 10.092074067759544, 10.151674118201155, 10.165757515371508, 10.07923445257473, 9.95916792047991, 10.030875055560648, 10.169742253083589, 10.158386474933533, 10.217095581615226, 10.153276413659897, 10.152999538795829, 10.040268325705393, 10.118398320597917, 10.192893329040542, 10.212781438361876, 10.173953794265406, 10.178512236776758, 10.131288187275734, 10.082211912888146, 10.087730464797682, 10.273344616664525, 10.21629376130367, 10.219996605677279, 10.244514327282404, 10.229948793653188, 10.137489030202158, 10.106633663262404, 10.240864250326906, 10.23608834249607, 10.256962986421787, 10.249349235770843, 10.263616576981079, 10.175036349542186, 10.145087002001727, 10.301179364820857, 10.290226600903122, 10.284219378045433, 10.285103449642042, 10.267236384387758, 10.18587503526471, 10.115239741344782, 10.331434804635057, 10.310390000127084, 10.326166230325361, 10.346720795930755, 10.325731320836809, 10.236871418957247, 10.223768807074162, 10.364748448461501, 10.324531463083781, 10.343252508507657, 10.373980225950657, 10.344146015755399, 10.257935144293288, 10.243558840610957, 10.370189491510912, 10.386468968259411, 10.421778258645798, 10.385119548608975, 10.374274063074912, 10.28884577453213, 10.23198494621805, 10.333997287493142, 10.369029319343442, 10.358776596128521, 10.379607213586477, 10.370064777589967, 10.292501786774665, 10.298288745444223, 10.3972874980635, 10.422712842745101, 10.397384077587446, 10.406416140119052, 10.360115395551816, 10.243379260962534, 10.23008594275253, 10.310090574732042, 10.345310224879935, 10.384652603928563, 10.380497448370162, 10.353529007942852, 10.281108417577494, 10.215481976701911, 10.378102064336522, 10.411617839579495, 10.419624907615022, 10.393926709368314, 10.297744461655446, 10.241511528119448, 10.203172058951766, 10.362997896945053, 10.321785654617244, 10.162821424102303, 10.1480823576794, 10.247201572418058, 10.152440090752757, 10.16914673698235, 10.277637119568563, 10.255887839299435, 10.142328952765576, 10.257776352687792, 10.284191877386709, 10.223349143038265, 10.184643867756858, 10.251559790019664, 10.251097334396327, 10.319688798911224, 10.312756348451297, 10.332708482494391, 10.258005865664485, 10.176435727350201, 10.26867293203111, 10.310474324513173, 10.365043923816481, 10.308912534069563, 10.33279714597642, 10.240374062879656, 10.275226108131315, 10.377482295517328, 10.41269057608398, 10.399011017767354, 10.387210947221364, 10.398573664337544, 10.270471762593576, 10.284237368251082, 10.370375481053493, 10.387748351058754, 10.348623991675085, 10.348996489134834, 10.32990836924428, 10.214983201036375, 10.137710178214743, 10.300636011384286, 10.306330356972076, 10.335765393612238, 10.387898504598633, 10.34101190256614, 10.191139546859608, 10.162952748230712, 10.307572153025296, 10.330002977333159, 10.347560253101975, 10.336392835288514, 10.305953446232479, 10.163248543508498, 10.231106246587256, 10.288717199697953, 10.305241972791126, 10.347669844442208, 10.35312771982216, 10.297291022298692, 10.15908050414626, 10.151653326971852, 10.276242862109159, 10.331549470323802, 10.359108225224485, 10.339207289128273, 10.32855914685925, 10.226346895191533, 10.165741940934819, 10.287521879032658, 10.326819666265195, 10.372085358811677, 10.36313709671662, 10.39512642403688, 10.158189545170268, 10.164630707672677, 10.284152978551493, 10.291252158619828, 10.300596905097445, 10.2934803052825, 10.231636711290491, 10.121059870176659, 10.11476932366088, 10.314681028781202, 10.24359445793813, 10.252348310735602, 10.27763668501306, 10.32106314882943, 10.11224391530201, 10.038476330155907, 10.157905999184653, 10.175504138491744, 10.1571477320795, 10.119873895669611, 10.10541677732182, 9.95135371513293, 9.967099594103313, 10.13343686682579, 10.135678388800422, 10.165052592429502, 10.183385013848078, 10.050034572993969, 9.98751935235405, 9.976798549123615, 10.039728816462949, 10.002225951446714, 10.018485528504005, 9.943865700230452, 9.846649414577135, 9.916141785774604, 9.802814085112523, 9.874124605622901, 9.96337247293639, 9.98793351490901, 9.941363371456902, 10.008164323303191, 9.886878829728944, 9.82703809799372, 9.816161661346904, 9.859419139812157, 9.886683494669889, 9.94570787391711, 9.985659247389206, 9.836096245552028, 9.819347907914063, 9.917346867578948, 9.963223971441197, 9.982732831326569, 9.932876471285933, 9.974190313279662, 9.857802776084736, 9.828804356156551, 9.933815409215649, 9.969679314438535, 9.982762955296161, 9.938495485468746, 9.85095837771556, 9.837433163706141, 9.819736664297224, 9.90447909038419, 9.934570597458418, 9.957307917204712, 9.945934202169669, 10.002903541884347, 9.848650662569112, 9.815046949721934, 9.911241717118102, 9.938340308532599, 9.946073251777175, 9.909719310919359, 9.943622006463077, 9.829529103847902, 9.799981999929075, 9.788644749080893, 9.933151786179819, 9.946278846155598, 9.898648746380845, 9.930274132106947, 9.806061258585075, 9.781482961091301, 9.887001663989576, 9.923986814279461, 9.956664149649091, 9.927734569327162, 9.960779557606354, 9.836884137983791, 9.811666497541273, 9.894840401322698, 9.934969089059935, 9.94654269711436, 9.901845893886641]}],\n",
              "                        {\"template\": {\"data\": {\"bar\": [{\"error_x\": {\"color\": \"#2a3f5f\"}, \"error_y\": {\"color\": \"#2a3f5f\"}, \"marker\": {\"line\": {\"color\": \"#E5ECF6\", \"width\": 0.5}}, \"type\": \"bar\"}], \"barpolar\": [{\"marker\": {\"line\": {\"color\": \"#E5ECF6\", \"width\": 0.5}}, \"type\": \"barpolar\"}], \"carpet\": [{\"aaxis\": {\"endlinecolor\": \"#2a3f5f\", \"gridcolor\": \"white\", \"linecolor\": \"white\", \"minorgridcolor\": \"white\", \"startlinecolor\": \"#2a3f5f\"}, \"baxis\": {\"endlinecolor\": \"#2a3f5f\", \"gridcolor\": \"white\", \"linecolor\": \"white\", \"minorgridcolor\": \"white\", \"startlinecolor\": \"#2a3f5f\"}, \"type\": \"carpet\"}], \"choropleth\": [{\"colorbar\": {\"outlinewidth\": 0, \"ticks\": \"\"}, \"type\": \"choropleth\"}], \"contour\": [{\"colorbar\": {\"outlinewidth\": 0, \"ticks\": \"\"}, \"colorscale\": [[0.0, \"#0d0887\"], [0.1111111111111111, \"#46039f\"], [0.2222222222222222, \"#7201a8\"], [0.3333333333333333, \"#9c179e\"], [0.4444444444444444, \"#bd3786\"], [0.5555555555555556, \"#d8576b\"], [0.6666666666666666, \"#ed7953\"], [0.7777777777777778, \"#fb9f3a\"], [0.8888888888888888, \"#fdca26\"], [1.0, \"#f0f921\"]], \"type\": \"contour\"}], \"contourcarpet\": [{\"colorbar\": {\"outlinewidth\": 0, \"ticks\": \"\"}, \"type\": \"contourcarpet\"}], \"heatmap\": [{\"colorbar\": {\"outlinewidth\": 0, \"ticks\": \"\"}, \"colorscale\": [[0.0, \"#0d0887\"], [0.1111111111111111, \"#46039f\"], [0.2222222222222222, \"#7201a8\"], [0.3333333333333333, \"#9c179e\"], [0.4444444444444444, \"#bd3786\"], [0.5555555555555556, \"#d8576b\"], [0.6666666666666666, \"#ed7953\"], [0.7777777777777778, \"#fb9f3a\"], [0.8888888888888888, \"#fdca26\"], [1.0, \"#f0f921\"]], \"type\": \"heatmap\"}], \"heatmapgl\": [{\"colorbar\": {\"outlinewidth\": 0, \"ticks\": \"\"}, \"colorscale\": [[0.0, \"#0d0887\"], [0.1111111111111111, \"#46039f\"], [0.2222222222222222, \"#7201a8\"], [0.3333333333333333, \"#9c179e\"], [0.4444444444444444, \"#bd3786\"], [0.5555555555555556, \"#d8576b\"], [0.6666666666666666, \"#ed7953\"], [0.7777777777777778, \"#fb9f3a\"], [0.8888888888888888, \"#fdca26\"], [1.0, \"#f0f921\"]], \"type\": \"heatmapgl\"}], \"histogram\": [{\"marker\": {\"colorbar\": {\"outlinewidth\": 0, \"ticks\": \"\"}}, \"type\": \"histogram\"}], \"histogram2d\": [{\"colorbar\": {\"outlinewidth\": 0, \"ticks\": \"\"}, \"colorscale\": [[0.0, \"#0d0887\"], [0.1111111111111111, \"#46039f\"], [0.2222222222222222, \"#7201a8\"], [0.3333333333333333, \"#9c179e\"], [0.4444444444444444, \"#bd3786\"], [0.5555555555555556, \"#d8576b\"], [0.6666666666666666, \"#ed7953\"], [0.7777777777777778, \"#fb9f3a\"], [0.8888888888888888, \"#fdca26\"], [1.0, \"#f0f921\"]], \"type\": \"histogram2d\"}], \"histogram2dcontour\": [{\"colorbar\": {\"outlinewidth\": 0, \"ticks\": \"\"}, \"colorscale\": [[0.0, \"#0d0887\"], [0.1111111111111111, \"#46039f\"], [0.2222222222222222, \"#7201a8\"], [0.3333333333333333, \"#9c179e\"], [0.4444444444444444, \"#bd3786\"], [0.5555555555555556, \"#d8576b\"], [0.6666666666666666, \"#ed7953\"], [0.7777777777777778, \"#fb9f3a\"], [0.8888888888888888, \"#fdca26\"], [1.0, \"#f0f921\"]], \"type\": \"histogram2dcontour\"}], \"mesh3d\": [{\"colorbar\": {\"outlinewidth\": 0, \"ticks\": \"\"}, \"type\": \"mesh3d\"}], \"parcoords\": [{\"line\": {\"colorbar\": {\"outlinewidth\": 0, \"ticks\": \"\"}}, \"type\": \"parcoords\"}], \"pie\": [{\"automargin\": true, \"type\": \"pie\"}], \"scatter\": [{\"marker\": {\"colorbar\": {\"outlinewidth\": 0, \"ticks\": \"\"}}, \"type\": \"scatter\"}], \"scatter3d\": [{\"line\": {\"colorbar\": {\"outlinewidth\": 0, \"ticks\": \"\"}}, \"marker\": {\"colorbar\": {\"outlinewidth\": 0, \"ticks\": \"\"}}, \"type\": \"scatter3d\"}], \"scattercarpet\": [{\"marker\": {\"colorbar\": {\"outlinewidth\": 0, \"ticks\": \"\"}}, \"type\": \"scattercarpet\"}], \"scattergeo\": [{\"marker\": {\"colorbar\": {\"outlinewidth\": 0, \"ticks\": \"\"}}, \"type\": \"scattergeo\"}], \"scattergl\": [{\"marker\": {\"colorbar\": {\"outlinewidth\": 0, \"ticks\": \"\"}}, \"type\": \"scattergl\"}], \"scattermapbox\": [{\"marker\": {\"colorbar\": {\"outlinewidth\": 0, \"ticks\": \"\"}}, \"type\": \"scattermapbox\"}], \"scatterpolar\": [{\"marker\": {\"colorbar\": {\"outlinewidth\": 0, \"ticks\": \"\"}}, \"type\": \"scatterpolar\"}], \"scatterpolargl\": [{\"marker\": {\"colorbar\": {\"outlinewidth\": 0, \"ticks\": \"\"}}, \"type\": \"scatterpolargl\"}], \"scatterternary\": [{\"marker\": {\"colorbar\": {\"outlinewidth\": 0, \"ticks\": \"\"}}, \"type\": \"scatterternary\"}], \"surface\": [{\"colorbar\": {\"outlinewidth\": 0, \"ticks\": \"\"}, \"colorscale\": [[0.0, \"#0d0887\"], [0.1111111111111111, \"#46039f\"], [0.2222222222222222, \"#7201a8\"], [0.3333333333333333, \"#9c179e\"], [0.4444444444444444, \"#bd3786\"], [0.5555555555555556, \"#d8576b\"], [0.6666666666666666, \"#ed7953\"], [0.7777777777777778, \"#fb9f3a\"], [0.8888888888888888, \"#fdca26\"], [1.0, \"#f0f921\"]], \"type\": \"surface\"}], \"table\": [{\"cells\": {\"fill\": {\"color\": \"#EBF0F8\"}, \"line\": {\"color\": \"white\"}}, \"header\": {\"fill\": {\"color\": \"#C8D4E3\"}, \"line\": {\"color\": \"white\"}}, \"type\": \"table\"}]}, \"layout\": {\"annotationdefaults\": {\"arrowcolor\": \"#2a3f5f\", \"arrowhead\": 0, \"arrowwidth\": 1}, \"coloraxis\": {\"colorbar\": {\"outlinewidth\": 0, \"ticks\": \"\"}}, \"colorscale\": {\"diverging\": [[0, \"#8e0152\"], [0.1, \"#c51b7d\"], [0.2, \"#de77ae\"], [0.3, \"#f1b6da\"], [0.4, \"#fde0ef\"], [0.5, \"#f7f7f7\"], [0.6, \"#e6f5d0\"], [0.7, \"#b8e186\"], [0.8, \"#7fbc41\"], [0.9, \"#4d9221\"], [1, \"#276419\"]], \"sequential\": [[0.0, \"#0d0887\"], [0.1111111111111111, \"#46039f\"], [0.2222222222222222, \"#7201a8\"], [0.3333333333333333, \"#9c179e\"], [0.4444444444444444, \"#bd3786\"], [0.5555555555555556, \"#d8576b\"], [0.6666666666666666, \"#ed7953\"], [0.7777777777777778, \"#fb9f3a\"], [0.8888888888888888, \"#fdca26\"], [1.0, \"#f0f921\"]], \"sequentialminus\": [[0.0, \"#0d0887\"], [0.1111111111111111, \"#46039f\"], [0.2222222222222222, \"#7201a8\"], [0.3333333333333333, \"#9c179e\"], [0.4444444444444444, \"#bd3786\"], [0.5555555555555556, \"#d8576b\"], [0.6666666666666666, \"#ed7953\"], [0.7777777777777778, \"#fb9f3a\"], [0.8888888888888888, \"#fdca26\"], [1.0, \"#f0f921\"]]}, \"colorway\": [\"#636efa\", \"#EF553B\", \"#00cc96\", \"#ab63fa\", \"#FFA15A\", \"#19d3f3\", \"#FF6692\", \"#B6E880\", \"#FF97FF\", \"#FECB52\"], \"font\": {\"color\": \"#2a3f5f\"}, \"geo\": {\"bgcolor\": \"white\", \"lakecolor\": \"white\", \"landcolor\": \"#E5ECF6\", \"showlakes\": true, \"showland\": true, \"subunitcolor\": \"white\"}, \"hoverlabel\": {\"align\": \"left\"}, \"hovermode\": \"closest\", \"mapbox\": {\"style\": \"light\"}, \"paper_bgcolor\": \"white\", \"plot_bgcolor\": \"#E5ECF6\", \"polar\": {\"angularaxis\": {\"gridcolor\": \"white\", \"linecolor\": \"white\", \"ticks\": \"\"}, \"bgcolor\": \"#E5ECF6\", \"radialaxis\": {\"gridcolor\": \"white\", \"linecolor\": \"white\", \"ticks\": \"\"}}, \"scene\": {\"xaxis\": {\"backgroundcolor\": \"#E5ECF6\", \"gridcolor\": \"white\", \"gridwidth\": 2, \"linecolor\": \"white\", \"showbackground\": true, \"ticks\": \"\", \"zerolinecolor\": \"white\"}, \"yaxis\": {\"backgroundcolor\": \"#E5ECF6\", \"gridcolor\": \"white\", \"gridwidth\": 2, \"linecolor\": \"white\", \"showbackground\": true, \"ticks\": \"\", \"zerolinecolor\": \"white\"}, \"zaxis\": {\"backgroundcolor\": \"#E5ECF6\", \"gridcolor\": \"white\", \"gridwidth\": 2, \"linecolor\": \"white\", \"showbackground\": true, \"ticks\": \"\", \"zerolinecolor\": \"white\"}}, \"shapedefaults\": {\"line\": {\"color\": \"#2a3f5f\"}}, \"ternary\": {\"aaxis\": {\"gridcolor\": \"white\", \"linecolor\": \"white\", \"ticks\": \"\"}, \"baxis\": {\"gridcolor\": \"white\", \"linecolor\": \"white\", \"ticks\": \"\"}, \"bgcolor\": \"#E5ECF6\", \"caxis\": {\"gridcolor\": \"white\", \"linecolor\": \"white\", \"ticks\": \"\"}}, \"title\": {\"x\": 0.05}, \"xaxis\": {\"automargin\": true, \"gridcolor\": \"white\", \"linecolor\": \"white\", \"ticks\": \"\", \"title\": {\"standoff\": 15}, \"zerolinecolor\": \"white\", \"zerolinewidth\": 2}, \"yaxis\": {\"automargin\": true, \"gridcolor\": \"white\", \"linecolor\": \"white\", \"ticks\": \"\", \"title\": {\"standoff\": 15}, \"zerolinecolor\": \"white\", \"zerolinewidth\": 2}}}},\n",
              "                        {\"responsive\": true}\n",
              "                    ).then(function(){\n",
              "                            \n",
              "var gd = document.getElementById('395aac7b-3a30-407e-bb1d-a881c40662b5');\n",
              "var x = new MutationObserver(function (mutations, observer) {{\n",
              "        var display = window.getComputedStyle(gd).display;\n",
              "        if (!display || display === 'none') {{\n",
              "            console.log([gd, 'removed!']);\n",
              "            Plotly.purge(gd);\n",
              "            observer.disconnect();\n",
              "        }}\n",
              "}});\n",
              "\n",
              "// Listen for the removal of the full notebook cells\n",
              "var notebookContainer = gd.closest('#notebook-container');\n",
              "if (notebookContainer) {{\n",
              "    x.observe(notebookContainer, {childList: true});\n",
              "}}\n",
              "\n",
              "// Listen for the clearing of the current output cell\n",
              "var outputEl = gd.closest('.output');\n",
              "if (outputEl) {{\n",
              "    x.observe(outputEl, {childList: true});\n",
              "}}\n",
              "\n",
              "                        })\n",
              "                };\n",
              "                \n",
              "            </script>\n",
              "        </div>\n",
              "</body>\n",
              "</html>"
            ]
          },
          "metadata": {
            "tags": []
          }
        }
      ]
    },
    {
      "cell_type": "code",
      "metadata": {
        "id": "arVs9liwgn7H",
        "colab_type": "code",
        "outputId": "c5d2e70e-96aa-439f-c061-5608e79beda8",
        "colab": {
          "base_uri": "https://localhost:8080/",
          "height": 578
        }
      },
      "source": [
        "# Keep parameters, calibrate on full data set\n",
        "model_2_out = SARIMAX(y,exog=X,order=arima,seasonal_order=seasonal).fit(method='powell')\n",
        "print(model_2_out.summary())\n",
        "model_2_out_y = scaler_out.inverse_transform(model_2_out.predict().reshape(-1,1))\n",
        "\n",
        "data_ar['model_2_forecast'] = model_2_out_y"
      ],
      "execution_count": 13,
      "outputs": [
        {
          "output_type": "stream",
          "text": [
            "Optimization terminated successfully.\n",
            "         Current function value: -1.531482\n",
            "         Iterations: 5\n",
            "         Function evaluations: 482\n",
            "                                 Statespace Model Results                                \n",
            "=========================================================================================\n",
            "Dep. Variable:                                 y   No. Observations:                 1258\n",
            "Model:             SARIMAX(1, 0, 1)x(2, 0, 0, 7)   Log Likelihood                1926.604\n",
            "Date:                           Sun, 14 Jun 2020   AIC                          -3837.209\n",
            "Time:                                   17:38:32   BIC                          -3796.111\n",
            "Sample:                                        0   HQIC                         -3821.764\n",
            "                                          - 1258                                         \n",
            "Covariance Type:                             opg                                         \n",
            "==============================================================================\n",
            "                 coef    std err          z      P>|z|      [0.025      0.975]\n",
            "------------------------------------------------------------------------------\n",
            "x1            -0.2118      0.019    -11.315      0.000      -0.249      -0.175\n",
            "x2            -0.1618      0.065     -2.479      0.013      -0.290      -0.034\n",
            "x3            -0.1305      0.006    -21.593      0.000      -0.142      -0.119\n",
            "ar.L1          0.7726      0.027     28.536      0.000       0.720       0.826\n",
            "ma.L1         -0.1716      0.036     -4.721      0.000      -0.243      -0.100\n",
            "ar.S.L7        0.4938      0.023     21.210      0.000       0.448       0.539\n",
            "ar.S.L14       0.4863      0.023     21.003      0.000       0.441       0.532\n",
            "sigma2         0.0027   8.35e-05     32.204      0.000       0.003       0.003\n",
            "===================================================================================\n",
            "Ljung-Box (Q):                      148.57   Jarque-Bera (JB):               121.64\n",
            "Prob(Q):                              0.00   Prob(JB):                         0.00\n",
            "Heteroskedasticity (H):               1.32   Skew:                            -0.00\n",
            "Prob(H) (two-sided):                  0.00   Kurtosis:                         4.52\n",
            "===================================================================================\n",
            "\n",
            "Warnings:\n",
            "[1] Covariance matrix calculated using the outer product of gradients (complex-step).\n"
          ],
          "name": "stdout"
        }
      ]
    },
    {
      "cell_type": "code",
      "metadata": {
        "id": "0JmdQJVpRSdg",
        "colab_type": "code",
        "outputId": "9c88e625-6dbc-40ca-986f-eb244ae11c6e",
        "colab": {
          "base_uri": "https://localhost:8080/",
          "height": 542
        }
      },
      "source": [
        "# Show errors on the full set\n",
        "cutoff = dt.datetime(2017,6,2)\n",
        "plt_df = data_ar[data_ar['Date']>=cutoff]\n",
        "fig = go.Figure()\n",
        "fig.add_trace(go.Scatter(x=plt_df['Date'], y=plt_df['model_2_forecast']-plt_df['Log_load'],\n",
        "                    mode='lines',\n",
        "                    name='error'))\n",
        "fig.show()"
      ],
      "execution_count": 14,
      "outputs": [
        {
          "output_type": "display_data",
          "data": {
            "text/html": [
              "<html>\n",
              "<head><meta charset=\"utf-8\" /></head>\n",
              "<body>\n",
              "    <div>\n",
              "            <script src=\"https://cdnjs.cloudflare.com/ajax/libs/mathjax/2.7.5/MathJax.js?config=TeX-AMS-MML_SVG\"></script><script type=\"text/javascript\">if (window.MathJax) {MathJax.Hub.Config({SVG: {font: \"STIX-Web\"}});}</script>\n",
              "                <script type=\"text/javascript\">window.PlotlyConfig = {MathJaxConfig: 'local'};</script>\n",
              "        <script src=\"https://cdn.plot.ly/plotly-latest.min.js\"></script>    \n",
              "            <div id=\"cf22d215-f2a4-4e00-b0de-2f591b5d8ae7\" class=\"plotly-graph-div\" style=\"height:525px; width:100%;\"></div>\n",
              "            <script type=\"text/javascript\">\n",
              "                \n",
              "                    window.PLOTLYENV=window.PLOTLYENV || {};\n",
              "                    \n",
              "                if (document.getElementById(\"cf22d215-f2a4-4e00-b0de-2f591b5d8ae7\")) {\n",
              "                    Plotly.newPlot(\n",
              "                        'cf22d215-f2a4-4e00-b0de-2f591b5d8ae7',\n",
              "                        [{\"mode\": \"lines\", \"name\": \"error\", \"type\": \"scatter\", \"x\": [\"2017-06-02T00:00:00\", \"2017-06-03T00:00:00\", \"2017-06-04T00:00:00\", \"2017-06-05T00:00:00\", \"2017-06-06T00:00:00\", \"2017-06-07T00:00:00\", \"2017-06-08T00:00:00\", \"2017-06-09T00:00:00\", \"2017-06-10T00:00:00\", \"2017-06-11T00:00:00\", \"2017-06-12T00:00:00\", \"2017-06-13T00:00:00\", \"2017-06-14T00:00:00\", \"2017-06-15T00:00:00\", \"2017-06-16T00:00:00\", \"2017-06-17T00:00:00\", \"2017-06-18T00:00:00\", \"2017-06-19T00:00:00\", \"2017-06-20T00:00:00\", \"2017-06-21T00:00:00\", \"2017-06-22T00:00:00\", \"2017-06-23T00:00:00\", \"2017-06-24T00:00:00\", \"2017-06-25T00:00:00\", \"2017-06-26T00:00:00\", \"2017-06-27T00:00:00\", \"2017-06-28T00:00:00\", \"2017-06-29T00:00:00\", \"2017-06-30T00:00:00\", \"2017-07-01T00:00:00\", \"2017-07-02T00:00:00\", \"2017-07-03T00:00:00\", \"2017-07-04T00:00:00\", \"2017-07-05T00:00:00\", \"2017-07-06T00:00:00\", \"2017-07-07T00:00:00\", \"2017-07-08T00:00:00\", \"2017-07-09T00:00:00\", \"2017-07-10T00:00:00\", \"2017-07-11T00:00:00\", \"2017-07-12T00:00:00\", \"2017-07-13T00:00:00\", \"2017-07-14T00:00:00\", \"2017-07-15T00:00:00\", \"2017-07-16T00:00:00\", \"2017-07-17T00:00:00\", \"2017-07-18T00:00:00\", \"2017-07-19T00:00:00\", \"2017-07-20T00:00:00\", \"2017-07-21T00:00:00\", \"2017-07-22T00:00:00\", \"2017-07-23T00:00:00\", \"2017-07-24T00:00:00\", \"2017-07-25T00:00:00\", \"2017-07-26T00:00:00\", \"2017-07-27T00:00:00\", \"2017-07-28T00:00:00\", \"2017-07-29T00:00:00\", \"2017-07-30T00:00:00\", \"2017-07-31T00:00:00\", \"2017-08-01T00:00:00\", \"2017-08-02T00:00:00\", \"2017-08-03T00:00:00\", \"2017-08-04T00:00:00\", \"2017-08-05T00:00:00\", \"2017-08-06T00:00:00\", \"2017-08-07T00:00:00\", \"2017-08-08T00:00:00\", \"2017-08-09T00:00:00\", \"2017-08-10T00:00:00\", \"2017-08-11T00:00:00\", \"2017-08-12T00:00:00\", \"2017-08-13T00:00:00\", \"2017-08-14T00:00:00\", \"2017-08-15T00:00:00\", \"2017-08-16T00:00:00\", \"2017-08-17T00:00:00\", \"2017-08-18T00:00:00\", \"2017-08-19T00:00:00\", \"2017-08-20T00:00:00\", \"2017-08-21T00:00:00\", \"2017-08-22T00:00:00\", \"2017-08-23T00:00:00\", \"2017-08-24T00:00:00\", \"2017-08-25T00:00:00\", \"2017-08-26T00:00:00\", \"2017-08-27T00:00:00\", \"2017-08-28T00:00:00\", \"2017-08-29T00:00:00\", \"2017-08-30T00:00:00\", \"2017-08-31T00:00:00\", \"2017-09-01T00:00:00\", \"2017-09-02T00:00:00\", \"2017-09-03T00:00:00\", \"2017-09-04T00:00:00\", \"2017-09-05T00:00:00\", \"2017-09-06T00:00:00\", \"2017-09-07T00:00:00\", \"2017-09-08T00:00:00\", \"2017-09-09T00:00:00\", \"2017-09-10T00:00:00\", \"2017-09-11T00:00:00\", \"2017-09-12T00:00:00\", \"2017-09-13T00:00:00\", \"2017-09-14T00:00:00\", \"2017-09-15T00:00:00\", \"2017-09-16T00:00:00\", \"2017-09-17T00:00:00\", \"2017-09-18T00:00:00\", \"2017-09-19T00:00:00\", \"2017-09-20T00:00:00\", \"2017-09-21T00:00:00\", \"2017-09-22T00:00:00\", \"2017-09-23T00:00:00\", \"2017-09-24T00:00:00\", \"2017-09-25T00:00:00\", \"2017-09-26T00:00:00\", \"2017-09-27T00:00:00\", \"2017-09-28T00:00:00\", \"2017-09-29T00:00:00\", \"2017-09-30T00:00:00\", \"2017-10-01T00:00:00\", \"2017-10-02T00:00:00\", \"2017-10-03T00:00:00\", \"2017-10-04T00:00:00\", \"2017-10-05T00:00:00\", \"2017-10-06T00:00:00\", \"2017-10-07T00:00:00\", \"2017-10-08T00:00:00\", \"2017-10-09T00:00:00\", \"2017-10-10T00:00:00\", \"2017-10-11T00:00:00\", \"2017-10-12T00:00:00\", \"2017-10-13T00:00:00\", \"2017-10-14T00:00:00\", \"2017-10-15T00:00:00\", \"2017-10-16T00:00:00\", \"2017-10-17T00:00:00\", \"2017-10-18T00:00:00\", \"2017-10-19T00:00:00\", \"2017-10-20T00:00:00\", \"2017-10-21T00:00:00\", \"2017-10-22T00:00:00\", \"2017-10-23T00:00:00\", \"2017-10-24T00:00:00\", \"2017-10-25T00:00:00\", \"2017-10-26T00:00:00\", \"2017-10-27T00:00:00\", \"2017-10-28T00:00:00\", \"2017-10-29T00:00:00\", \"2017-10-30T00:00:00\", \"2017-10-31T00:00:00\", \"2017-11-01T00:00:00\", \"2017-11-02T00:00:00\", \"2017-11-03T00:00:00\", \"2017-11-04T00:00:00\", \"2017-11-05T00:00:00\", \"2017-11-06T00:00:00\", \"2017-11-07T00:00:00\", \"2017-11-08T00:00:00\", \"2017-11-09T00:00:00\", \"2017-11-10T00:00:00\", \"2017-11-11T00:00:00\", \"2017-11-12T00:00:00\", \"2017-11-13T00:00:00\", \"2017-11-14T00:00:00\", \"2017-11-15T00:00:00\", \"2017-11-16T00:00:00\", \"2017-11-17T00:00:00\", \"2017-11-18T00:00:00\", \"2017-11-19T00:00:00\", \"2017-11-20T00:00:00\", \"2017-11-21T00:00:00\", \"2017-11-22T00:00:00\", \"2017-11-23T00:00:00\", \"2017-11-24T00:00:00\", \"2017-11-25T00:00:00\", \"2017-11-26T00:00:00\", \"2017-11-27T00:00:00\", \"2017-11-28T00:00:00\", \"2017-11-29T00:00:00\", \"2017-11-30T00:00:00\", \"2017-12-01T00:00:00\", \"2017-12-02T00:00:00\", \"2017-12-03T00:00:00\", \"2017-12-04T00:00:00\", \"2017-12-05T00:00:00\", \"2017-12-06T00:00:00\", \"2017-12-07T00:00:00\", \"2017-12-08T00:00:00\", \"2017-12-09T00:00:00\", \"2017-12-10T00:00:00\", \"2017-12-11T00:00:00\", \"2017-12-12T00:00:00\", \"2017-12-13T00:00:00\", \"2017-12-14T00:00:00\", \"2017-12-15T00:00:00\", \"2017-12-16T00:00:00\", \"2017-12-17T00:00:00\", \"2017-12-18T00:00:00\", \"2017-12-19T00:00:00\", \"2017-12-20T00:00:00\", \"2017-12-21T00:00:00\", \"2017-12-22T00:00:00\", \"2017-12-23T00:00:00\", \"2017-12-24T00:00:00\", \"2017-12-25T00:00:00\", \"2017-12-26T00:00:00\", \"2017-12-27T00:00:00\", \"2017-12-28T00:00:00\", \"2017-12-29T00:00:00\", \"2017-12-30T00:00:00\", \"2017-12-31T00:00:00\", \"2018-01-01T00:00:00\", \"2018-01-02T00:00:00\", \"2018-01-03T00:00:00\", \"2018-01-04T00:00:00\", \"2018-01-05T00:00:00\", \"2018-01-06T00:00:00\", \"2018-01-07T00:00:00\", \"2018-01-08T00:00:00\", \"2018-01-09T00:00:00\", \"2018-01-10T00:00:00\", \"2018-01-11T00:00:00\", \"2018-01-12T00:00:00\", \"2018-01-13T00:00:00\", \"2018-01-14T00:00:00\", \"2018-01-15T00:00:00\", \"2018-01-16T00:00:00\", \"2018-01-17T00:00:00\", \"2018-01-18T00:00:00\", \"2018-01-19T00:00:00\", \"2018-01-20T00:00:00\", \"2018-01-21T00:00:00\", \"2018-01-22T00:00:00\", \"2018-01-23T00:00:00\", \"2018-01-24T00:00:00\", \"2018-01-25T00:00:00\", \"2018-01-26T00:00:00\", \"2018-01-27T00:00:00\", \"2018-01-28T00:00:00\", \"2018-01-29T00:00:00\", \"2018-01-30T00:00:00\", \"2018-01-31T00:00:00\", \"2018-02-01T00:00:00\", \"2018-02-02T00:00:00\", \"2018-02-03T00:00:00\", \"2018-02-04T00:00:00\", \"2018-02-05T00:00:00\", \"2018-02-06T00:00:00\", \"2018-02-07T00:00:00\", \"2018-02-08T00:00:00\", \"2018-02-09T00:00:00\", \"2018-02-10T00:00:00\", \"2018-02-11T00:00:00\", \"2018-02-12T00:00:00\", \"2018-02-13T00:00:00\", \"2018-02-14T00:00:00\", \"2018-02-15T00:00:00\", \"2018-02-16T00:00:00\", \"2018-02-17T00:00:00\", \"2018-02-18T00:00:00\", \"2018-02-19T00:00:00\", \"2018-02-20T00:00:00\", \"2018-02-21T00:00:00\", \"2018-02-22T00:00:00\", \"2018-02-23T00:00:00\", \"2018-02-24T00:00:00\", \"2018-02-25T00:00:00\", \"2018-02-26T00:00:00\", \"2018-02-27T00:00:00\", \"2018-02-28T00:00:00\", \"2018-03-01T00:00:00\", \"2018-03-02T00:00:00\", \"2018-03-03T00:00:00\", \"2018-03-04T00:00:00\", \"2018-03-05T00:00:00\", \"2018-03-06T00:00:00\", \"2018-03-07T00:00:00\", \"2018-03-08T00:00:00\", \"2018-03-09T00:00:00\", \"2018-03-10T00:00:00\", \"2018-03-11T00:00:00\", \"2018-03-12T00:00:00\", \"2018-03-13T00:00:00\", \"2018-03-14T00:00:00\", \"2018-03-15T00:00:00\", \"2018-03-16T00:00:00\", \"2018-03-17T00:00:00\", \"2018-03-18T00:00:00\", \"2018-03-19T00:00:00\", \"2018-03-20T00:00:00\", \"2018-03-21T00:00:00\", \"2018-03-22T00:00:00\", \"2018-03-23T00:00:00\", \"2018-03-24T00:00:00\", \"2018-03-25T00:00:00\", \"2018-03-26T00:00:00\", \"2018-03-27T00:00:00\", \"2018-03-28T00:00:00\", \"2018-03-29T00:00:00\", \"2018-03-30T00:00:00\", \"2018-03-31T00:00:00\", \"2018-04-01T00:00:00\", \"2018-04-02T00:00:00\", \"2018-04-03T00:00:00\", \"2018-04-04T00:00:00\", \"2018-04-05T00:00:00\", \"2018-04-06T00:00:00\", \"2018-04-07T00:00:00\", \"2018-04-08T00:00:00\", \"2018-04-09T00:00:00\", \"2018-04-10T00:00:00\", \"2018-04-11T00:00:00\", \"2018-04-12T00:00:00\", \"2018-04-13T00:00:00\", \"2018-04-14T00:00:00\", \"2018-04-15T00:00:00\", \"2018-04-16T00:00:00\", \"2018-04-17T00:00:00\", \"2018-04-18T00:00:00\", \"2018-04-19T00:00:00\", \"2018-04-20T00:00:00\", \"2018-04-21T00:00:00\", \"2018-04-22T00:00:00\", \"2018-04-23T00:00:00\", \"2018-04-24T00:00:00\", \"2018-04-25T00:00:00\", \"2018-04-26T00:00:00\", \"2018-04-27T00:00:00\", \"2018-04-28T00:00:00\", \"2018-04-29T00:00:00\", \"2018-04-30T00:00:00\", \"2018-05-01T00:00:00\", \"2018-05-02T00:00:00\", \"2018-05-03T00:00:00\", \"2018-05-04T00:00:00\", \"2018-05-05T00:00:00\", \"2018-05-06T00:00:00\", \"2018-05-07T00:00:00\", \"2018-05-08T00:00:00\", \"2018-05-09T00:00:00\", \"2018-05-10T00:00:00\", \"2018-05-11T00:00:00\", \"2018-05-12T00:00:00\", \"2018-05-13T00:00:00\", \"2018-05-14T00:00:00\", \"2018-05-15T00:00:00\", \"2018-05-16T00:00:00\", \"2018-05-17T00:00:00\", \"2018-05-18T00:00:00\", \"2018-05-19T00:00:00\", \"2018-05-20T00:00:00\", \"2018-05-21T00:00:00\", \"2018-05-22T00:00:00\", \"2018-05-23T00:00:00\", \"2018-05-24T00:00:00\", \"2018-05-25T00:00:00\", \"2018-05-26T00:00:00\", \"2018-05-27T00:00:00\", \"2018-05-28T00:00:00\", \"2018-05-29T00:00:00\", \"2018-05-30T00:00:00\", \"2018-05-31T00:00:00\", \"2018-06-01T00:00:00\", \"2018-06-02T00:00:00\", \"2018-06-03T00:00:00\", \"2018-06-04T00:00:00\", \"2018-06-05T00:00:00\", \"2018-06-06T00:00:00\", \"2018-06-07T00:00:00\", \"2018-06-08T00:00:00\", \"2018-06-09T00:00:00\", \"2018-06-10T00:00:00\", \"2018-06-11T00:00:00\", \"2018-06-12T00:00:00\", \"2018-06-13T00:00:00\", \"2018-06-14T00:00:00\", \"2018-06-15T00:00:00\", \"2018-06-16T00:00:00\", \"2018-06-17T00:00:00\", \"2018-06-18T00:00:00\", \"2018-06-19T00:00:00\", \"2018-06-20T00:00:00\", \"2018-06-21T00:00:00\", \"2018-06-22T00:00:00\", \"2018-06-23T00:00:00\", \"2018-06-24T00:00:00\", \"2018-06-25T00:00:00\", \"2018-06-26T00:00:00\", \"2018-06-27T00:00:00\", \"2018-06-28T00:00:00\", \"2018-06-29T00:00:00\", \"2018-06-30T00:00:00\", \"2018-07-01T00:00:00\", \"2018-07-02T00:00:00\", \"2018-07-03T00:00:00\", \"2018-07-04T00:00:00\", \"2018-07-05T00:00:00\", \"2018-07-06T00:00:00\", \"2018-07-07T00:00:00\", \"2018-07-08T00:00:00\", \"2018-07-09T00:00:00\", \"2018-07-10T00:00:00\", \"2018-07-11T00:00:00\", \"2018-07-12T00:00:00\", \"2018-07-13T00:00:00\", \"2018-07-14T00:00:00\", \"2018-07-15T00:00:00\", \"2018-07-16T00:00:00\", \"2018-07-17T00:00:00\", \"2018-07-18T00:00:00\", \"2018-07-19T00:00:00\", \"2018-07-20T00:00:00\", \"2018-07-21T00:00:00\", \"2018-07-22T00:00:00\", \"2018-07-23T00:00:00\", \"2018-07-24T00:00:00\", \"2018-07-25T00:00:00\", \"2018-07-26T00:00:00\", \"2018-07-27T00:00:00\", \"2018-07-28T00:00:00\", \"2018-07-29T00:00:00\", \"2018-07-30T00:00:00\", \"2018-07-31T00:00:00\", \"2018-08-01T00:00:00\", \"2018-08-02T00:00:00\", \"2018-08-03T00:00:00\", \"2018-08-04T00:00:00\", \"2018-08-05T00:00:00\", \"2018-08-06T00:00:00\", \"2018-08-07T00:00:00\", \"2018-08-08T00:00:00\", \"2018-08-09T00:00:00\", \"2018-08-10T00:00:00\", \"2018-08-11T00:00:00\", \"2018-08-12T00:00:00\", \"2018-08-13T00:00:00\", \"2018-08-14T00:00:00\", \"2018-08-15T00:00:00\", \"2018-08-16T00:00:00\", \"2018-08-17T00:00:00\", \"2018-08-18T00:00:00\", \"2018-08-19T00:00:00\", \"2018-08-20T00:00:00\", \"2018-08-21T00:00:00\", \"2018-08-22T00:00:00\", \"2018-08-23T00:00:00\", \"2018-08-24T00:00:00\", \"2018-08-25T00:00:00\", \"2018-08-26T00:00:00\", \"2018-08-27T00:00:00\", \"2018-08-28T00:00:00\", \"2018-08-29T00:00:00\", \"2018-08-30T00:00:00\", \"2018-08-31T00:00:00\", \"2018-09-01T00:00:00\", \"2018-09-02T00:00:00\", \"2018-09-03T00:00:00\", \"2018-09-04T00:00:00\", \"2018-09-05T00:00:00\", \"2018-09-06T00:00:00\", \"2018-09-07T00:00:00\", \"2018-09-08T00:00:00\", \"2018-09-09T00:00:00\", \"2018-09-10T00:00:00\", \"2018-09-11T00:00:00\", \"2018-09-12T00:00:00\", \"2018-09-13T00:00:00\", \"2018-09-14T00:00:00\", \"2018-09-15T00:00:00\", \"2018-09-16T00:00:00\", \"2018-09-17T00:00:00\", \"2018-09-18T00:00:00\", \"2018-09-19T00:00:00\", \"2018-09-20T00:00:00\", \"2018-09-21T00:00:00\", \"2018-09-22T00:00:00\", \"2018-09-23T00:00:00\", \"2018-09-24T00:00:00\", \"2018-09-25T00:00:00\", \"2018-09-26T00:00:00\", \"2018-09-27T00:00:00\", \"2018-09-28T00:00:00\", \"2018-09-29T00:00:00\", \"2018-09-30T00:00:00\", \"2018-10-01T00:00:00\", \"2018-10-02T00:00:00\", \"2018-10-03T00:00:00\", \"2018-10-04T00:00:00\", \"2018-10-05T00:00:00\", \"2018-10-06T00:00:00\", \"2018-10-07T00:00:00\", \"2018-10-08T00:00:00\", \"2018-10-09T00:00:00\", \"2018-10-10T00:00:00\", \"2018-10-11T00:00:00\", \"2018-10-12T00:00:00\", \"2018-10-13T00:00:00\", \"2018-10-14T00:00:00\", \"2018-10-15T00:00:00\", \"2018-10-16T00:00:00\", \"2018-10-17T00:00:00\", \"2018-10-18T00:00:00\", \"2018-10-19T00:00:00\", \"2018-10-20T00:00:00\", \"2018-10-21T00:00:00\", \"2018-10-22T00:00:00\", \"2018-10-23T00:00:00\", \"2018-10-24T00:00:00\", \"2018-10-25T00:00:00\", \"2018-10-26T00:00:00\", \"2018-10-27T00:00:00\", \"2018-10-28T00:00:00\", \"2018-10-29T00:00:00\", \"2018-10-30T00:00:00\", \"2018-10-31T00:00:00\", \"2018-11-01T00:00:00\", \"2018-11-02T00:00:00\", \"2018-11-03T00:00:00\", \"2018-11-04T00:00:00\", \"2018-11-05T00:00:00\", \"2018-11-06T00:00:00\", \"2018-11-07T00:00:00\", \"2018-11-08T00:00:00\", \"2018-11-09T00:00:00\", \"2018-11-10T00:00:00\", \"2018-11-11T00:00:00\", \"2018-11-12T00:00:00\", \"2018-11-13T00:00:00\", \"2018-11-14T00:00:00\", \"2018-11-15T00:00:00\", \"2018-11-16T00:00:00\", \"2018-11-17T00:00:00\", \"2018-11-18T00:00:00\", \"2018-11-19T00:00:00\", \"2018-11-20T00:00:00\", \"2018-11-21T00:00:00\", \"2018-11-22T00:00:00\", \"2018-11-23T00:00:00\", \"2018-11-24T00:00:00\", \"2018-11-25T00:00:00\", \"2018-11-26T00:00:00\", \"2018-11-27T00:00:00\", \"2018-11-28T00:00:00\", \"2018-11-29T00:00:00\", \"2018-11-30T00:00:00\", \"2018-12-01T00:00:00\", \"2018-12-02T00:00:00\", \"2018-12-03T00:00:00\", \"2018-12-04T00:00:00\", \"2018-12-05T00:00:00\", \"2018-12-06T00:00:00\", \"2018-12-07T00:00:00\", \"2018-12-08T00:00:00\", \"2018-12-09T00:00:00\", \"2018-12-10T00:00:00\", \"2018-12-11T00:00:00\", \"2018-12-12T00:00:00\", \"2018-12-13T00:00:00\", \"2018-12-14T00:00:00\", \"2018-12-15T00:00:00\", \"2018-12-16T00:00:00\", \"2018-12-17T00:00:00\", \"2018-12-18T00:00:00\", \"2018-12-19T00:00:00\", \"2018-12-20T00:00:00\", \"2018-12-21T00:00:00\", \"2018-12-22T00:00:00\", \"2018-12-23T00:00:00\", \"2018-12-24T00:00:00\", \"2018-12-25T00:00:00\", \"2018-12-26T00:00:00\", \"2018-12-27T00:00:00\", \"2018-12-28T00:00:00\", \"2018-12-29T00:00:00\", \"2018-12-30T00:00:00\", \"2018-12-31T00:00:00\", \"2019-01-01T00:00:00\", \"2019-01-02T00:00:00\", \"2019-01-03T00:00:00\", \"2019-01-04T00:00:00\", \"2019-01-05T00:00:00\", \"2019-01-06T00:00:00\", \"2019-01-07T00:00:00\", \"2019-01-08T00:00:00\", \"2019-01-09T00:00:00\", \"2019-01-10T00:00:00\", \"2019-01-11T00:00:00\", \"2019-01-12T00:00:00\", \"2019-01-13T00:00:00\", \"2019-01-14T00:00:00\", \"2019-01-15T00:00:00\", \"2019-01-16T00:00:00\", \"2019-01-17T00:00:00\", \"2019-01-18T00:00:00\", \"2019-01-19T00:00:00\", \"2019-01-20T00:00:00\", \"2019-01-21T00:00:00\", \"2019-01-22T00:00:00\", \"2019-01-23T00:00:00\", \"2019-01-24T00:00:00\", \"2019-01-25T00:00:00\", \"2019-01-26T00:00:00\", \"2019-01-27T00:00:00\", \"2019-01-28T00:00:00\", \"2019-01-29T00:00:00\", \"2019-01-30T00:00:00\", \"2019-01-31T00:00:00\", \"2019-02-01T00:00:00\", \"2019-02-02T00:00:00\", \"2019-02-03T00:00:00\", \"2019-02-04T00:00:00\", \"2019-02-05T00:00:00\", \"2019-02-06T00:00:00\", \"2019-02-07T00:00:00\", \"2019-02-08T00:00:00\", \"2019-02-09T00:00:00\", \"2019-02-10T00:00:00\", \"2019-02-11T00:00:00\", \"2019-02-12T00:00:00\", \"2019-02-13T00:00:00\", \"2019-02-14T00:00:00\", \"2019-02-15T00:00:00\", \"2019-02-16T00:00:00\", \"2019-02-17T00:00:00\", \"2019-02-18T00:00:00\", \"2019-02-19T00:00:00\", \"2019-02-20T00:00:00\", \"2019-02-21T00:00:00\", \"2019-02-22T00:00:00\", \"2019-02-23T00:00:00\", \"2019-02-24T00:00:00\", \"2019-02-25T00:00:00\", \"2019-02-26T00:00:00\", \"2019-02-27T00:00:00\", \"2019-02-28T00:00:00\", \"2019-03-01T00:00:00\", \"2019-03-02T00:00:00\", \"2019-03-03T00:00:00\", \"2019-03-04T00:00:00\", \"2019-03-05T00:00:00\", \"2019-03-06T00:00:00\", \"2019-03-07T00:00:00\", \"2019-03-08T00:00:00\", \"2019-03-09T00:00:00\", \"2019-03-10T00:00:00\", \"2019-03-11T00:00:00\", \"2019-03-12T00:00:00\", \"2019-03-13T00:00:00\", \"2019-03-14T00:00:00\", \"2019-03-15T00:00:00\", \"2019-03-16T00:00:00\", \"2019-03-17T00:00:00\", \"2019-03-18T00:00:00\", \"2019-03-19T00:00:00\", \"2019-03-20T00:00:00\", \"2019-03-21T00:00:00\", \"2019-03-22T00:00:00\", \"2019-03-23T00:00:00\", \"2019-03-24T00:00:00\", \"2019-03-25T00:00:00\", \"2019-03-26T00:00:00\", \"2019-03-27T00:00:00\", \"2019-03-28T00:00:00\", \"2019-03-29T00:00:00\", \"2019-03-30T00:00:00\", \"2019-03-31T00:00:00\", \"2019-04-01T00:00:00\", \"2019-04-02T00:00:00\", \"2019-04-03T00:00:00\", \"2019-04-04T00:00:00\", \"2019-04-05T00:00:00\", \"2019-04-06T00:00:00\", \"2019-04-07T00:00:00\", \"2019-04-08T00:00:00\", \"2019-04-09T00:00:00\", \"2019-04-10T00:00:00\", \"2019-04-11T00:00:00\", \"2019-04-12T00:00:00\", \"2019-04-13T00:00:00\", \"2019-04-14T00:00:00\", \"2019-04-15T00:00:00\", \"2019-04-16T00:00:00\", \"2019-04-17T00:00:00\", \"2019-04-18T00:00:00\", \"2019-04-19T00:00:00\", \"2019-04-20T00:00:00\", \"2019-04-21T00:00:00\", \"2019-04-22T00:00:00\", \"2019-04-23T00:00:00\", \"2019-04-24T00:00:00\", \"2019-04-25T00:00:00\", \"2019-04-26T00:00:00\", \"2019-04-27T00:00:00\", \"2019-04-28T00:00:00\", \"2019-04-29T00:00:00\", \"2019-04-30T00:00:00\", \"2019-05-01T00:00:00\", \"2019-05-02T00:00:00\", \"2019-05-03T00:00:00\", \"2019-05-04T00:00:00\", \"2019-05-05T00:00:00\", \"2019-05-06T00:00:00\", \"2019-05-07T00:00:00\", \"2019-05-08T00:00:00\", \"2019-05-09T00:00:00\", \"2019-05-10T00:00:00\", \"2019-05-11T00:00:00\", \"2019-05-12T00:00:00\", \"2019-05-13T00:00:00\", \"2019-05-14T00:00:00\", \"2019-05-15T00:00:00\", \"2019-05-16T00:00:00\", \"2019-05-17T00:00:00\", \"2019-05-18T00:00:00\", \"2019-05-19T00:00:00\", \"2019-05-20T00:00:00\", \"2019-05-21T00:00:00\", \"2019-05-22T00:00:00\", \"2019-05-23T00:00:00\", \"2019-05-24T00:00:00\", \"2019-05-25T00:00:00\", \"2019-05-26T00:00:00\", \"2019-05-27T00:00:00\", \"2019-05-28T00:00:00\", \"2019-05-29T00:00:00\", \"2019-05-30T00:00:00\", \"2019-05-31T00:00:00\", \"2019-06-01T00:00:00\", \"2019-06-02T00:00:00\", \"2019-06-03T00:00:00\", \"2019-06-04T00:00:00\", \"2019-06-05T00:00:00\", \"2019-06-06T00:00:00\", \"2019-06-07T00:00:00\", \"2019-06-08T00:00:00\", \"2019-06-09T00:00:00\", \"2019-06-10T00:00:00\", \"2019-06-11T00:00:00\", \"2019-06-12T00:00:00\", \"2019-06-13T00:00:00\", \"2019-06-14T00:00:00\", \"2019-06-15T00:00:00\", \"2019-06-16T00:00:00\", \"2019-06-17T00:00:00\", \"2019-06-18T00:00:00\", \"2019-06-19T00:00:00\", \"2019-06-20T00:00:00\", \"2019-06-21T00:00:00\", \"2019-06-22T00:00:00\", \"2019-06-23T00:00:00\", \"2019-06-24T00:00:00\", \"2019-06-25T00:00:00\", \"2019-06-26T00:00:00\", \"2019-06-27T00:00:00\", \"2019-06-28T00:00:00\", \"2019-06-29T00:00:00\", \"2019-06-30T00:00:00\", \"2019-07-01T00:00:00\", \"2019-07-02T00:00:00\", \"2019-07-03T00:00:00\", \"2019-07-04T00:00:00\", \"2019-07-05T00:00:00\", \"2019-07-06T00:00:00\", \"2019-07-07T00:00:00\", \"2019-07-08T00:00:00\", \"2019-07-09T00:00:00\", \"2019-07-10T00:00:00\", \"2019-07-11T00:00:00\", \"2019-07-12T00:00:00\", \"2019-07-13T00:00:00\", \"2019-07-14T00:00:00\", \"2019-07-15T00:00:00\", \"2019-07-16T00:00:00\", \"2019-07-17T00:00:00\", \"2019-07-18T00:00:00\", \"2019-07-19T00:00:00\", \"2019-07-20T00:00:00\", \"2019-07-21T00:00:00\", \"2019-07-22T00:00:00\", \"2019-07-23T00:00:00\", \"2019-07-24T00:00:00\", \"2019-07-25T00:00:00\", \"2019-07-26T00:00:00\", \"2019-07-27T00:00:00\", \"2019-07-28T00:00:00\", \"2019-07-29T00:00:00\", \"2019-07-30T00:00:00\", \"2019-07-31T00:00:00\", \"2019-08-01T00:00:00\", \"2019-08-02T00:00:00\", \"2019-08-03T00:00:00\", \"2019-08-04T00:00:00\", \"2019-08-05T00:00:00\", \"2019-08-06T00:00:00\", \"2019-08-07T00:00:00\", \"2019-08-08T00:00:00\", \"2019-08-09T00:00:00\", \"2019-08-10T00:00:00\", \"2019-08-11T00:00:00\", \"2019-08-12T00:00:00\", \"2019-08-13T00:00:00\", \"2019-08-14T00:00:00\", \"2019-08-15T00:00:00\", \"2019-08-16T00:00:00\", \"2019-08-17T00:00:00\", \"2019-08-18T00:00:00\", \"2019-08-19T00:00:00\", \"2019-08-20T00:00:00\", \"2019-08-21T00:00:00\", \"2019-08-22T00:00:00\", \"2019-08-23T00:00:00\", \"2019-08-24T00:00:00\", \"2019-08-25T00:00:00\", \"2019-08-26T00:00:00\", \"2019-08-27T00:00:00\", \"2019-08-28T00:00:00\", \"2019-08-29T00:00:00\", \"2019-08-30T00:00:00\", \"2019-08-31T00:00:00\", \"2019-09-01T00:00:00\", \"2019-09-02T00:00:00\", \"2019-09-03T00:00:00\", \"2019-09-04T00:00:00\", \"2019-09-05T00:00:00\", \"2019-09-06T00:00:00\", \"2019-09-07T00:00:00\", \"2019-09-08T00:00:00\", \"2019-09-09T00:00:00\", \"2019-09-10T00:00:00\", \"2019-09-11T00:00:00\", \"2019-09-12T00:00:00\", \"2019-09-13T00:00:00\", \"2019-09-14T00:00:00\", \"2019-09-15T00:00:00\", \"2019-09-16T00:00:00\", \"2019-09-17T00:00:00\", \"2019-09-18T00:00:00\", \"2019-09-19T00:00:00\", \"2019-09-20T00:00:00\", \"2019-09-21T00:00:00\", \"2019-09-22T00:00:00\", \"2019-09-23T00:00:00\", \"2019-09-24T00:00:00\", \"2019-09-25T00:00:00\", \"2019-09-26T00:00:00\", \"2019-09-27T00:00:00\", \"2019-09-28T00:00:00\", \"2019-09-29T00:00:00\", \"2019-09-30T00:00:00\", \"2019-10-01T00:00:00\", \"2019-10-02T00:00:00\", \"2019-10-03T00:00:00\", \"2019-10-04T00:00:00\", \"2019-10-05T00:00:00\", \"2019-10-06T00:00:00\", \"2019-10-07T00:00:00\", \"2019-10-08T00:00:00\", \"2019-10-09T00:00:00\", \"2019-10-10T00:00:00\", \"2019-10-11T00:00:00\", \"2019-10-12T00:00:00\", \"2019-10-13T00:00:00\", \"2019-10-14T00:00:00\", \"2019-10-15T00:00:00\", \"2019-10-16T00:00:00\", \"2019-10-17T00:00:00\", \"2019-10-18T00:00:00\", \"2019-10-19T00:00:00\", \"2019-10-20T00:00:00\", \"2019-10-21T00:00:00\", \"2019-10-22T00:00:00\", \"2019-10-23T00:00:00\", \"2019-10-24T00:00:00\", \"2019-10-25T00:00:00\", \"2019-10-26T00:00:00\", \"2019-10-27T00:00:00\", \"2019-10-28T00:00:00\", \"2019-10-29T00:00:00\", \"2019-10-30T00:00:00\", \"2019-10-31T00:00:00\", \"2019-11-01T00:00:00\", \"2019-11-02T00:00:00\", \"2019-11-03T00:00:00\", \"2019-11-04T00:00:00\", \"2019-11-05T00:00:00\", \"2019-11-06T00:00:00\", \"2019-11-07T00:00:00\", \"2019-11-08T00:00:00\", \"2019-11-09T00:00:00\", \"2019-11-10T00:00:00\", \"2019-11-11T00:00:00\", \"2019-11-12T00:00:00\", \"2019-11-13T00:00:00\", \"2019-11-14T00:00:00\", \"2019-11-15T00:00:00\", \"2019-11-16T00:00:00\", \"2019-11-17T00:00:00\", \"2019-11-18T00:00:00\", \"2019-11-19T00:00:00\", \"2019-11-20T00:00:00\", \"2019-11-21T00:00:00\", \"2019-11-22T00:00:00\", \"2019-11-23T00:00:00\", \"2019-11-24T00:00:00\", \"2019-11-25T00:00:00\", \"2019-11-26T00:00:00\", \"2019-11-27T00:00:00\", \"2019-11-28T00:00:00\", \"2019-11-29T00:00:00\", \"2019-11-30T00:00:00\", \"2019-12-01T00:00:00\", \"2019-12-02T00:00:00\", \"2019-12-03T00:00:00\", \"2019-12-04T00:00:00\", \"2019-12-05T00:00:00\", \"2019-12-06T00:00:00\", \"2019-12-07T00:00:00\", \"2019-12-08T00:00:00\", \"2019-12-09T00:00:00\", \"2019-12-10T00:00:00\", \"2019-12-11T00:00:00\", \"2019-12-12T00:00:00\", \"2019-12-13T00:00:00\", \"2019-12-14T00:00:00\", \"2019-12-15T00:00:00\", \"2019-12-16T00:00:00\", \"2019-12-17T00:00:00\", \"2019-12-18T00:00:00\", \"2019-12-19T00:00:00\", \"2019-12-20T00:00:00\", \"2019-12-21T00:00:00\", \"2019-12-22T00:00:00\", \"2019-12-23T00:00:00\", \"2019-12-24T00:00:00\", \"2019-12-25T00:00:00\", \"2019-12-26T00:00:00\", \"2019-12-27T00:00:00\", \"2019-12-28T00:00:00\", \"2019-12-29T00:00:00\", \"2019-12-30T00:00:00\", \"2019-12-31T00:00:00\", \"2020-01-01T00:00:00\", \"2020-01-02T00:00:00\", \"2020-01-03T00:00:00\", \"2020-01-04T00:00:00\", \"2020-01-05T00:00:00\", \"2020-01-06T00:00:00\", \"2020-01-07T00:00:00\", \"2020-01-08T00:00:00\", \"2020-01-09T00:00:00\", \"2020-01-10T00:00:00\", \"2020-01-11T00:00:00\", \"2020-01-12T00:00:00\", \"2020-01-13T00:00:00\", \"2020-01-14T00:00:00\", \"2020-01-15T00:00:00\", \"2020-01-16T00:00:00\", \"2020-01-17T00:00:00\", \"2020-01-18T00:00:00\", \"2020-01-19T00:00:00\", \"2020-01-20T00:00:00\", \"2020-01-21T00:00:00\", \"2020-01-22T00:00:00\", \"2020-01-23T00:00:00\", \"2020-01-24T00:00:00\", \"2020-01-25T00:00:00\", \"2020-01-26T00:00:00\", \"2020-01-27T00:00:00\", \"2020-01-28T00:00:00\", \"2020-01-29T00:00:00\", \"2020-01-30T00:00:00\", \"2020-01-31T00:00:00\", \"2020-02-01T00:00:00\", \"2020-02-02T00:00:00\", \"2020-02-03T00:00:00\", \"2020-02-04T00:00:00\", \"2020-02-05T00:00:00\", \"2020-02-06T00:00:00\", \"2020-02-07T00:00:00\", \"2020-02-08T00:00:00\", \"2020-02-09T00:00:00\", \"2020-02-10T00:00:00\", \"2020-02-11T00:00:00\", \"2020-02-12T00:00:00\", \"2020-02-13T00:00:00\", \"2020-02-14T00:00:00\", \"2020-02-15T00:00:00\", \"2020-02-16T00:00:00\", \"2020-02-17T00:00:00\", \"2020-02-18T00:00:00\", \"2020-02-19T00:00:00\", \"2020-02-20T00:00:00\", \"2020-02-21T00:00:00\", \"2020-02-22T00:00:00\", \"2020-02-23T00:00:00\", \"2020-02-24T00:00:00\", \"2020-02-25T00:00:00\", \"2020-02-26T00:00:00\", \"2020-02-27T00:00:00\", \"2020-02-28T00:00:00\", \"2020-02-29T00:00:00\", \"2020-03-01T00:00:00\", \"2020-03-02T00:00:00\", \"2020-03-03T00:00:00\", \"2020-03-04T00:00:00\", \"2020-03-05T00:00:00\", \"2020-03-06T00:00:00\", \"2020-03-07T00:00:00\", \"2020-03-08T00:00:00\", \"2020-03-09T00:00:00\", \"2020-03-10T00:00:00\", \"2020-03-11T00:00:00\", \"2020-03-12T00:00:00\", \"2020-03-13T00:00:00\", \"2020-03-14T00:00:00\", \"2020-03-15T00:00:00\", \"2020-03-16T00:00:00\", \"2020-03-17T00:00:00\", \"2020-03-18T00:00:00\", \"2020-03-19T00:00:00\", \"2020-03-20T00:00:00\", \"2020-03-21T00:00:00\", \"2020-03-22T00:00:00\", \"2020-03-23T00:00:00\", \"2020-03-24T00:00:00\", \"2020-03-25T00:00:00\", \"2020-03-26T00:00:00\", \"2020-03-27T00:00:00\", \"2020-03-28T00:00:00\", \"2020-03-29T00:00:00\", \"2020-03-30T00:00:00\", \"2020-03-31T00:00:00\", \"2020-04-01T00:00:00\", \"2020-04-02T00:00:00\", \"2020-04-03T00:00:00\", \"2020-04-04T00:00:00\", \"2020-04-05T00:00:00\", \"2020-04-06T00:00:00\", \"2020-04-07T00:00:00\", \"2020-04-08T00:00:00\", \"2020-04-09T00:00:00\", \"2020-04-10T00:00:00\", \"2020-04-11T00:00:00\", \"2020-04-12T00:00:00\", \"2020-04-13T00:00:00\", \"2020-04-14T00:00:00\", \"2020-04-15T00:00:00\", \"2020-04-16T00:00:00\", \"2020-04-17T00:00:00\", \"2020-04-18T00:00:00\", \"2020-04-19T00:00:00\", \"2020-04-20T00:00:00\", \"2020-04-21T00:00:00\", \"2020-04-22T00:00:00\", \"2020-04-23T00:00:00\", \"2020-04-24T00:00:00\", \"2020-04-25T00:00:00\", \"2020-04-26T00:00:00\", \"2020-04-27T00:00:00\", \"2020-04-28T00:00:00\", \"2020-04-29T00:00:00\", \"2020-04-30T00:00:00\", \"2020-05-01T00:00:00\", \"2020-05-02T00:00:00\", \"2020-05-03T00:00:00\", \"2020-05-04T00:00:00\", \"2020-05-05T00:00:00\", \"2020-05-06T00:00:00\", \"2020-05-07T00:00:00\", \"2020-05-08T00:00:00\", \"2020-05-09T00:00:00\", \"2020-05-10T00:00:00\", \"2020-05-11T00:00:00\", \"2020-05-12T00:00:00\", \"2020-05-13T00:00:00\", \"2020-05-14T00:00:00\", \"2020-05-15T00:00:00\", \"2020-05-16T00:00:00\", \"2020-05-17T00:00:00\", \"2020-05-18T00:00:00\", \"2020-05-19T00:00:00\", \"2020-05-20T00:00:00\", \"2020-05-21T00:00:00\", \"2020-05-22T00:00:00\", \"2020-05-23T00:00:00\", \"2020-05-24T00:00:00\", \"2020-05-25T00:00:00\", \"2020-05-26T00:00:00\", \"2020-05-27T00:00:00\", \"2020-05-28T00:00:00\", \"2020-05-29T00:00:00\", \"2020-05-30T00:00:00\", \"2020-05-31T00:00:00\", \"2020-06-01T00:00:00\", \"2020-06-02T00:00:00\", \"2020-06-03T00:00:00\", \"2020-06-04T00:00:00\", \"2020-06-05T00:00:00\", \"2020-06-06T00:00:00\", \"2020-06-07T00:00:00\", \"2020-06-08T00:00:00\", \"2020-06-09T00:00:00\", \"2020-06-10T00:00:00\", \"2020-06-11T00:00:00\"], \"y\": [-0.06378291321265728, 0.057130597931132954, 0.005893982236958806, -0.0027437694663170475, 0.02131056076838611, 0.04067717158052098, -0.05657977178739593, 0.014667473710355594, -0.03277955129768628, 0.04674546991375372, 0.017526235270123536, -0.06866233359782825, -0.021235480217416836, 0.05455913703538151, 0.00993831862862038, -0.05813304859780466, -0.06737693137975143, -0.05217891779867401, -0.008128657366585301, -0.04729943406914927, -0.009567351407145708, 0.051728107557257985, 0.010825241460400647, -0.013189661144462406, 0.038116383176211244, -0.031285000776895444, -0.0012892358400264925, -0.04044305199896847, -0.02803723550515791, 0.05662438245228962, 0.05614289230715919, -0.018251112221129517, -0.005827123391609845, 0.010316307203780184, -0.045014036189476414, -0.04380904750724213, 0.009399444681658764, -0.04667206152132053, -0.011227389204144345, 0.008296133591930044, 0.054941354915875706, 0.029689113723984306, 0.029714537300025157, -0.0741321542327249, -0.05275367587611157, 0.06511598102403049, 0.017784823068604183, -0.08992877931291154, 0.0701455778147384, 0.0035867139765404232, -0.011177864763904921, 0.021576470472513876, 0.014750931802504752, 0.01669394895406562, -0.00610127541190586, 0.015200730292056264, -0.0070475256781872275, -0.0051720148876821526, 0.05940249529436237, -0.0015845062115324993, 0.01759700896421812, 0.0032651828627390245, 0.013640630013499688, 0.005501610195279838, 0.02329775738595785, 0.0012746934374483487, -0.07362601437016636, -0.02313487339913678, 0.031332347971000374, -0.022419979785285093, -0.009127359117622191, -0.004191538260430505, -0.005025968359420929, -0.028912060605602363, 0.020394852406795394, 0.02199996872011667, -0.06832109905181127, 0.033943694282736914, 0.050404400887728684, -0.08529333224254643, -0.026527660362921424, -0.036036772682198404, -0.020489831326496954, 0.02766022077086383, -0.022792233162697073, -0.0228758149305488, 0.043068632824166286, 0.06565581176887036, -0.059664821607153584, -0.02550370746796915, 0.010195808922125238, -0.007482658902231876, -0.012073480533054237, -0.030465862322838433, -0.058122717793356315, 0.022396720853354424, 0.05064775047708814, -0.045728723384103276, -0.030991107236229, 0.004895274396643501, 0.004418486737131744, 0.04603884454563634, 0.03919648337435255, -0.0004257244908938418, -0.033813234597261044, -0.05071864731799636, -0.04351291727745199, -0.018660151350536225, -0.004562939750131889, 0.004944978858391735, -0.05617858962231459, -0.01883764861065984, 0.04379988676134694, -0.030885510619974355, -0.016719599172640542, -0.07896576184395343, -0.021522846944767693, -0.011740481531036906, 0.015490403082962345, -0.015093887829799257, 0.006590082529941199, 0.010626551323253963, 0.0782407294250902, -0.008483687871743584, -0.024556618498731808, 0.04323982706104523, -0.03619691897327826, -0.01572281434079592, -0.03893104243804757, -0.031377685924208976, 0.015236843904315123, 0.020011398949387527, -0.021744148090308002, -0.003680558922477317, -0.010380509575137253, 0.020787893805541913, -0.023798053622227755, -0.004006347790259213, -0.07328174953242161, -0.05237685567132644, 0.034561659679933854, 0.07843659257530256, 0.02879431685667555, -0.07702236489315872, -0.021182176156697707, 0.03679480196803375, -0.03742418625617816, 0.016911183004058472, 0.028332333946085697, -0.049284964965151445, -0.012223206050215651, -0.034920500424696854, -0.009632220409454106, -0.005012830775008581, -0.06295056964581747, -0.06925453886458754, 0.01012908372610255, 0.02032115897916853, -0.030559707904078692, -0.030933697511827063, 0.0008257692774300551, 0.02227483829774002, -0.10413859412130222, 0.029376966318059416, -0.03900338194749686, -0.013685302213144013, -0.02271661529251645, 0.025795664879673552, -0.02175330055201563, 0.0032054113919794958, -0.0736919044397446, 0.048266463628436895, 0.011091446651658288, 0.051926482281499986, 0.01867713090269163, -0.08454728432008629, 0.009396577081519197, -0.042464238396730636, 0.02089740139710905, -0.01853540069762616, -0.03175647555200989, -0.04445070726607803, -0.01861901304633662, -0.05049162514411343, 0.02005052118910733, -0.013374853677428078, -0.00805286216775869, 0.0018993462008598527, 0.0063180833850235985, 0.01780533338399337, -0.04566323256258542, -0.04281570739140683, -0.023451677995970144, -0.020979248063854428, 0.003528917987431157, -0.029420262774193517, 0.0046451714133830535, 0.010864766151748029, -0.02617464031553496, 0.008322205783247938, -0.01214803691517119, -0.012516859257150514, 0.0005229172706808782, 0.05579898366518776, 0.09222790248988488, 0.10839927488445689, 0.12061074620393164, 0.07253962484718102, 0.003820349040525528, -0.012433305562433716, -0.024260173078056724, 0.0003499821422465743, 0.041756579830876106, -0.03147963432926204, -0.07670054437564211, -0.0015701799425738017, -0.04278541845387984, -0.04895710894769323, -0.022866668726431172, -0.06403381951576215, -0.13077092493340636, -0.041823322431726595, -0.012473567193653778, 0.008652077553211512, -0.009491490018676885, -0.00306093905088467, -0.05404305874331783, 0.03834320080973086, 0.05258904996262892, -0.03314320208895438, 0.016010316041805694, 0.011481411381476292, -0.05643814962659732, -0.03539302451503268, 0.044212216029821505, 0.03659543937773613, 0.007473026462459842, 0.006652135829858352, -0.03201174908391202, 0.04247575586360064, 0.07626686243553848, -0.0577254174909374, -0.039457830114642434, 0.037134267648276875, -0.0021515403435667935, -0.005496742550572975, -0.031192364624164526, -0.0016424535585457534, -0.05929321253539932, -0.02506154040830566, -0.01974090885851787, -0.002002977636962555, 0.04032231970076694, -0.009644340893594006, 0.0440112112175175, -0.007426811878433526, -0.013652096686826098, -0.046855987918309694, 0.05369460710135421, -0.0029551477495264322, 0.02306285991049606, -0.06361086080887723, -0.0018914362549597996, 0.07420967089106512, -0.022548929117583327, -0.04176547799765551, -0.005628167078981505, 0.04906746581084498, -0.01288979272891666, -0.03768310961385524, -0.06580185952999074, 0.020969220441363845, -0.0725312387547632, -0.02965369207419144, -0.057035346594474845, -0.015334138736379899, 0.04108642841215371, 0.005403618021272649, 0.02856420984645247, 0.04434204577320777, -0.022541974847351653, 0.029269673016608877, 0.01931180918380271, -0.004087545184022545, 0.023425428004259174, 0.04146548572295217, -0.0026792906484569556, 0.05485870029830053, -0.007939033196914025, -0.05767439568889543, 0.008164257749619708, -0.03688858263061334, 0.004647961927355837, 0.0037240328409282597, 0.04361440505598502, -0.054192180060553596, 0.08586567580423221, 0.03175202556762713, -0.0025423205678567484, -0.0633623115706552, 0.010615705985468793, -0.0573311160982346, 0.08267465170596289, 0.021395173178836657, -0.025360124068878775, 0.06550402499884633, -0.004376127753712211, 0.06839833963890385, 0.024166185542950913, -0.0428893569242188, -0.04272484753673922, -0.014190817610883144, -0.021052126321524867, 0.013266854492622215, -0.05485001119592425, -0.02318052358417866, 0.09187686608583334, 0.0062676287158378585, 0.07116103990274958, 0.0035447398560854992, 0.04826240464843501, -0.013418985092783942, 0.050295151369720514, 0.04732869633773085, 0.08293251210718999, 0.011463293523707563, -0.06383194989787278, 0.06124094188559326, 0.05654680269217316, -0.10216795590115524, -0.06897588573287905, -0.017344244498140426, -0.022501497565929895, 0.07802886528695119, -0.05976754576645327, -0.00677172826667416, 0.020990394431780857, 0.08970202619701695, 0.04677059733286093, -0.015168298393451352, 0.004212438306366195, -0.01682115208065227, 0.02449640523089336, 0.08822214207983237, -0.06769112351281414, 0.010241250876054764, 0.03776418293945305, -0.019156732327914483, -0.0022610792555770587, 0.02521483132401059, 0.004976194877974294, 0.02799538342917174, -0.024196756983833723, -0.05715710596748913, 0.06717099080507793, 0.018369741187452604, -0.09918299398159469, -0.039579003146808844, 0.08758261755172114, -0.0018981151274211072, -0.011044141416130415, -0.03666168028195571, -0.06711124631513776, -0.021052240641383335, 0.00204837787302381, -0.038778437516532094, 0.010596219815145247, -0.022132286166787196, -0.012989361262398802, 0.06546046274693929, 0.016364995219570133, -0.004137793464117578, -0.0029612838159387422, -0.01952563757888548, 0.023360461216272554, -0.024823714554974785, 0.03912841795665223, 0.06010684035520342, 0.0032507907775372047, -0.026557985760449654, -0.02332785851478647, 0.020679059883640605, -0.04685334528906537, -0.022857470631258536, 0.08318095294180416, 0.03455219981970359, -0.020499018972467198, 0.013284781348176011, -0.0631859154399077, 0.0030927752833935784, -0.01529089866576605, -0.06644687225634449, 0.010515849900185614, 0.040304039573808126, -0.046685332055378836, 0.004819516368060661, 0.0583664054283517, -0.05644911733563163, -0.08272290907826907, -0.026099198746425856, -0.030194722974247412, 0.0066477169972074535, -0.022319971168725417, 0.030994981363814844, -0.008332495326113687, -0.009043604099657543, -0.022710763070566742, -0.0016933621900072637, 0.03133591527453028, -0.04085311595373575, -0.020883853384036755, 0.005550215271663106, 0.02243605800308046, -0.0024789768428004066, 0.004550334596563843, -0.009633658298790593, -0.014147307664703845, -0.036058660708066625, 0.031043609243294412, -0.0378489335681742, -0.021507251724582233, 0.15135958943845118, -0.025253922241677884, 0.024529067163417295, 0.03713995185080243, 0.00952318882146308, -0.021944731329739398, -0.03713714811038926, -0.049577661591639455, 0.036322663207162265, 0.008698701325556613, -0.04169382250953113, 0.02298445699216245, 0.038018145996659314, 0.07645357217269577, -0.08244284266405266, -0.06147826106308507, 0.010816741551373354, -0.00642245184125656, -0.0009025164827072274, 0.02967888249417605, 0.05900732177549628, -0.04126189330424346, -0.012824661091041634, -0.04731421965289684, -0.0093384323213197, -0.036269608552727206, 0.030808730102531712, 0.0334235599750361, 0.03384836501217414, -0.009798221331291046, 0.07047751270909686, -0.05545443614752443, -0.02585553276535535, -0.002766770250879347, -0.04616166104728592, -0.010753903093734252, 0.027677662705746897, -0.030327460092829384, 0.012398993902110078, 0.0008943014093052426, -0.04274407428594351, 0.010255570702460304, -0.054801570585311765, 0.05037790942460951, -0.02046973830890053, -0.007596752966046338, -0.007197299247881261, 0.02285905390812104, -0.05210179245165314, 0.010952578147476189, -0.01015218714297994, -0.009416501912010489, 0.05837907255263275, 0.003096337237295188, -0.06992298485132942, 0.06671652382255999, -0.09082892893007788, -0.02508548678399869, 0.039842124195820006, 0.008299715844291455, -0.011437878211294716, -0.0031059228954060103, -0.04562728688667583, 0.08489465335447477, -0.03930697806655559, -0.01115512837757926, -0.01644185316520641, -0.06288923702275895, 0.0021823267723384276, -0.08608661045388999, 0.031544789462188305, 0.03372988674287569, -0.02605901303019742, 0.006045226717139585, 0.0062582932171793, -0.012981766023436592, 0.01619685192928344, -0.01920699472340104, -0.06020208473338862, -0.035163552832663925, -0.042494355023070085, 0.007655346897486481, 0.03431173430743861, 0.008736908026527601, -0.0063174628473881, 0.01711398901101724, 0.03342223762173724, -0.00993543841279454, -0.006402199745540571, -0.040085561404023196, -0.00037176237336389306, -0.04036668426794954, -0.021735050287023938, -0.04150045946617631, -0.04435534366152716, -0.009511887255543527, -0.03281058154868788, -0.03198942260106996, 0.019833666395518534, -0.05197624319185579, -0.022625716034239574, 0.009052697703904045, 0.003448574971113061, 0.01819731253699608, -0.03312204279795772, -0.021031925170756693, 0.03199533141167876, 0.021720825546454492, 0.017991580595619894, -0.011789395655281254, -0.037240303999471536, -0.03482142597277793, 0.01091412643034495, 0.024713141189936394, -0.024043823272222653, -0.06891335717281954, -0.059470374501096046, -0.027485352194950963, -0.016167605453167866, -0.03097164509357242, -0.0271095098787395, -0.021540797918179422, -0.029124131892945826, 0.052679482196026584, 0.04221532107059289, 0.03955870826110619, -0.06423937543073954, 0.02235393358457749, -0.003521142905501762, -0.00918182083431951, -0.03278937737018772, 0.019757584441080667, 0.04283143640164688, 0.04461177302287389, -0.03852389057482242, -0.04945174536326391, 0.0013512834763069748, 0.003375631669149115, -0.027891961288029066, -0.08543097176288228, -0.01754751645039221, -0.035795440408183055, 0.02740529928887625, 0.05667098556899042, 0.0060457085643594866, -0.002495328756769055, 0.026520130261022956, 0.022713082472375135, -0.015852447085382693, 0.12923590918100913, 0.034628146607722954, 0.042012873800739925, 0.009557409472174427, 0.009274281886622049, 0.005770916746863364, 0.01793796954117255, 0.0517594556180736, -0.011248512585352088, -0.08356584541220435, -0.08504477678818212, -0.05759316616923549, -0.05128203162456835, 0.00942509871200592, -0.08640323690908858, -0.005782513090371921, -0.03399748304024541, -0.04027968159250683, 0.0034552324464822703, 0.04964247647084363, 0.045297872572344744, -0.1116346392436256, -0.02571320502726593, 0.02865821577916705, 0.058974347447973585, -0.03682491944172739, -0.04296432688808949, -0.04372513709559023, -0.005885947125007007, -0.028930175612329023, 8.250855928437772e-05, -0.019920306841468616, 0.04776464633255095, 0.028583438375573422, 0.02774990292785695, -0.015451245440651462, -0.06481471531180283, -0.012503435101969274, -0.015505771350269981, -0.000723292588928004, -0.0022210678306358034, -0.019949038701502886, 0.018650041902990466, -0.0026316621174089505, 0.02840256212062542, 0.06044194694051086, 0.0015235527851498176, 0.016093468924561094, -0.04899151457452078, -0.0035383466245821893, 0.07518038523534365, -0.002024036718246691, 0.017398374448891474, 0.014565677244368302, -0.0006375921046313238, 0.06818360726443906, -0.015027383980873665, 0.011299570686210458, 0.002792376752195125, -0.01038379331853001, 0.002984573564761561, 0.004943044048999923, 0.012944665185431248, 0.024686565289341544, -0.002672200667586111, 0.02591111384055189, -0.04850923589328815, -0.026708498857727747, 0.05847807547423933, -0.033249325242760364, 0.029941232195964673, -0.012052968742089831, -0.03169655314909825, 0.044474555195456844, -0.01838083492721765, 0.01109179384837411, 0.0056101327662236855, 0.003274014073438636, -0.056199462895595076, 0.031090977875230408, 0.024232517450453628, 0.026860433476969092, -0.06453200180334306, 0.0497149235366372, -0.0824050426435825, -0.0030755565120959005, -0.0013130774461931338, -0.02431595735053982, 0.017254035637817466, 0.0016306643198298332, 0.07281512743610996, 0.02252747525885823, 0.011998775210697588, -0.04951444453781306, 0.04602544540689557, 0.03396279345573383, 0.011476284398183267, -0.03749000656129198, 0.02509373157314876, -0.032056378376434935, 0.00449582107331814, -0.036235621762509496, 0.0015588431863786667, -0.007555844672850753, -0.06950872102824412, 0.012345271628618093, 0.043072907365118596, 0.07287182434241224, -0.012737008829303065, -0.04894924914154153, 0.03939450868480243, -0.0024692120757325853, 0.03442001204920686, -0.024329602975941, 0.028910691083195772, 0.06637438713049093, 0.03216759914273304, 0.06055351451296964, 0.11210952919173423, -0.01375873782539827, 0.008697770907270197, -0.0730926310821669, -0.006124051435056899, 0.03149612082467712, -0.014276402455729809, -0.08548474444624254, -0.048828626972019507, 0.060495718716151003, -0.025026405524336326, -0.02386398003072543, -0.05294187971221298, 0.06529667770243641, -0.04838122259784683, -0.022475391069626482, 0.004585281159370069, 0.00018622726964068193, -0.0369791336871792, -0.002851023757409976, -0.03443119965396413, 0.10077283487619582, 0.10957333893357202, -0.010989317759470651, 0.023744509640739153, 0.034825422618521173, -0.050341756685263306, -0.0827467218178004, 0.007798734907137117, -0.014181312026828152, 0.04978853499013347, 0.02326529291642032, 0.01979317258376767, 0.04919262851253059, 0.03051323379426485, 0.010961952871621605, 0.003043715684153625, -0.04361160250549645, -0.03507288336309955, 0.02649040647455614, 0.03494781597530938, 0.00384722643956259, -0.008486982258981257, 0.002150340829148334, -0.08377410480325409, 0.035564430371753275, 0.010493136086678234, -0.04734407904522975, 0.041134035374273736, -0.023158900028938945, -0.10631577297222705, 0.04925366746195792, -0.05897889750947982, -0.0649059018997935, 0.030392641828072442, 0.0027787302008697168, 0.02597959236941172, -9.347891994337942e-05, -0.024280884310801554, -0.005884571808836725, 0.09404912799778664, 0.005691272886480192, 0.0012760333819930025, -0.0698299974441472, -0.04031553792298226, -0.014376116995256538, 0.07320996668847712, 0.027798137293284952, 0.016573053667297444, -0.0783637614623931, 0.06573444366181391, 0.04231271228813149, 0.02320555162139115, -0.008437102321757095, -0.07135308829531262, -0.02693648152780881, -0.013100910137193722, 0.011681304131538894, 0.011960318220747723, -0.02782123253114932, -0.026417103460067537, -0.05924248496353002, 0.02459272732130735, 0.01769819093560976, -0.03144091764712087, -0.010240970363549096, 0.02268434299420541, -0.015884621975878588, 0.0035533923212103247, -0.03241516958981805, 0.08228692768812529, 0.0015516247258933191, -0.028176359759415348, -0.03588067517126703, -0.0364725495258682, -0.05660685161058154, -0.0212185827661191, 0.0015011474248733947, 0.018667963297176016, 0.04431593513350407, 0.03551568432782659, 0.04619326408067259, 0.003019880936717456, 0.019168441827529747, -0.0680363202098846, -0.01517122893789491, 0.010906653702111413, 0.0549421168708335, 0.03418938323180143, 0.0070518138599027225, 0.016124177264165596, 0.07357129545675534, -0.018857593231901504, -0.04884018368555587, -0.00441541447517757, -0.08506462448166019, 0.08850662555198063, -0.026713504932791565, 0.05375376720696323, 0.03025527195340949, -0.010062345535120087, -0.03398007123566238, 0.01839797007474786, -0.023862043353663154, -0.016116495427947797, -0.06135135917800483, -0.039207341782070415, -0.008422778281795829, -0.05912732029148593, 0.011250898654070696, 0.04033567839141661, 0.05111171713504348, -0.02846108780969203, 0.030383301540307883, -0.019305593650509323, 0.002119904263908623, 0.054263092117903255, -0.02762665591072455, -0.03296895508661635, -0.03110804426999003, 0.0047620022151857455, -0.0738160579564422, 0.0453533991349353, -0.015921844999473578, -0.058063460016347435, 0.021155767545748105, 0.031948494645169134, -0.07789121719538805, -0.018195748842787296, 0.06200097338268229, -0.039710048203577486, -0.013212173558672546, 0.022865591605887303, 0.007823803469467094, -0.09047194003406034, 0.07880372336855146, -0.07585145347992928, -0.037750657701622004, 0.05390721959446232, -0.017788690225870596, -0.023657735132221802, 0.017392058526933596, -0.024533540101391083, -0.018099202576500772, 0.03699484367339245, -0.08993307295325437, -0.04090640490947628, -0.06609846091410176, 0.0794398163752259, -0.03472918028104033, 0.04878323769082549, -0.01024533156805063, 0.004491261606853314, -0.058793967521761914, -0.05024978297396032, -0.03105932662559674, 0.0048919307398431755, -0.036079914087777, -0.007984187594038517, 0.004488044885652798, 0.00955424979296815, 0.008980070949926144, 0.013612546314403673, -0.0309423736535841, -0.04123546927671917, -0.030741636651841375, -0.03327237826253082, 0.002572635810485835, 0.0011066007811386669, 0.026055192386241544, -0.012634634064417227, -0.017800230130539774, -0.010791170978615483, -0.03692553977977653, -0.019328429953910486, 0.017722064475186983, -0.06541449136409838, 0.010397090146582855, -0.0041511044014406195, -0.033605024937461536, 6.034374145613697e-05, -0.014036742763265053, -0.06146742684574491, -0.008352586572447862, 0.04509276097563486, -0.01986729564916523, -0.032637219381493665, -0.008735762614215048, -0.019503882573616238, -0.022495899969753097, -0.028479923784361816, -0.001336608405047457, -0.04512399201262163, 0.025322945286395893, -0.02947580553962048, -0.00109086567763228, 0.022402122710193595, -0.030131619074914795, -0.023841578379849793, 0.017885540738701522, -0.0015883742316731286, 0.023174580746013973, -0.005034380881680178, -0.024566473801421296, -0.0025752749617673487, -0.03448305858676548, 0.0035894328276739884, -0.028791813118147047, 0.010943573872459922, 0.043234433142252726, 0.022577261030326312, 0.0749688254516272, -0.027516544382692132, -0.029798815563655268, -0.01209327254055026, -0.03455398365389151, -0.006271449962389042, 0.0319217499590394, -0.024905437291034005, -0.01588286786072679, -0.023420226341041683, 0.014789416129824318, 0.05401855805631861, -0.047812528926717945, -0.009993295105442002, -0.008497488014516108, 0.10449079067309164, 0.11060480568622744, 0.04844019947051237, 0.024409663454193264, 0.000517143585758717, -0.04311492893042512, 0.008050875184792972, 0.04901800148190105, 0.018825276898791543, -0.0424017160291843, -0.02578371352057829, -0.006616562967199258, 0.00012105272966245195, -0.03355490465958333, -0.04556745623987091, -0.07656587500386536, -0.03117611484680971, -0.0183610334605806, -0.0042999290334542195, 0.07189754736011267, -0.017058067358304285, -0.061753122551349904, -0.02934406062063566, 0.031055090668155927, -0.0230558754969028, -0.01606867229232023, -0.0341071004594351, -0.022445805551889464, -0.03958390910384679, -0.014467338811094521, -0.021440144851283094, -0.03547831968722903, -0.005200376742587665, -0.03051783683334719, 0.044523049104356005, 0.010640832459138494, 0.0339782866690701, 0.0030131206069423655, 0.004854221224009692, 0.042372269533037965, 0.08012161148275965, -0.040128967954023764, 0.01321330633368234, -0.021316092979811074, -0.05097615054074289, 0.0071706368748216676, 0.01074114964813866, 0.0317138277732365, -0.02054836539390159, -0.006082099261909946, 0.00172985433008499, 0.003808715827448239, -0.02511296210531988, -0.038074935966541545, -0.04906745663870282, 0.06560522959076209, 0.005183631031101754, -0.00838159887391221, -0.006680553417755419, 0.03791724530376861, -0.0067938021119609004, 0.005486604498736725, -0.015326530725261023, -0.03671517583185668, 0.004180693301943705, 0.012008948707299183, -0.014017372609052003, -0.04664426527941856, 0.060090364662025664, 0.015659683061613805, -0.04671373787978084, -0.025190251321742352, -0.021060268881857525, -0.043155806577082956, 0.05335187234278571, -0.03446093683822404, 0.060510922401912026, -0.004499083319569053, 0.032061262135071544, 0.07148066429546063, 0.07465413246713659, -0.05932924004548212, -0.05625077573504811, -0.029053727503260518, 0.06089067178880292, 0.0008741049503147025, -0.04530665778498033, -0.03837859455190262, 0.07709129250548052, 0.036883359846164865, -0.03294036386085786, -0.030410290582429056, 0.04073802132742799, 0.04806018987814653, 0.025557889631055986, 0.05395278904162559, -0.030843507742229548, -0.02158698398533687, -0.01982575432238498, -0.032654270041440725, -0.01656052782240458, 0.10592214257854238, -0.04043377720165253, 0.02721258788898062, 0.1276138245123981, 0.0728206576313255, 0.00818218133021098, 0.024804829375231208, -0.004163046426150174, -0.02179022722353885, 0.06503587488634288, -0.03363913596844803, 0.06405115644435178, -0.010812540305082052, 0.03960513799326293, -0.018229063210815966, 0.053477110603457945, -0.12922277211070465, 0.04119319568873436, -0.01986569825205997, 0.03568920101908368, -0.014065444155104245, 0.021768337518579983, 0.027058309069980524, -3.0609070567066965e-05, -0.05090255132034649, -0.03960036414686385, -0.0956784294018096, 0.004059767249030344, -0.02681493949376268, -0.00055962726611547, 0.08192037450243994, -0.11539392721809882, 0.09178487438752825, 0.09705046566313236, 0.016859078632835534, -0.01917983310989868, -0.05990267581128528, 0.07878961405362084, 0.028371902463296905, -0.011433935124289363, -0.05635011004138235, -0.0168607226489339, 0.023500486782765506, 0.12958809238379487, -0.0602158177829768, -0.040722684040947144, -0.013676562187045604, 0.03428827531351253, -0.0006466736319925559, -0.011826127520528473, 0.08004372662235681, 0.015362086325936275, 0.04551760727118115, -0.030850842060344164, 0.011412377172323573, -0.004263527076700413, 0.011331252973473482, -0.2736857232078407, 0.13402495946820991, 0.09787059895665884, -0.040782546631429994, -0.01234714423752692, -0.049947559620756365, -0.02298722368021444, 0.08079829395389915, -0.0829867485416802, -0.08567116227854932, -0.021885785247929945, -0.014143009812727314, -0.049314009101953715, 0.026677129161500446]}],\n",
              "                        {\"template\": {\"data\": {\"bar\": [{\"error_x\": {\"color\": \"#2a3f5f\"}, \"error_y\": {\"color\": \"#2a3f5f\"}, \"marker\": {\"line\": {\"color\": \"#E5ECF6\", \"width\": 0.5}}, \"type\": \"bar\"}], \"barpolar\": [{\"marker\": {\"line\": {\"color\": \"#E5ECF6\", \"width\": 0.5}}, \"type\": \"barpolar\"}], \"carpet\": [{\"aaxis\": {\"endlinecolor\": \"#2a3f5f\", \"gridcolor\": \"white\", \"linecolor\": \"white\", \"minorgridcolor\": \"white\", \"startlinecolor\": \"#2a3f5f\"}, \"baxis\": {\"endlinecolor\": \"#2a3f5f\", \"gridcolor\": \"white\", \"linecolor\": \"white\", \"minorgridcolor\": \"white\", \"startlinecolor\": \"#2a3f5f\"}, \"type\": \"carpet\"}], \"choropleth\": [{\"colorbar\": {\"outlinewidth\": 0, \"ticks\": \"\"}, \"type\": \"choropleth\"}], \"contour\": [{\"colorbar\": {\"outlinewidth\": 0, \"ticks\": \"\"}, \"colorscale\": [[0.0, \"#0d0887\"], [0.1111111111111111, \"#46039f\"], [0.2222222222222222, \"#7201a8\"], [0.3333333333333333, \"#9c179e\"], [0.4444444444444444, \"#bd3786\"], [0.5555555555555556, \"#d8576b\"], [0.6666666666666666, \"#ed7953\"], [0.7777777777777778, \"#fb9f3a\"], [0.8888888888888888, \"#fdca26\"], [1.0, \"#f0f921\"]], \"type\": \"contour\"}], \"contourcarpet\": [{\"colorbar\": {\"outlinewidth\": 0, \"ticks\": \"\"}, \"type\": \"contourcarpet\"}], \"heatmap\": [{\"colorbar\": {\"outlinewidth\": 0, \"ticks\": \"\"}, \"colorscale\": [[0.0, \"#0d0887\"], [0.1111111111111111, \"#46039f\"], [0.2222222222222222, \"#7201a8\"], [0.3333333333333333, \"#9c179e\"], [0.4444444444444444, \"#bd3786\"], [0.5555555555555556, \"#d8576b\"], [0.6666666666666666, \"#ed7953\"], [0.7777777777777778, \"#fb9f3a\"], [0.8888888888888888, \"#fdca26\"], [1.0, \"#f0f921\"]], \"type\": \"heatmap\"}], \"heatmapgl\": [{\"colorbar\": {\"outlinewidth\": 0, \"ticks\": \"\"}, \"colorscale\": [[0.0, \"#0d0887\"], [0.1111111111111111, \"#46039f\"], [0.2222222222222222, \"#7201a8\"], [0.3333333333333333, \"#9c179e\"], [0.4444444444444444, \"#bd3786\"], [0.5555555555555556, \"#d8576b\"], [0.6666666666666666, \"#ed7953\"], [0.7777777777777778, \"#fb9f3a\"], [0.8888888888888888, \"#fdca26\"], [1.0, \"#f0f921\"]], \"type\": \"heatmapgl\"}], \"histogram\": [{\"marker\": {\"colorbar\": {\"outlinewidth\": 0, \"ticks\": \"\"}}, \"type\": \"histogram\"}], \"histogram2d\": [{\"colorbar\": {\"outlinewidth\": 0, \"ticks\": \"\"}, \"colorscale\": [[0.0, \"#0d0887\"], [0.1111111111111111, \"#46039f\"], [0.2222222222222222, \"#7201a8\"], [0.3333333333333333, \"#9c179e\"], [0.4444444444444444, \"#bd3786\"], [0.5555555555555556, \"#d8576b\"], [0.6666666666666666, \"#ed7953\"], [0.7777777777777778, \"#fb9f3a\"], [0.8888888888888888, \"#fdca26\"], [1.0, \"#f0f921\"]], \"type\": \"histogram2d\"}], \"histogram2dcontour\": [{\"colorbar\": {\"outlinewidth\": 0, \"ticks\": \"\"}, \"colorscale\": [[0.0, \"#0d0887\"], [0.1111111111111111, \"#46039f\"], [0.2222222222222222, \"#7201a8\"], [0.3333333333333333, \"#9c179e\"], [0.4444444444444444, \"#bd3786\"], [0.5555555555555556, \"#d8576b\"], [0.6666666666666666, \"#ed7953\"], [0.7777777777777778, \"#fb9f3a\"], [0.8888888888888888, \"#fdca26\"], [1.0, \"#f0f921\"]], \"type\": \"histogram2dcontour\"}], \"mesh3d\": [{\"colorbar\": {\"outlinewidth\": 0, \"ticks\": \"\"}, \"type\": \"mesh3d\"}], \"parcoords\": [{\"line\": {\"colorbar\": {\"outlinewidth\": 0, \"ticks\": \"\"}}, \"type\": \"parcoords\"}], \"pie\": [{\"automargin\": true, \"type\": \"pie\"}], \"scatter\": [{\"marker\": {\"colorbar\": {\"outlinewidth\": 0, \"ticks\": \"\"}}, \"type\": \"scatter\"}], \"scatter3d\": [{\"line\": {\"colorbar\": {\"outlinewidth\": 0, \"ticks\": \"\"}}, \"marker\": {\"colorbar\": {\"outlinewidth\": 0, \"ticks\": \"\"}}, \"type\": \"scatter3d\"}], \"scattercarpet\": [{\"marker\": {\"colorbar\": {\"outlinewidth\": 0, \"ticks\": \"\"}}, \"type\": \"scattercarpet\"}], \"scattergeo\": [{\"marker\": {\"colorbar\": {\"outlinewidth\": 0, \"ticks\": \"\"}}, \"type\": \"scattergeo\"}], \"scattergl\": [{\"marker\": {\"colorbar\": {\"outlinewidth\": 0, \"ticks\": \"\"}}, \"type\": \"scattergl\"}], \"scattermapbox\": [{\"marker\": {\"colorbar\": {\"outlinewidth\": 0, \"ticks\": \"\"}}, \"type\": \"scattermapbox\"}], \"scatterpolar\": [{\"marker\": {\"colorbar\": {\"outlinewidth\": 0, \"ticks\": \"\"}}, \"type\": \"scatterpolar\"}], \"scatterpolargl\": [{\"marker\": {\"colorbar\": {\"outlinewidth\": 0, \"ticks\": \"\"}}, \"type\": \"scatterpolargl\"}], \"scatterternary\": [{\"marker\": {\"colorbar\": {\"outlinewidth\": 0, \"ticks\": \"\"}}, \"type\": \"scatterternary\"}], \"surface\": [{\"colorbar\": {\"outlinewidth\": 0, \"ticks\": \"\"}, \"colorscale\": [[0.0, \"#0d0887\"], [0.1111111111111111, \"#46039f\"], [0.2222222222222222, \"#7201a8\"], [0.3333333333333333, \"#9c179e\"], [0.4444444444444444, \"#bd3786\"], [0.5555555555555556, \"#d8576b\"], [0.6666666666666666, \"#ed7953\"], [0.7777777777777778, \"#fb9f3a\"], [0.8888888888888888, \"#fdca26\"], [1.0, \"#f0f921\"]], \"type\": \"surface\"}], \"table\": [{\"cells\": {\"fill\": {\"color\": \"#EBF0F8\"}, \"line\": {\"color\": \"white\"}}, \"header\": {\"fill\": {\"color\": \"#C8D4E3\"}, \"line\": {\"color\": \"white\"}}, \"type\": \"table\"}]}, \"layout\": {\"annotationdefaults\": {\"arrowcolor\": \"#2a3f5f\", \"arrowhead\": 0, \"arrowwidth\": 1}, \"coloraxis\": {\"colorbar\": {\"outlinewidth\": 0, \"ticks\": \"\"}}, \"colorscale\": {\"diverging\": [[0, \"#8e0152\"], [0.1, \"#c51b7d\"], [0.2, \"#de77ae\"], [0.3, \"#f1b6da\"], [0.4, \"#fde0ef\"], [0.5, \"#f7f7f7\"], [0.6, \"#e6f5d0\"], [0.7, \"#b8e186\"], [0.8, \"#7fbc41\"], [0.9, \"#4d9221\"], [1, \"#276419\"]], \"sequential\": [[0.0, \"#0d0887\"], [0.1111111111111111, \"#46039f\"], [0.2222222222222222, \"#7201a8\"], [0.3333333333333333, \"#9c179e\"], [0.4444444444444444, \"#bd3786\"], [0.5555555555555556, \"#d8576b\"], [0.6666666666666666, \"#ed7953\"], [0.7777777777777778, \"#fb9f3a\"], [0.8888888888888888, \"#fdca26\"], [1.0, \"#f0f921\"]], \"sequentialminus\": [[0.0, \"#0d0887\"], [0.1111111111111111, \"#46039f\"], [0.2222222222222222, \"#7201a8\"], [0.3333333333333333, \"#9c179e\"], [0.4444444444444444, \"#bd3786\"], [0.5555555555555556, \"#d8576b\"], [0.6666666666666666, \"#ed7953\"], [0.7777777777777778, \"#fb9f3a\"], [0.8888888888888888, \"#fdca26\"], [1.0, \"#f0f921\"]]}, \"colorway\": [\"#636efa\", \"#EF553B\", \"#00cc96\", \"#ab63fa\", \"#FFA15A\", \"#19d3f3\", \"#FF6692\", \"#B6E880\", \"#FF97FF\", \"#FECB52\"], \"font\": {\"color\": \"#2a3f5f\"}, \"geo\": {\"bgcolor\": \"white\", \"lakecolor\": \"white\", \"landcolor\": \"#E5ECF6\", \"showlakes\": true, \"showland\": true, \"subunitcolor\": \"white\"}, \"hoverlabel\": {\"align\": \"left\"}, \"hovermode\": \"closest\", \"mapbox\": {\"style\": \"light\"}, \"paper_bgcolor\": \"white\", \"plot_bgcolor\": \"#E5ECF6\", \"polar\": {\"angularaxis\": {\"gridcolor\": \"white\", \"linecolor\": \"white\", \"ticks\": \"\"}, \"bgcolor\": \"#E5ECF6\", \"radialaxis\": {\"gridcolor\": \"white\", \"linecolor\": \"white\", \"ticks\": \"\"}}, \"scene\": {\"xaxis\": {\"backgroundcolor\": \"#E5ECF6\", \"gridcolor\": \"white\", \"gridwidth\": 2, \"linecolor\": \"white\", \"showbackground\": true, \"ticks\": \"\", \"zerolinecolor\": \"white\"}, \"yaxis\": {\"backgroundcolor\": \"#E5ECF6\", \"gridcolor\": \"white\", \"gridwidth\": 2, \"linecolor\": \"white\", \"showbackground\": true, \"ticks\": \"\", \"zerolinecolor\": \"white\"}, \"zaxis\": {\"backgroundcolor\": \"#E5ECF6\", \"gridcolor\": \"white\", \"gridwidth\": 2, \"linecolor\": \"white\", \"showbackground\": true, \"ticks\": \"\", \"zerolinecolor\": \"white\"}}, \"shapedefaults\": {\"line\": {\"color\": \"#2a3f5f\"}}, \"ternary\": {\"aaxis\": {\"gridcolor\": \"white\", \"linecolor\": \"white\", \"ticks\": \"\"}, \"baxis\": {\"gridcolor\": \"white\", \"linecolor\": \"white\", \"ticks\": \"\"}, \"bgcolor\": \"#E5ECF6\", \"caxis\": {\"gridcolor\": \"white\", \"linecolor\": \"white\", \"ticks\": \"\"}}, \"title\": {\"x\": 0.05}, \"xaxis\": {\"automargin\": true, \"gridcolor\": \"white\", \"linecolor\": \"white\", \"ticks\": \"\", \"title\": {\"standoff\": 15}, \"zerolinecolor\": \"white\", \"zerolinewidth\": 2}, \"yaxis\": {\"automargin\": true, \"gridcolor\": \"white\", \"linecolor\": \"white\", \"ticks\": \"\", \"title\": {\"standoff\": 15}, \"zerolinecolor\": \"white\", \"zerolinewidth\": 2}}}},\n",
              "                        {\"responsive\": true}\n",
              "                    ).then(function(){\n",
              "                            \n",
              "var gd = document.getElementById('cf22d215-f2a4-4e00-b0de-2f591b5d8ae7');\n",
              "var x = new MutationObserver(function (mutations, observer) {{\n",
              "        var display = window.getComputedStyle(gd).display;\n",
              "        if (!display || display === 'none') {{\n",
              "            console.log([gd, 'removed!']);\n",
              "            Plotly.purge(gd);\n",
              "            observer.disconnect();\n",
              "        }}\n",
              "}});\n",
              "\n",
              "// Listen for the removal of the full notebook cells\n",
              "var notebookContainer = gd.closest('#notebook-container');\n",
              "if (notebookContainer) {{\n",
              "    x.observe(notebookContainer, {childList: true});\n",
              "}}\n",
              "\n",
              "// Listen for the clearing of the current output cell\n",
              "var outputEl = gd.closest('.output');\n",
              "if (outputEl) {{\n",
              "    x.observe(outputEl, {childList: true});\n",
              "}}\n",
              "\n",
              "                        })\n",
              "                };\n",
              "                \n",
              "            </script>\n",
              "        </div>\n",
              "</body>\n",
              "</html>"
            ]
          },
          "metadata": {
            "tags": []
          }
        }
      ]
    },
    {
      "cell_type": "code",
      "metadata": {
        "id": "Ww_voVPRe_MW",
        "colab_type": "code",
        "outputId": "7a8588e6-9d7e-480f-9604-7829f839db7c",
        "colab": {
          "base_uri": "https://localhost:8080/",
          "height": 34
        }
      },
      "source": [
        "# What's the standard deviation of errors\n",
        "np.std(plt_df['model_2_forecast']-plt_df['Log_load'])"
      ],
      "execution_count": 15,
      "outputs": [
        {
          "output_type": "execute_result",
          "data": {
            "text/plain": [
              "0.04188647998435801"
            ]
          },
          "metadata": {
            "tags": []
          },
          "execution_count": 15
        }
      ]
    },
    {
      "cell_type": "code",
      "metadata": {
        "id": "ChAPDjO-VJsz",
        "colab_type": "code",
        "colab": {}
      },
      "source": [
        "# Complete the missing data from the frame so we can predict\n",
        "# i.e. compute temperature mean forecast, specify whether holiday, give lockdown_index\n",
        "\n",
        "# variable today_date\n",
        "today_hol = 0\n",
        "today_lock = 70.37\n",
        "\n",
        "# variable fcast_date\n",
        "fcast_hol = 0\n",
        "fcast_lock = 70.37\n",
        "\n",
        "# Prior date (that's the last day all available info)\n",
        "# variable yday_date\n",
        "\n",
        "# Get temperature forecast for today\n",
        "tmp_df_1 = data.loc[data['Date']==today_date]\n",
        "temp_mean_1 = ((tmp_df_1['London_mean'] + tmp_df_1['Bristol_mean'] + tmp_df_1['Leeds_mean'])/3).squeeze()\n",
        "# Get temperature forecast for tomorrow\n",
        "tmp_df_2 = data.loc[data['Date']==fcast_date]\n",
        "temp_mean_2 = ((tmp_df_2['London_mean'] + tmp_df_2['Bristol_mean'] + tmp_df_2['Leeds_mean'])/3).squeeze()\n",
        "\n",
        "# Write back to df\n",
        "data.loc[data['Date']==today_date,['Temp_mean']] = temp_mean_1\n",
        "data.loc[data['Date']==fcast_date,['Temp_mean']] = temp_mean_2\n",
        "data.loc[data['Date']==today_date,['Holiday']] = today_hol\n",
        "data.loc[data['Date']==fcast_date,['Holiday']]=fcast_hol\n",
        "data.loc[data['Date']==today_date,['Lockdown_index']] = today_lock\n",
        "data.loc[data['Date']==fcast_date,['Lockdown_index']]=fcast_lock"
      ],
      "execution_count": 0,
      "outputs": []
    },
    {
      "cell_type": "code",
      "metadata": {
        "id": "NdmoHAaFwFc-",
        "colab_type": "code",
        "colab": {}
      },
      "source": [
        "# A function to predict and write-back using the SARIMAX model defined above\n",
        "# Not changing the specification of the model, just calibrating to latest available data to generate today's load\n",
        "# Then predict tomorrow's load\n",
        "\n",
        "def fit_predict(frame, last_good_date, predict_date):\n",
        "  '''frame is the input dataframe, last_good_date is the last date beyond which info needs to be predicted, 1 step at a time'''\n",
        "  scaler_in = MinMaxScaler()\n",
        "  scaler_out = MinMaxScaler()\n",
        "  \n",
        "  # You can only look at data up to today\n",
        "  df = frame[frame['Date']<=last_good_date]\n",
        "\n",
        "  # Scale the data\n",
        "  scaled_in = scaler_in.fit_transform(df[['Temp_mean','Lockdown_index','Holiday']])\n",
        "  scaled_out = scaler_out.fit_transform(np.array(df['Load']).reshape(-1,1))\n",
        "\n",
        "  # Fit the model\n",
        "  model = SARIMAX(scaled_out,exog=scaled_in,order=arima,seasonal_order=seasonal).fit(method='powell')\n",
        "\n",
        "  # Grab info for the date to be forecast\n",
        "  predict_df = frame[frame['Date']==predict_date]\n",
        "  x_exog = np.array(predict_df[['Temp_mean','Lockdown_index','Holiday']].squeeze())\n",
        "\n",
        "  # Forecast it\n",
        "  forecast_y = model.forecast(steps=1,exog=scaler_in.transform(x_exog.reshape(1,-1)))\n",
        "  \n",
        "  # Invert and return\n",
        "  return scaler_out.inverse_transform(forecast_y.reshape(1,-1))[0][0]"
      ],
      "execution_count": 0,
      "outputs": []
    },
    {
      "cell_type": "code",
      "metadata": {
        "id": "BiC4aadn0vqc",
        "colab_type": "code",
        "colab": {
          "base_uri": "https://localhost:8080/",
          "height": 85
        },
        "outputId": "b770773a-647b-4a98-ddde-a144041eda48"
      },
      "source": [
        "# Generate and append today's Load\n",
        "data.loc[data['Date']==today_date,['Load']] = fit_predict(data,yday_date,today_date)"
      ],
      "execution_count": 18,
      "outputs": [
        {
          "output_type": "stream",
          "text": [
            "Optimization terminated successfully.\n",
            "         Current function value: -1.531482\n",
            "         Iterations: 5\n",
            "         Function evaluations: 482\n"
          ],
          "name": "stdout"
        }
      ]
    },
    {
      "cell_type": "code",
      "metadata": {
        "id": "onS4KG7esXVy",
        "colab_type": "code",
        "colab": {
          "base_uri": "https://localhost:8080/",
          "height": 85
        },
        "outputId": "b0dbc093-3ae5-4920-97b5-1e6b142c036b"
      },
      "source": [
        "# Generate and append tomorrow's forecast Load\n",
        "data.loc[data['Date']==fcast_date,['Load']] = fit_predict(data,today_date,fcast_date)"
      ],
      "execution_count": 19,
      "outputs": [
        {
          "output_type": "stream",
          "text": [
            "Optimization terminated successfully.\n",
            "         Current function value: -1.531887\n",
            "         Iterations: 5\n",
            "         Function evaluations: 482\n"
          ],
          "name": "stdout"
        }
      ]
    },
    {
      "cell_type": "code",
      "metadata": {
        "id": "Oyt3Y-gx1J4K",
        "colab_type": "code",
        "outputId": "73173f46-fe45-48c9-f37a-a9d9261c2ce3",
        "colab": {
          "base_uri": "https://localhost:8080/",
          "height": 34
        }
      },
      "source": [
        "print(f\"Prediction is {np.round(data.loc[data['Date']==fcast_date]['Load'].squeeze(),2)}\")"
      ],
      "execution_count": 20,
      "outputs": [
        {
          "output_type": "stream",
          "text": [
            "Prediction is 9.8\n"
          ],
          "name": "stdout"
        }
      ]
    }
  ]
}