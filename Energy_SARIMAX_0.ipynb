{
  "nbformat": 4,
  "nbformat_minor": 0,
  "metadata": {
    "colab": {
      "name": "Energy_SARIMAX_0.ipynb",
      "provenance": [],
      "collapsed_sections": [],
      "mount_file_id": "19Tds8_USoTsbtf1OGHg19-7vXX1fE574",
      "authorship_tag": "ABX9TyNZyp0uOLhu1F0F4OXPDhKJ",
      "include_colab_link": true
    },
    "kernelspec": {
      "name": "python3",
      "display_name": "Python 3"
    }
  },
  "cells": [
    {
      "cell_type": "markdown",
      "metadata": {
        "id": "view-in-github",
        "colab_type": "text"
      },
      "source": [
        "<a href=\"https://colab.research.google.com/github/kmgr10/energy/blob/master/Energy_SARIMAX_0.ipynb\" target=\"_parent\"><img src=\"https://colab.research.google.com/assets/colab-badge.svg\" alt=\"Open In Colab\"/></a>"
      ]
    },
    {
      "cell_type": "code",
      "metadata": {
        "id": "MdPT4PiMAKRF",
        "colab_type": "code",
        "colab": {}
      },
      "source": [
        "# Load libraries\n",
        "import pandas as pd\n",
        "import numpy as np\n",
        "import datetime as dt\n",
        "import matplotlib.pyplot as plt\n",
        "import plotly.graph_objects as go\n",
        "import statsmodels.api as sm\n",
        "from statsmodels.formula.api import ols\n",
        "from statsmodels.tsa.stattools import adfuller\n",
        "from sklearn.preprocessing import MinMaxScaler\n",
        "from statsmodels.tsa.statespace.sarimax import SARIMAX\n",
        "import urllib\n",
        "from scipy.ndimage.interpolation import shift"
      ],
      "execution_count": 0,
      "outputs": []
    },
    {
      "cell_type": "code",
      "metadata": {
        "id": "SSHT0I2HAbit",
        "colab_type": "code",
        "colab": {}
      },
      "source": [
        "# Load data and rename columns\n",
        "link = \"https://github.com/chiaracecilia/forecasting_competition/raw/master/load_weather_dataset.xlsx\"\n",
        "urllib.request.urlretrieve(link, \"load_weather_dataset_recent.xlsx\")\n",
        "data = pd.read_excel('load_weather_dataset_recent.xlsx')\n",
        "\n",
        "# If loading directly from gdrive:\n",
        "#data = pd.read_excel('drive/My Drive/load_weather_dataset.xlsx')\n",
        "\n",
        "data.columns=['Date','Temp_min','Temp_mean','Temp_max','Load','London_min','London_mean','London_max',\n",
        "              'Bristol_min','Bristol_mean','Bristol_max','Leeds_min','Leeds_mean','Leeds_max','Lockdown_index']\n",
        "\n",
        "data['Date'] = pd.to_datetime(data['Date'])\n",
        "\n",
        "# Remove stuff that isn't within 1 day of the 'as of' date\n",
        "# For example, as of 12 Jun, we have data up to 11 Jun and forecasts for 13 Jun - we want to predict load for 13 Jun\n",
        "# So remove anything past 13 June - it seems the data source is inconsistent with NaN beyond that\n",
        "\n",
        "today_date = dt.datetime(2020,6,12)\n",
        "fcast_date = dt.datetime(2020,6,13)\n",
        "yday_date = dt.datetime(2020,6,11)\n",
        "\n",
        "data = data[data['Date']<=fcast_date]"
      ],
      "execution_count": 0,
      "outputs": []
    },
    {
      "cell_type": "code",
      "metadata": {
        "id": "96ezgdBnBOtJ",
        "colab_type": "code",
        "colab": {}
      },
      "source": [
        "# Add Bank holiday flags, as energy demand is lower on bank holiday days\n",
        "# Note: have added the following '2020-04-20','2020-04-21','2020-04-22' (these are not bank holidays but load looks really low)\n",
        "bh_ls = ['2017-01-01', '2017-04-14','2017-04-17', '2017-05-01', '2017-05-29','2017-08-28', '2017-12-25', '2017-12-26',\n",
        "         '2018-01-01', '2018-03-30','2018-04-02', '2018-05-07', '2018-05-28', '2018-08-27', '2018-12-25', '2018-12-26',\n",
        "         '2019-01-01', '2019-04-19','2019-04-22', '2019-05-06', '2019-05-27', '2019-08-26' , '2019-12-25', '2019-12-26',\n",
        "         '2020-01-01', '2020-04-10','2020-04-13','2020-04-20','2020-04-21','2020-04-22', '2020-05-08', '2020-05-25']\n",
        "\n",
        "bd_dt = [pd.to_datetime(x) for x in bh_ls]\n",
        "data['Holiday'] = data['Date'].apply(lambda x: 1 if x in bd_dt else 0)\n",
        "data_ar = data[['Date','Temp_mean','Load','Lockdown_index','Holiday']]"
      ],
      "execution_count": 0,
      "outputs": []
    },
    {
      "cell_type": "code",
      "metadata": {
        "id": "xbEg6vnCBeZQ",
        "colab_type": "code",
        "colab": {
          "base_uri": "https://localhost:8080/",
          "height": 476
        },
        "outputId": "6c9bc525-6cc1-493b-e4b0-779d8ac466d0"
      },
      "source": [
        "# Clean data\n",
        "data['Lockdown_index'] = data['Lockdown_index'].apply(lambda x: 0 if np.isnan(x) else x)\n",
        "data['Load'] = np.log(data_ar['Load'])\n",
        "data_ar['Lockdown_index'] = data_ar['Lockdown_index'].apply(lambda x: 0 if np.isnan(x) else x)\n",
        "data_ar['Log_load'] = np.log(data_ar['Load'])\n",
        "data_ar = data_ar[:-2]\n",
        "data_ar.tail()"
      ],
      "execution_count": 164,
      "outputs": [
        {
          "output_type": "stream",
          "text": [
            "/usr/local/lib/python3.6/dist-packages/ipykernel_launcher.py:4: SettingWithCopyWarning:\n",
            "\n",
            "\n",
            "A value is trying to be set on a copy of a slice from a DataFrame.\n",
            "Try using .loc[row_indexer,col_indexer] = value instead\n",
            "\n",
            "See the caveats in the documentation: https://pandas.pydata.org/pandas-docs/stable/user_guide/indexing.html#returning-a-view-versus-a-copy\n",
            "\n",
            "/usr/local/lib/python3.6/dist-packages/ipykernel_launcher.py:5: SettingWithCopyWarning:\n",
            "\n",
            "\n",
            "A value is trying to be set on a copy of a slice from a DataFrame.\n",
            "Try using .loc[row_indexer,col_indexer] = value instead\n",
            "\n",
            "See the caveats in the documentation: https://pandas.pydata.org/pandas-docs/stable/user_guide/indexing.html#returning-a-view-versus-a-copy\n",
            "\n"
          ],
          "name": "stderr"
        },
        {
          "output_type": "execute_result",
          "data": {
            "text/html": [
              "<div>\n",
              "<style scoped>\n",
              "    .dataframe tbody tr th:only-of-type {\n",
              "        vertical-align: middle;\n",
              "    }\n",
              "\n",
              "    .dataframe tbody tr th {\n",
              "        vertical-align: top;\n",
              "    }\n",
              "\n",
              "    .dataframe thead th {\n",
              "        text-align: right;\n",
              "    }\n",
              "</style>\n",
              "<table border=\"1\" class=\"dataframe\">\n",
              "  <thead>\n",
              "    <tr style=\"text-align: right;\">\n",
              "      <th></th>\n",
              "      <th>Date</th>\n",
              "      <th>Temp_mean</th>\n",
              "      <th>Load</th>\n",
              "      <th>Lockdown_index</th>\n",
              "      <th>Holiday</th>\n",
              "      <th>Log_load</th>\n",
              "    </tr>\n",
              "  </thead>\n",
              "  <tbody>\n",
              "    <tr>\n",
              "      <th>1253</th>\n",
              "      <td>2020-06-07</td>\n",
              "      <td>12.3</td>\n",
              "      <td>19706.750000</td>\n",
              "      <td>64.81</td>\n",
              "      <td>0</td>\n",
              "      <td>9.888716</td>\n",
              "    </tr>\n",
              "    <tr>\n",
              "      <th>1254</th>\n",
              "      <td>2020-06-08</td>\n",
              "      <td>12.7</td>\n",
              "      <td>21908.208330</td>\n",
              "      <td>70.37</td>\n",
              "      <td>0</td>\n",
              "      <td>9.994617</td>\n",
              "    </tr>\n",
              "    <tr>\n",
              "      <th>1255</th>\n",
              "      <td>2020-06-09</td>\n",
              "      <td>12.8</td>\n",
              "      <td>22262.312500</td>\n",
              "      <td>70.37</td>\n",
              "      <td>0</td>\n",
              "      <td>10.010651</td>\n",
              "    </tr>\n",
              "    <tr>\n",
              "      <th>1256</th>\n",
              "      <td>2020-06-10</td>\n",
              "      <td>12.9</td>\n",
              "      <td>23484.020833</td>\n",
              "      <td>70.37</td>\n",
              "      <td>0</td>\n",
              "      <td>10.064076</td>\n",
              "    </tr>\n",
              "    <tr>\n",
              "      <th>1257</th>\n",
              "      <td>2020-06-11</td>\n",
              "      <td>13.7</td>\n",
              "      <td>21509.041667</td>\n",
              "      <td>70.37</td>\n",
              "      <td>0</td>\n",
              "      <td>9.976229</td>\n",
              "    </tr>\n",
              "  </tbody>\n",
              "</table>\n",
              "</div>"
            ],
            "text/plain": [
              "           Date  Temp_mean          Load  Lockdown_index  Holiday   Log_load\n",
              "1253 2020-06-07       12.3  19706.750000           64.81        0   9.888716\n",
              "1254 2020-06-08       12.7  21908.208330           70.37        0   9.994617\n",
              "1255 2020-06-09       12.8  22262.312500           70.37        0  10.010651\n",
              "1256 2020-06-10       12.9  23484.020833           70.37        0  10.064076\n",
              "1257 2020-06-11       13.7  21509.041667           70.37        0   9.976229"
            ]
          },
          "metadata": {
            "tags": []
          },
          "execution_count": 164
        }
      ]
    },
    {
      "cell_type": "code",
      "metadata": {
        "id": "uIwzejYHFlgl",
        "colab_type": "code",
        "colab": {}
      },
      "source": [
        "# Scale the data\n",
        "scaler_in = MinMaxScaler()\n",
        "scaler_out = MinMaxScaler()\n",
        "\n",
        "scaled_in= scaler_in.fit_transform(data_ar[['Temp_mean','Lockdown_index','Holiday']])\n",
        "scaled_out = scaler_out.fit_transform(np.array(data_ar['Log_load']).reshape(-1,1))\n",
        "\n",
        "X = scaled_in\n",
        "y = scaled_out\n",
        "\n",
        "n = 1200\n",
        "\n",
        "# Train and test split\n",
        "X_train, X_test = X[:n], X[n:]\n",
        "y_train, y_test = y[:n], y[n:]"
      ],
      "execution_count": 0,
      "outputs": []
    },
    {
      "cell_type": "code",
      "metadata": {
        "id": "VS1B47UxE8m8",
        "colab_type": "code",
        "colab": {
          "base_uri": "https://localhost:8080/",
          "height": 336
        },
        "outputId": "fef870d7-986d-4bcb-9bd1-a6f767e2f877"
      },
      "source": [
        "# Plot of autocorrelation to get an idea of p,q\n",
        "\n",
        "fig,ax= plt.subplots(2,1, figsize=(10,5))\n",
        "fig=sm.tsa.graphics.plot_acf(y_train, lags=20, ax=ax[0])\n",
        "fig=sm.tsa.graphics.plot_pacf(y_train, lags=20, ax=ax[1])\n",
        "plt.show()"
      ],
      "execution_count": 166,
      "outputs": [
        {
          "output_type": "display_data",
          "data": {
            "image/png": "[encoded data removed]",
            "text/plain": [
              "<Figure size 720x360 with 2 Axes>"
            ]
          },
          "metadata": {
            "tags": [],
            "needs_background": "light"
          }
        }
      ]
    },
    {
      "cell_type": "code",
      "metadata": {
        "id": "TllnPPWyC9ZM",
        "colab_type": "code",
        "colab": {}
      },
      "source": [
        "# Define and fit SARIMAX\n",
        "\n",
        "arima = (1,0,0) # AR(p) with p = 1 from PACF plot\n",
        "seasonal = (1,0,0,7) # use m = 7 for seasonality from auto-correlation plot and p = 1 i.e. autoregressive part of seasonality based on last week's level\n",
        "\n",
        "model_1 = SARIMAX(y_train,exog=X_train,order=arima,seasonal_order=seasonal,enforce_stationarity=False,enforce_invertibility=False).fit()"
      ],
      "execution_count": 0,
      "outputs": []
    },
    {
      "cell_type": "code",
      "metadata": {
        "id": "s3j-wF5XEP9f",
        "colab_type": "code",
        "colab": {
          "base_uri": "https://localhost:8080/",
          "height": 476
        },
        "outputId": "737bd4bc-73d0-4e1b-a8d2-59725b65fcb9"
      },
      "source": [
        "print(model_1.summary())"
      ],
      "execution_count": 168,
      "outputs": [
        {
          "output_type": "stream",
          "text": [
            "                                 Statespace Model Results                                \n",
            "=========================================================================================\n",
            "Dep. Variable:                                 y   No. Observations:                 1200\n",
            "Model:             SARIMAX(1, 0, 0)x(1, 0, 0, 7)   Log Likelihood                1740.626\n",
            "Date:                           Fri, 12 Jun 2020   AIC                          -3469.252\n",
            "Time:                                   18:56:47   BIC                          -3438.752\n",
            "Sample:                                        0   HQIC                         -3457.759\n",
            "                                          - 1200                                         \n",
            "Covariance Type:                             opg                                         \n",
            "==============================================================================\n",
            "                 coef    std err          z      P>|z|      [0.025      0.975]\n",
            "------------------------------------------------------------------------------\n",
            "x1            -0.2399      0.018    -13.098      0.000      -0.276      -0.204\n",
            "x2            -0.1514      0.056     -2.689      0.007      -0.262      -0.041\n",
            "x3            -0.1376      0.007    -20.874      0.000      -0.151      -0.125\n",
            "ar.L1          0.6266      0.021     29.401      0.000       0.585       0.668\n",
            "ar.S.L7        0.9776      0.006    158.727      0.000       0.966       0.990\n",
            "sigma2         0.0032      0.000     24.359      0.000       0.003       0.003\n",
            "===================================================================================\n",
            "Ljung-Box (Q):                      290.09   Jarque-Bera (JB):                 5.01\n",
            "Prob(Q):                              0.00   Prob(JB):                         0.08\n",
            "Heteroskedasticity (H):               1.08   Skew:                            -0.15\n",
            "Prob(H) (two-sided):                  0.43   Kurtosis:                         3.09\n",
            "===================================================================================\n",
            "\n",
            "Warnings:\n",
            "[1] Covariance matrix calculated using the outer product of gradients (complex-step).\n"
          ],
          "name": "stdout"
        }
      ]
    },
    {
      "cell_type": "code",
      "metadata": {
        "id": "dq8fdouaEd4X",
        "colab_type": "code",
        "colab": {}
      },
      "source": [
        "# Use model_1 to predict the test data\n",
        "\n",
        "model_1_out_insample = model_1.predict()\n",
        "model_1_out_outsample = model_1.predict(start=n,end=len(y)-1,exog=X_test,)\n",
        "\n",
        "model_1_out = np.append(model_1_out_insample,model_1_out_outsample)\n",
        "model_1_out = scaler_out.inverse_transform(model_1_out.reshape(-1,1))\n",
        "\n",
        "# Map it back to the df for plotting\n",
        "data_ar['model_1_forecast'] = model_1_out"
      ],
      "execution_count": 0,
      "outputs": []
    },
    {
      "cell_type": "code",
      "metadata": {
        "id": "CtDQQm0qHvAX",
        "colab_type": "code",
        "colab": {
          "base_uri": "https://localhost:8080/",
          "height": 542
        },
        "outputId": "8dee2acd-b9bb-4531-bece-e6565d53cc61"
      },
      "source": [
        "# Show in-sample forecasts\n",
        "cutoff = dt.datetime(2019,9,2)\n",
        "plt_df = data_ar[data_ar['Date']>=cutoff]\n",
        "fig = go.Figure()\n",
        "fig.add_trace(go.Scatter(x=plt_df['Date'], y=plt_df['Log_load'],\n",
        "                    mode='lines',\n",
        "                    name='Log load'))\n",
        "fig.add_trace(go.Scatter(x=plt_df['Date'], y=plt_df['model_1_forecast'],\n",
        "                    mode='lines',\n",
        "                    name='SARIMAX'))\n",
        "fig.show()"
      ],
      "execution_count": 170,
      "outputs": [
        {
          "output_type": "display_data",
          "data": {
            "text/html": [
              "<html>\n",
              "<head><meta charset=\"utf-8\" /></head>\n",
              "<body>\n",
              "    <div>\n",
              "            <script src=\"https://cdnjs.cloudflare.com/ajax/libs/mathjax/2.7.5/MathJax.js?config=TeX-AMS-MML_SVG\"></script><script type=\"text/javascript\">if (window.MathJax) {MathJax.Hub.Config({SVG: {font: \"STIX-Web\"}});}</script>\n",
              "                <script type=\"text/javascript\">window.PlotlyConfig = {MathJaxConfig: 'local'};</script>\n",
              "        <script src=\"https://cdn.plot.ly/plotly-latest.min.js\"></script>    \n",
              "            <div id=\"c26c507b-5e3d-4f73-8539-554a8ceeea8f\" class=\"plotly-graph-div\" style=\"height:525px; width:100%;\"></div>\n",
              "            <script type=\"text/javascript\">\n",
              "                \n",
              "                    window.PLOTLYENV=window.PLOTLYENV || {};\n",
              "                    \n",
              "                if (document.getElementById(\"c26c507b-5e3d-4f73-8539-554a8ceeea8f\")) {\n",
              "                    Plotly.newPlot(\n",
              "                        'c26c507b-5e3d-4f73-8539-554a8ceeea8f',\n",
              "                        [{\"mode\": \"lines\", \"name\": \"Log load\", \"type\": \"scatter\", \"x\": [\"2019-09-02T00:00:00\", \"2019-09-03T00:00:00\", \"2019-09-04T00:00:00\", \"2019-09-05T00:00:00\", \"2019-09-06T00:00:00\", \"2019-09-07T00:00:00\", \"2019-09-08T00:00:00\", \"2019-09-09T00:00:00\", \"2019-09-10T00:00:00\", \"2019-09-11T00:00:00\", \"2019-09-12T00:00:00\", \"2019-09-13T00:00:00\", \"2019-09-14T00:00:00\", \"2019-09-15T00:00:00\", \"2019-09-16T00:00:00\", \"2019-09-17T00:00:00\", \"2019-09-18T00:00:00\", \"2019-09-19T00:00:00\", \"2019-09-20T00:00:00\", \"2019-09-21T00:00:00\", \"2019-09-22T00:00:00\", \"2019-09-23T00:00:00\", \"2019-09-24T00:00:00\", \"2019-09-25T00:00:00\", \"2019-09-26T00:00:00\", \"2019-09-27T00:00:00\", \"2019-09-28T00:00:00\", \"2019-09-29T00:00:00\", \"2019-09-30T00:00:00\", \"2019-10-01T00:00:00\", \"2019-10-02T00:00:00\", \"2019-10-03T00:00:00\", \"2019-10-04T00:00:00\", \"2019-10-05T00:00:00\", \"2019-10-06T00:00:00\", \"2019-10-07T00:00:00\", \"2019-10-08T00:00:00\", \"2019-10-09T00:00:00\", \"2019-10-10T00:00:00\", \"2019-10-11T00:00:00\", \"2019-10-12T00:00:00\", \"2019-10-13T00:00:00\", \"2019-10-14T00:00:00\", \"2019-10-15T00:00:00\", \"2019-10-16T00:00:00\", \"2019-10-17T00:00:00\", \"2019-10-18T00:00:00\", \"2019-10-19T00:00:00\", \"2019-10-20T00:00:00\", \"2019-10-21T00:00:00\", \"2019-10-22T00:00:00\", \"2019-10-23T00:00:00\", \"2019-10-24T00:00:00\", \"2019-10-25T00:00:00\", \"2019-10-26T00:00:00\", \"2019-10-27T00:00:00\", \"2019-10-28T00:00:00\", \"2019-10-29T00:00:00\", \"2019-10-30T00:00:00\", \"2019-10-31T00:00:00\", \"2019-11-01T00:00:00\", \"2019-11-02T00:00:00\", \"2019-11-03T00:00:00\", \"2019-11-04T00:00:00\", \"2019-11-05T00:00:00\", \"2019-11-06T00:00:00\", \"2019-11-07T00:00:00\", \"2019-11-08T00:00:00\", \"2019-11-09T00:00:00\", \"2019-11-10T00:00:00\", \"2019-11-11T00:00:00\", \"2019-11-12T00:00:00\", \"2019-11-13T00:00:00\", \"2019-11-14T00:00:00\", \"2019-11-15T00:00:00\", \"2019-11-16T00:00:00\", \"2019-11-17T00:00:00\", \"2019-11-18T00:00:00\", \"2019-11-19T00:00:00\", \"2019-11-20T00:00:00\", \"2019-11-21T00:00:00\", \"2019-11-22T00:00:00\", \"2019-11-23T00:00:00\", \"2019-11-24T00:00:00\", \"2019-11-25T00:00:00\", \"2019-11-26T00:00:00\", \"2019-11-27T00:00:00\", \"2019-11-28T00:00:00\", \"2019-11-29T00:00:00\", \"2019-11-30T00:00:00\", \"2019-12-01T00:00:00\", \"2019-12-02T00:00:00\", \"2019-12-03T00:00:00\", \"2019-12-04T00:00:00\", \"2019-12-05T00:00:00\", \"2019-12-06T00:00:00\", \"2019-12-07T00:00:00\", \"2019-12-08T00:00:00\", \"2019-12-09T00:00:00\", \"2019-12-10T00:00:00\", \"2019-12-11T00:00:00\", \"2019-12-12T00:00:00\", \"2019-12-13T00:00:00\", \"2019-12-14T00:00:00\", \"2019-12-15T00:00:00\", \"2019-12-16T00:00:00\", \"2019-12-17T00:00:00\", \"2019-12-18T00:00:00\", \"2019-12-19T00:00:00\", \"2019-12-20T00:00:00\", \"2019-12-21T00:00:00\", \"2019-12-22T00:00:00\", \"2019-12-23T00:00:00\", \"2019-12-24T00:00:00\", \"2019-12-25T00:00:00\", \"2019-12-26T00:00:00\", \"2019-12-27T00:00:00\", \"2019-12-28T00:00:00\", \"2019-12-29T00:00:00\", \"2019-12-30T00:00:00\", \"2019-12-31T00:00:00\", \"2020-01-01T00:00:00\", \"2020-01-02T00:00:00\", \"2020-01-03T00:00:00\", \"2020-01-04T00:00:00\", \"2020-01-05T00:00:00\", \"2020-01-06T00:00:00\", \"2020-01-07T00:00:00\", \"2020-01-08T00:00:00\", \"2020-01-09T00:00:00\", \"2020-01-10T00:00:00\", \"2020-01-11T00:00:00\", \"2020-01-12T00:00:00\", \"2020-01-13T00:00:00\", \"2020-01-14T00:00:00\", \"2020-01-15T00:00:00\", \"2020-01-16T00:00:00\", \"2020-01-17T00:00:00\", \"2020-01-18T00:00:00\", \"2020-01-19T00:00:00\", \"2020-01-20T00:00:00\", \"2020-01-21T00:00:00\", \"2020-01-22T00:00:00\", \"2020-01-23T00:00:00\", \"2020-01-24T00:00:00\", \"2020-01-25T00:00:00\", \"2020-01-26T00:00:00\", \"2020-01-27T00:00:00\", \"2020-01-28T00:00:00\", \"2020-01-29T00:00:00\", \"2020-01-30T00:00:00\", \"2020-01-31T00:00:00\", \"2020-02-01T00:00:00\", \"2020-02-02T00:00:00\", \"2020-02-03T00:00:00\", \"2020-02-04T00:00:00\", \"2020-02-05T00:00:00\", \"2020-02-06T00:00:00\", \"2020-02-07T00:00:00\", \"2020-02-08T00:00:00\", \"2020-02-09T00:00:00\", \"2020-02-10T00:00:00\", \"2020-02-11T00:00:00\", \"2020-02-12T00:00:00\", \"2020-02-13T00:00:00\", \"2020-02-14T00:00:00\", \"2020-02-15T00:00:00\", \"2020-02-16T00:00:00\", \"2020-02-17T00:00:00\", \"2020-02-18T00:00:00\", \"2020-02-19T00:00:00\", \"2020-02-20T00:00:00\", \"2020-02-21T00:00:00\", \"2020-02-22T00:00:00\", \"2020-02-23T00:00:00\", \"2020-02-24T00:00:00\", \"2020-02-25T00:00:00\", \"2020-02-26T00:00:00\", \"2020-02-27T00:00:00\", \"2020-02-28T00:00:00\", \"2020-02-29T00:00:00\", \"2020-03-01T00:00:00\", \"2020-03-02T00:00:00\", \"2020-03-03T00:00:00\", \"2020-03-04T00:00:00\", \"2020-03-05T00:00:00\", \"2020-03-06T00:00:00\", \"2020-03-07T00:00:00\", \"2020-03-08T00:00:00\", \"2020-03-09T00:00:00\", \"2020-03-10T00:00:00\", \"2020-03-11T00:00:00\", \"2020-03-12T00:00:00\", \"2020-03-13T00:00:00\", \"2020-03-14T00:00:00\", \"2020-03-15T00:00:00\", \"2020-03-16T00:00:00\", \"2020-03-17T00:00:00\", \"2020-03-18T00:00:00\", \"2020-03-19T00:00:00\", \"2020-03-20T00:00:00\", \"2020-03-21T00:00:00\", \"2020-03-22T00:00:00\", \"2020-03-23T00:00:00\", \"2020-03-24T00:00:00\", \"2020-03-25T00:00:00\", \"2020-03-26T00:00:00\", \"2020-03-27T00:00:00\", \"2020-03-28T00:00:00\", \"2020-03-29T00:00:00\", \"2020-03-30T00:00:00\", \"2020-03-31T00:00:00\", \"2020-04-01T00:00:00\", \"2020-04-02T00:00:00\", \"2020-04-03T00:00:00\", \"2020-04-04T00:00:00\", \"2020-04-05T00:00:00\", \"2020-04-06T00:00:00\", \"2020-04-07T00:00:00\", \"2020-04-08T00:00:00\", \"2020-04-09T00:00:00\", \"2020-04-10T00:00:00\", \"2020-04-11T00:00:00\", \"2020-04-12T00:00:00\", \"2020-04-13T00:00:00\", \"2020-04-14T00:00:00\", \"2020-04-15T00:00:00\", \"2020-04-16T00:00:00\", \"2020-04-17T00:00:00\", \"2020-04-18T00:00:00\", \"2020-04-19T00:00:00\", \"2020-04-20T00:00:00\", \"2020-04-21T00:00:00\", \"2020-04-22T00:00:00\", \"2020-04-23T00:00:00\", \"2020-04-24T00:00:00\", \"2020-04-25T00:00:00\", \"2020-04-26T00:00:00\", \"2020-04-27T00:00:00\", \"2020-04-28T00:00:00\", \"2020-04-29T00:00:00\", \"2020-04-30T00:00:00\", \"2020-05-01T00:00:00\", \"2020-05-02T00:00:00\", \"2020-05-03T00:00:00\", \"2020-05-04T00:00:00\", \"2020-05-05T00:00:00\", \"2020-05-06T00:00:00\", \"2020-05-07T00:00:00\", \"2020-05-08T00:00:00\", \"2020-05-09T00:00:00\", \"2020-05-10T00:00:00\", \"2020-05-11T00:00:00\", \"2020-05-12T00:00:00\", \"2020-05-13T00:00:00\", \"2020-05-14T00:00:00\", \"2020-05-15T00:00:00\", \"2020-05-16T00:00:00\", \"2020-05-17T00:00:00\", \"2020-05-18T00:00:00\", \"2020-05-19T00:00:00\", \"2020-05-20T00:00:00\", \"2020-05-21T00:00:00\", \"2020-05-22T00:00:00\", \"2020-05-23T00:00:00\", \"2020-05-24T00:00:00\", \"2020-05-25T00:00:00\", \"2020-05-26T00:00:00\", \"2020-05-27T00:00:00\", \"2020-05-28T00:00:00\", \"2020-05-29T00:00:00\", \"2020-05-30T00:00:00\", \"2020-05-31T00:00:00\", \"2020-06-01T00:00:00\", \"2020-06-02T00:00:00\", \"2020-06-03T00:00:00\", \"2020-06-04T00:00:00\", \"2020-06-05T00:00:00\", \"2020-06-06T00:00:00\", \"2020-06-07T00:00:00\", \"2020-06-08T00:00:00\", \"2020-06-09T00:00:00\", \"2020-06-10T00:00:00\", \"2020-06-11T00:00:00\"], \"y\": [10.071818465937206, 10.092093142950638, 10.045986687553137, 10.064995033191936, 10.081155066889545, 9.982062837764103, 9.953481357277624, 10.185510674538575, 10.147669078770729, 10.118158646935308, 10.122421422361734, 10.086572706465569, 9.947609097547666, 9.970005558668664, 10.173970215752455, 10.111827062780323, 10.140201935348536, 10.129334945174634, 10.074458475593635, 9.935011453288755, 10.026359469842097, 10.132453288790419, 10.169995463691325, 10.187430612208525, 10.110317931454786, 10.097518069043726, 9.982060912169432, 10.011512016730114, 10.195248015659972, 10.174180816310901, 10.178220520929235, 10.244203006108522, 10.19177647219389, 10.104469847173487, 10.037490188420602, 10.227146651462446, 10.163599281950326, 10.185874379765313, 10.17172874475337, 10.189663804433998, 10.129872511607514, 10.118019127001773, 10.266778479067149, 10.252252964988832, 10.226388199632973, 10.240174051915723, 10.218874464678185, 10.128040110733759, 10.091616001234463, 10.27219430217922, 10.275367151091004, 10.286432928579925, 10.281140290834797, 10.260093535647117, 10.173624416553409, 10.119225416112945, 10.312846458962623, 10.307320774174906, 10.293750186401095, 10.3210884455465, 10.285403231062823, 10.167082629627522, 10.180783058372755, 10.319329193399799, 10.313861426249938, 10.358937877755007, 10.344949700328378, 10.338564050499848, 10.297661375670554, 10.229354645746932, 10.318876863433353, 10.34469443925217, 10.374700086075022, 10.381626618877073, 10.362815255716898, 10.278570054005733, 10.271411591538845, 10.370778521468484, 10.430130544462369, 10.394860825152087, 10.414240048528349, 10.374272126764936, 10.266503185203455, 10.26167322974248, 10.356786018013704, 10.349976634765294, 10.36084580969972, 10.355667259619347, 10.374843132172453, 10.316808528022197, 10.299858657594458, 10.430819937015672, 10.418801214873378, 10.425492331049774, 10.395231014510328, 10.316940809260554, 10.221256200675262, 10.15574482336794, 10.338729885631794, 10.374545963741236, 10.39559788274629, 10.414326301115988, 10.359896588560483, 10.249301436568357, 10.242083276889119, 10.39315337856863, 10.433683112059638, 10.40410499981062, 10.339375436802055, 10.346050395269973, 10.250743695050394, 10.21017153363269, 10.257870601138066, 10.21324372091246, 10.125318576062472, 10.129773660841577, 10.241940712617993, 10.195468185549357, 10.161038166493817, 10.230521038613935, 10.240193392941281, 10.190043209570197, 10.276574373499248, 10.29238350836203, 10.222491889619132, 10.218001715554887, 10.29625924458171, 10.325727834005994, 10.340022591321844, 10.330131655127259, 10.338147993386805, 10.186084844374301, 10.194147218802247, 10.329147367929812, 10.337357885149459, 10.328824729973762, 10.33421895688521, 10.348498507901564, 10.274660227986892, 10.29595325552951, 10.415057898927373, 10.42537983927021, 10.419941681506263, 10.421312995306666, 10.402126089524486, 10.299197595447767, 10.23825819345464, 10.359635873136389, 10.353216060065273, 10.345651499964, 10.343905465115629, 10.288036121511949, 10.136137441763788, 10.180801214564156, 10.28744453815096, 10.328638178686937, 10.386473601591625, 10.379313392479874, 10.330502127340813, 10.161051854052468, 10.183205180331795, 10.312997248039954, 10.327087230839775, 10.342537865991453, 10.36146736158885, 10.34310378765494, 10.211185924307538, 10.164102692022173, 10.284171745544258, 10.31423590193654, 10.354638805978691, 10.314507343677175, 10.304171108332689, 10.152881039768372, 10.168031331161785, 10.312818788642106, 10.325828214118935, 10.346134705136896, 10.353985113132822, 10.374919199179503, 10.165277132673438, 10.150021242443252, 10.3337658620611, 10.351400000135495, 10.392502033390208, 10.404640294355444, 10.339205666207512, 10.194320125694652, 10.104231256833069, 10.289082239270146, 10.2589655303967, 10.22941630503069, 10.219918025884718, 10.294767103032862, 10.175940974092029, 10.143387429210112, 10.252590988262734, 10.244571904838894, 10.29938130658146, 10.316652799446958, 10.240698355635676, 10.076098046724985, 10.07127165912997, 10.18790962947213, 10.132961027545207, 10.107817737074575, 10.093769528453192, 10.054393688805623, 9.984543208542695, 9.988365666153268, 10.151880471992675, 10.168391058348568, 10.182107594791363, 10.077550272441277, 10.092266513954522, 9.958747811853412, 9.84926673150705, 9.97070704696352, 9.995771377240978, 9.993933649117217, 9.951272251076906, 9.876385033243512, 9.846927121633446, 9.84024596779063, 9.818736119947342, 9.971878993199814, 9.949046310856664, 9.9355634108697, 9.942700252836794, 9.978453935911396, 9.832740911951916, 9.852167942012837, 9.852190968669483, 9.883052037508751, 9.925184829927174, 9.91271549596984, 9.85764756356719, 9.855421501133755, 9.983549490793987, 10.088053983546741, 10.03999692843852, 10.010422141190784, 9.972305964361434, 9.881878669942575, 9.95416977484049, 9.949410514970225, 9.918743503135897, 9.923895592938033, 9.925754461256606, 9.84739327818122, 9.789980517992511, 9.830462007167618, 9.907633114474534, 9.996307892836777, 9.983895578088346, 9.971850781395313, 9.86599875541674, 9.819316456309348, 9.898239430201855, 9.940097689624647, 9.922720164463234, 9.920586364416916, 9.920586364580757, 9.791886540421947, 9.729349915925054, 9.755190539853976, 9.780205833227503, 9.913885390668717, 9.92046552414792, 9.884741054838695, 10.03999692843852, 9.75549737189008, 9.735051642182352, 9.900428712350852, 9.91774994288534, 9.987252171297552, 9.983279267175083, 9.90032735603775, 9.82852713399936, 9.888716495632448, 9.994616655170066, 10.01065050532775, 10.064075504312507, 9.97622866834814]}, {\"mode\": \"lines\", \"name\": \"SARIMAX\", \"type\": \"scatter\", \"x\": [\"2019-09-02T00:00:00\", \"2019-09-03T00:00:00\", \"2019-09-04T00:00:00\", \"2019-09-05T00:00:00\", \"2019-09-06T00:00:00\", \"2019-09-07T00:00:00\", \"2019-09-08T00:00:00\", \"2019-09-09T00:00:00\", \"2019-09-10T00:00:00\", \"2019-09-11T00:00:00\", \"2019-09-12T00:00:00\", \"2019-09-13T00:00:00\", \"2019-09-14T00:00:00\", \"2019-09-15T00:00:00\", \"2019-09-16T00:00:00\", \"2019-09-17T00:00:00\", \"2019-09-18T00:00:00\", \"2019-09-19T00:00:00\", \"2019-09-20T00:00:00\", \"2019-09-21T00:00:00\", \"2019-09-22T00:00:00\", \"2019-09-23T00:00:00\", \"2019-09-24T00:00:00\", \"2019-09-25T00:00:00\", \"2019-09-26T00:00:00\", \"2019-09-27T00:00:00\", \"2019-09-28T00:00:00\", \"2019-09-29T00:00:00\", \"2019-09-30T00:00:00\", \"2019-10-01T00:00:00\", \"2019-10-02T00:00:00\", \"2019-10-03T00:00:00\", \"2019-10-04T00:00:00\", \"2019-10-05T00:00:00\", \"2019-10-06T00:00:00\", \"2019-10-07T00:00:00\", \"2019-10-08T00:00:00\", \"2019-10-09T00:00:00\", \"2019-10-10T00:00:00\", \"2019-10-11T00:00:00\", \"2019-10-12T00:00:00\", \"2019-10-13T00:00:00\", \"2019-10-14T00:00:00\", \"2019-10-15T00:00:00\", \"2019-10-16T00:00:00\", \"2019-10-17T00:00:00\", \"2019-10-18T00:00:00\", \"2019-10-19T00:00:00\", \"2019-10-20T00:00:00\", \"2019-10-21T00:00:00\", \"2019-10-22T00:00:00\", \"2019-10-23T00:00:00\", \"2019-10-24T00:00:00\", \"2019-10-25T00:00:00\", \"2019-10-26T00:00:00\", \"2019-10-27T00:00:00\", \"2019-10-28T00:00:00\", \"2019-10-29T00:00:00\", \"2019-10-30T00:00:00\", \"2019-10-31T00:00:00\", \"2019-11-01T00:00:00\", \"2019-11-02T00:00:00\", \"2019-11-03T00:00:00\", \"2019-11-04T00:00:00\", \"2019-11-05T00:00:00\", \"2019-11-06T00:00:00\", \"2019-11-07T00:00:00\", \"2019-11-08T00:00:00\", \"2019-11-09T00:00:00\", \"2019-11-10T00:00:00\", \"2019-11-11T00:00:00\", \"2019-11-12T00:00:00\", \"2019-11-13T00:00:00\", \"2019-11-14T00:00:00\", \"2019-11-15T00:00:00\", \"2019-11-16T00:00:00\", \"2019-11-17T00:00:00\", \"2019-11-18T00:00:00\", \"2019-11-19T00:00:00\", \"2019-11-20T00:00:00\", \"2019-11-21T00:00:00\", \"2019-11-22T00:00:00\", \"2019-11-23T00:00:00\", \"2019-11-24T00:00:00\", \"2019-11-25T00:00:00\", \"2019-11-26T00:00:00\", \"2019-11-27T00:00:00\", \"2019-11-28T00:00:00\", \"2019-11-29T00:00:00\", \"2019-11-30T00:00:00\", \"2019-12-01T00:00:00\", \"2019-12-02T00:00:00\", \"2019-12-03T00:00:00\", \"2019-12-04T00:00:00\", \"2019-12-05T00:00:00\", \"2019-12-06T00:00:00\", \"2019-12-07T00:00:00\", \"2019-12-08T00:00:00\", \"2019-12-09T00:00:00\", \"2019-12-10T00:00:00\", \"2019-12-11T00:00:00\", \"2019-12-12T00:00:00\", \"2019-12-13T00:00:00\", \"2019-12-14T00:00:00\", \"2019-12-15T00:00:00\", \"2019-12-16T00:00:00\", \"2019-12-17T00:00:00\", \"2019-12-18T00:00:00\", \"2019-12-19T00:00:00\", \"2019-12-20T00:00:00\", \"2019-12-21T00:00:00\", \"2019-12-22T00:00:00\", \"2019-12-23T00:00:00\", \"2019-12-24T00:00:00\", \"2019-12-25T00:00:00\", \"2019-12-26T00:00:00\", \"2019-12-27T00:00:00\", \"2019-12-28T00:00:00\", \"2019-12-29T00:00:00\", \"2019-12-30T00:00:00\", \"2019-12-31T00:00:00\", \"2020-01-01T00:00:00\", \"2020-01-02T00:00:00\", \"2020-01-03T00:00:00\", \"2020-01-04T00:00:00\", \"2020-01-05T00:00:00\", \"2020-01-06T00:00:00\", \"2020-01-07T00:00:00\", \"2020-01-08T00:00:00\", \"2020-01-09T00:00:00\", \"2020-01-10T00:00:00\", \"2020-01-11T00:00:00\", \"2020-01-12T00:00:00\", \"2020-01-13T00:00:00\", \"2020-01-14T00:00:00\", \"2020-01-15T00:00:00\", \"2020-01-16T00:00:00\", \"2020-01-17T00:00:00\", \"2020-01-18T00:00:00\", \"2020-01-19T00:00:00\", \"2020-01-20T00:00:00\", \"2020-01-21T00:00:00\", \"2020-01-22T00:00:00\", \"2020-01-23T00:00:00\", \"2020-01-24T00:00:00\", \"2020-01-25T00:00:00\", \"2020-01-26T00:00:00\", \"2020-01-27T00:00:00\", \"2020-01-28T00:00:00\", \"2020-01-29T00:00:00\", \"2020-01-30T00:00:00\", \"2020-01-31T00:00:00\", \"2020-02-01T00:00:00\", \"2020-02-02T00:00:00\", \"2020-02-03T00:00:00\", \"2020-02-04T00:00:00\", \"2020-02-05T00:00:00\", \"2020-02-06T00:00:00\", \"2020-02-07T00:00:00\", \"2020-02-08T00:00:00\", \"2020-02-09T00:00:00\", \"2020-02-10T00:00:00\", \"2020-02-11T00:00:00\", \"2020-02-12T00:00:00\", \"2020-02-13T00:00:00\", \"2020-02-14T00:00:00\", \"2020-02-15T00:00:00\", \"2020-02-16T00:00:00\", \"2020-02-17T00:00:00\", \"2020-02-18T00:00:00\", \"2020-02-19T00:00:00\", \"2020-02-20T00:00:00\", \"2020-02-21T00:00:00\", \"2020-02-22T00:00:00\", \"2020-02-23T00:00:00\", \"2020-02-24T00:00:00\", \"2020-02-25T00:00:00\", \"2020-02-26T00:00:00\", \"2020-02-27T00:00:00\", \"2020-02-28T00:00:00\", \"2020-02-29T00:00:00\", \"2020-03-01T00:00:00\", \"2020-03-02T00:00:00\", \"2020-03-03T00:00:00\", \"2020-03-04T00:00:00\", \"2020-03-05T00:00:00\", \"2020-03-06T00:00:00\", \"2020-03-07T00:00:00\", \"2020-03-08T00:00:00\", \"2020-03-09T00:00:00\", \"2020-03-10T00:00:00\", \"2020-03-11T00:00:00\", \"2020-03-12T00:00:00\", \"2020-03-13T00:00:00\", \"2020-03-14T00:00:00\", \"2020-03-15T00:00:00\", \"2020-03-16T00:00:00\", \"2020-03-17T00:00:00\", \"2020-03-18T00:00:00\", \"2020-03-19T00:00:00\", \"2020-03-20T00:00:00\", \"2020-03-21T00:00:00\", \"2020-03-22T00:00:00\", \"2020-03-23T00:00:00\", \"2020-03-24T00:00:00\", \"2020-03-25T00:00:00\", \"2020-03-26T00:00:00\", \"2020-03-27T00:00:00\", \"2020-03-28T00:00:00\", \"2020-03-29T00:00:00\", \"2020-03-30T00:00:00\", \"2020-03-31T00:00:00\", \"2020-04-01T00:00:00\", \"2020-04-02T00:00:00\", \"2020-04-03T00:00:00\", \"2020-04-04T00:00:00\", \"2020-04-05T00:00:00\", \"2020-04-06T00:00:00\", \"2020-04-07T00:00:00\", \"2020-04-08T00:00:00\", \"2020-04-09T00:00:00\", \"2020-04-10T00:00:00\", \"2020-04-11T00:00:00\", \"2020-04-12T00:00:00\", \"2020-04-13T00:00:00\", \"2020-04-14T00:00:00\", \"2020-04-15T00:00:00\", \"2020-04-16T00:00:00\", \"2020-04-17T00:00:00\", \"2020-04-18T00:00:00\", \"2020-04-19T00:00:00\", \"2020-04-20T00:00:00\", \"2020-04-21T00:00:00\", \"2020-04-22T00:00:00\", \"2020-04-23T00:00:00\", \"2020-04-24T00:00:00\", \"2020-04-25T00:00:00\", \"2020-04-26T00:00:00\", \"2020-04-27T00:00:00\", \"2020-04-28T00:00:00\", \"2020-04-29T00:00:00\", \"2020-04-30T00:00:00\", \"2020-05-01T00:00:00\", \"2020-05-02T00:00:00\", \"2020-05-03T00:00:00\", \"2020-05-04T00:00:00\", \"2020-05-05T00:00:00\", \"2020-05-06T00:00:00\", \"2020-05-07T00:00:00\", \"2020-05-08T00:00:00\", \"2020-05-09T00:00:00\", \"2020-05-10T00:00:00\", \"2020-05-11T00:00:00\", \"2020-05-12T00:00:00\", \"2020-05-13T00:00:00\", \"2020-05-14T00:00:00\", \"2020-05-15T00:00:00\", \"2020-05-16T00:00:00\", \"2020-05-17T00:00:00\", \"2020-05-18T00:00:00\", \"2020-05-19T00:00:00\", \"2020-05-20T00:00:00\", \"2020-05-21T00:00:00\", \"2020-05-22T00:00:00\", \"2020-05-23T00:00:00\", \"2020-05-24T00:00:00\", \"2020-05-25T00:00:00\", \"2020-05-26T00:00:00\", \"2020-05-27T00:00:00\", \"2020-05-28T00:00:00\", \"2020-05-29T00:00:00\", \"2020-05-30T00:00:00\", \"2020-05-31T00:00:00\", \"2020-06-01T00:00:00\", \"2020-06-02T00:00:00\", \"2020-06-03T00:00:00\", \"2020-06-04T00:00:00\", \"2020-06-05T00:00:00\", \"2020-06-06T00:00:00\", \"2020-06-07T00:00:00\", \"2020-06-08T00:00:00\", \"2020-06-09T00:00:00\", \"2020-06-10T00:00:00\", \"2020-06-11T00:00:00\"], \"y\": [10.064270679050967, 10.118649897195468, 10.111280053257406, 10.00396883577933, 10.035204656225456, 9.953090936401907, 9.926785968739868, 10.11011562125733, 10.176069900910692, 10.055248312343396, 10.088131415388307, 10.128872914407543, 9.984986740035147, 9.895286741548873, 10.18998008390571, 10.153463890551814, 10.122670455793015, 10.1300410892422, 10.06990669532622, 9.916630294644571, 9.968696943081843, 10.200814366742929, 10.059807697672088, 10.158348163569158, 10.156033869056335, 10.070868196096578, 9.966531603142778, 10.053237756485945, 10.129836234128378, 10.205276710271281, 10.227648595701982, 10.127363152407566, 10.16295518584843, 10.039194839554149, 10.085998058708414, 10.206063754348722, 10.191940153660413, 10.141093994579505, 10.231018453106499, 10.140382183518371, 10.112834894833439, 10.057878923191042, 10.269754598641669, 10.191024875937691, 10.229400561031634, 10.204945239734181, 10.244142809926084, 10.137922811880312, 10.13186187853778, 10.2319402803747, 10.264026980101214, 10.250818761275506, 10.256014775374348, 10.242109469322687, 10.160090511749237, 10.118264299019824, 10.3128489358752, 10.29105228299722, 10.295814358063229, 10.290486411570116, 10.268134525060582, 10.184406750864822, 10.106704604003042, 10.322627668166476, 10.305524910934134, 10.318389872615763, 10.352967619788634, 10.326292923942566, 10.224177487619196, 10.2502549832132, 10.347972950701637, 10.317486883001173, 10.356498485634338, 10.364345030838441, 10.340789922574096, 10.284104149372368, 10.226044755492927, 10.346469296318668, 10.390234216881634, 10.41951702060708, 10.38052713474074, 10.375959638336253, 10.275601889197112, 10.244908587713619, 10.337913110363099, 10.376919466075972, 10.3376553342623, 10.389053176548543, 10.36693059269762, 10.288597080224603, 10.304039487344209, 10.40111416462253, 10.403561452065187, 10.400090687397862, 10.382851355177149, 10.352569944002889, 10.24953885961103, 10.226461716521198, 10.32284582141549, 10.359487848597642, 10.398457648135343, 10.384720590203555, 10.332036335417513, 10.262278760108767, 10.17626717421003, 10.38012130894856, 10.41392662832541, 10.409864489123944, 10.398635587748954, 10.305687503485503, 10.2377552648205, 10.22935946769441, 10.36106460355441, 10.322806302251937, 10.167065779179467, 10.134651219873636, 10.2776889955378, 10.169816007591116, 10.168515634410763, 10.2302103828379, 10.205700879107349, 10.12824623690523, 10.257582315340429, 10.26674981592816, 10.232961056169184, 10.177514230990571, 10.246301135025174, 10.259776213877041, 10.33447640216498, 10.306338967269776, 10.33168131618457, 10.239382686451084, 10.183026737612234, 10.28897966652666, 10.335146797309257, 10.356499524427834, 10.308753130746698, 10.3294359950612, 10.210211059675467, 10.275009306188236, 10.385457207943125, 10.40386436493805, 10.37289793848397, 10.386736656697867, 10.394806530732936, 10.288291852589508, 10.281862892055765, 10.370210714458484, 10.392903324183482, 10.365351905002912, 10.363337591875615, 10.329877179455298, 10.218441853671838, 10.120024305691356, 10.302409907392496, 10.289029668563298, 10.329300403538536, 10.379184204655564, 10.315708456101396, 10.148083119437683, 10.186803077643704, 10.300186907432636, 10.345696072426566, 10.36994956294478, 10.33248622420048, 10.310907128407763, 10.16584106556551, 10.22112246055121, 10.281150474913844, 10.291521825662022, 10.330574109067562, 10.361482997922145, 10.307560270861243, 10.18120835107879, 10.123811220975897, 10.273770071087842, 10.33918249376766, 10.363706966060597, 10.311677402632323, 10.322788540867776, 10.210872019022112, 10.178663649525982, 10.30314216423279, 10.318537752328893, 10.357941049679521, 10.375568014091852, 10.41192038158936, 10.126424828537113, 10.145995756629771, 10.288844941573764, 10.303444654637806, 10.31287406875238, 10.308416420891277, 10.202461185128922, 10.166288841696066, 10.098485294899827, 10.309731718987962, 10.214824373621394, 10.212338652334873, 10.233787342485048, 10.35975853667001, 10.109288084281104, 10.062714951032286, 10.136648836033345, 10.190802183656853, 10.195101622205986, 10.160585483000345, 10.054388493609366, 9.943197014691908, 9.980471536769855, 10.15837826139192, 10.109715518592541, 10.121348453994775, 10.147001164313323, 10.044041283914288, 10.013900779996876, 9.98046077003808, 10.03189746213891, 10.041421126589254, 10.061712965199629, 9.919973455643648, 9.881311122624266, 9.898562184698122, 9.740943467333324, 9.853001131150073, 9.938856182505232, 9.959931015882482, 9.942549401461312, 10.009776946138704, 9.868213779113255, 9.86331926571974, 9.822179385294298, 9.879923406014383, 9.887088674713077, 9.952854897866185, 9.98663139495371, 9.825100980043095, 9.836387078637019, 9.914798377351062, 9.967967139022878, 9.963373839981394, 9.931645997718961, 9.968107223671977, 9.839901911167543, 9.851463898107541, 9.93076390464261, 9.975415725467602, 9.965732674089494, 9.935942912598017, 9.84304901701887, 9.818237665282972, 9.834747372783253, 9.894337360942824, 9.930499946193619, 9.928584921331064, 9.93733944158395, 9.99054437570309, 9.824240739450278, 9.825732520902308, 9.89627856120297, 9.929304536195701, 9.9140880396188, 9.894126979105359, 9.921435453389313, 9.80155572364567, 9.80534888136954, 9.771473653421014, 9.919467100478997, 9.910464611038245, 9.878420159538903, 9.903148800566525, 9.773028780918308, 9.782460466366373, 9.86270296681438, 9.905511158744758, 9.91869708943122, 9.90718111212395, 9.933337823847282, 9.804893090670141, 9.812647350335878, 9.87007849097821, 9.915817261012549, 9.905911829376162, 9.876960861973508]}],\n",
              "                        {\"template\": {\"data\": {\"bar\": [{\"error_x\": {\"color\": \"#2a3f5f\"}, \"error_y\": {\"color\": \"#2a3f5f\"}, \"marker\": {\"line\": {\"color\": \"#E5ECF6\", \"width\": 0.5}}, \"type\": \"bar\"}], \"barpolar\": [{\"marker\": {\"line\": {\"color\": \"#E5ECF6\", \"width\": 0.5}}, \"type\": \"barpolar\"}], \"carpet\": [{\"aaxis\": {\"endlinecolor\": \"#2a3f5f\", \"gridcolor\": \"white\", \"linecolor\": \"white\", \"minorgridcolor\": \"white\", \"startlinecolor\": \"#2a3f5f\"}, \"baxis\": {\"endlinecolor\": \"#2a3f5f\", \"gridcolor\": \"white\", \"linecolor\": \"white\", \"minorgridcolor\": \"white\", \"startlinecolor\": \"#2a3f5f\"}, \"type\": \"carpet\"}], \"choropleth\": [{\"colorbar\": {\"outlinewidth\": 0, \"ticks\": \"\"}, \"type\": \"choropleth\"}], \"contour\": [{\"colorbar\": {\"outlinewidth\": 0, \"ticks\": \"\"}, \"colorscale\": [[0.0, \"#0d0887\"], [0.1111111111111111, \"#46039f\"], [0.2222222222222222, \"#7201a8\"], [0.3333333333333333, \"#9c179e\"], [0.4444444444444444, \"#bd3786\"], [0.5555555555555556, \"#d8576b\"], [0.6666666666666666, \"#ed7953\"], [0.7777777777777778, \"#fb9f3a\"], [0.8888888888888888, \"#fdca26\"], [1.0, \"#f0f921\"]], \"type\": \"contour\"}], \"contourcarpet\": [{\"colorbar\": {\"outlinewidth\": 0, \"ticks\": \"\"}, \"type\": \"contourcarpet\"}], \"heatmap\": [{\"colorbar\": {\"outlinewidth\": 0, \"ticks\": \"\"}, \"colorscale\": [[0.0, \"#0d0887\"], [0.1111111111111111, \"#46039f\"], [0.2222222222222222, \"#7201a8\"], [0.3333333333333333, \"#9c179e\"], [0.4444444444444444, \"#bd3786\"], [0.5555555555555556, \"#d8576b\"], [0.6666666666666666, \"#ed7953\"], [0.7777777777777778, \"#fb9f3a\"], [0.8888888888888888, \"#fdca26\"], [1.0, \"#f0f921\"]], \"type\": \"heatmap\"}], \"heatmapgl\": [{\"colorbar\": {\"outlinewidth\": 0, \"ticks\": \"\"}, \"colorscale\": [[0.0, \"#0d0887\"], [0.1111111111111111, \"#46039f\"], [0.2222222222222222, \"#7201a8\"], [0.3333333333333333, \"#9c179e\"], [0.4444444444444444, \"#bd3786\"], [0.5555555555555556, \"#d8576b\"], [0.6666666666666666, \"#ed7953\"], [0.7777777777777778, \"#fb9f3a\"], [0.8888888888888888, \"#fdca26\"], [1.0, \"#f0f921\"]], \"type\": \"heatmapgl\"}], \"histogram\": [{\"marker\": {\"colorbar\": {\"outlinewidth\": 0, \"ticks\": \"\"}}, \"type\": \"histogram\"}], \"histogram2d\": [{\"colorbar\": {\"outlinewidth\": 0, \"ticks\": \"\"}, \"colorscale\": [[0.0, \"#0d0887\"], [0.1111111111111111, \"#46039f\"], [0.2222222222222222, \"#7201a8\"], [0.3333333333333333, \"#9c179e\"], [0.4444444444444444, \"#bd3786\"], [0.5555555555555556, \"#d8576b\"], [0.6666666666666666, \"#ed7953\"], [0.7777777777777778, \"#fb9f3a\"], [0.8888888888888888, \"#fdca26\"], [1.0, \"#f0f921\"]], \"type\": \"histogram2d\"}], \"histogram2dcontour\": [{\"colorbar\": {\"outlinewidth\": 0, \"ticks\": \"\"}, \"colorscale\": [[0.0, \"#0d0887\"], [0.1111111111111111, \"#46039f\"], [0.2222222222222222, \"#7201a8\"], [0.3333333333333333, \"#9c179e\"], [0.4444444444444444, \"#bd3786\"], [0.5555555555555556, \"#d8576b\"], [0.6666666666666666, \"#ed7953\"], [0.7777777777777778, \"#fb9f3a\"], [0.8888888888888888, \"#fdca26\"], [1.0, \"#f0f921\"]], \"type\": \"histogram2dcontour\"}], \"mesh3d\": [{\"colorbar\": {\"outlinewidth\": 0, \"ticks\": \"\"}, \"type\": \"mesh3d\"}], \"parcoords\": [{\"line\": {\"colorbar\": {\"outlinewidth\": 0, \"ticks\": \"\"}}, \"type\": \"parcoords\"}], \"pie\": [{\"automargin\": true, \"type\": \"pie\"}], \"scatter\": [{\"marker\": {\"colorbar\": {\"outlinewidth\": 0, \"ticks\": \"\"}}, \"type\": \"scatter\"}], \"scatter3d\": [{\"line\": {\"colorbar\": {\"outlinewidth\": 0, \"ticks\": \"\"}}, \"marker\": {\"colorbar\": {\"outlinewidth\": 0, \"ticks\": \"\"}}, \"type\": \"scatter3d\"}], \"scattercarpet\": [{\"marker\": {\"colorbar\": {\"outlinewidth\": 0, \"ticks\": \"\"}}, \"type\": \"scattercarpet\"}], \"scattergeo\": [{\"marker\": {\"colorbar\": {\"outlinewidth\": 0, \"ticks\": \"\"}}, \"type\": \"scattergeo\"}], \"scattergl\": [{\"marker\": {\"colorbar\": {\"outlinewidth\": 0, \"ticks\": \"\"}}, \"type\": \"scattergl\"}], \"scattermapbox\": [{\"marker\": {\"colorbar\": {\"outlinewidth\": 0, \"ticks\": \"\"}}, \"type\": \"scattermapbox\"}], \"scatterpolar\": [{\"marker\": {\"colorbar\": {\"outlinewidth\": 0, \"ticks\": \"\"}}, \"type\": \"scatterpolar\"}], \"scatterpolargl\": [{\"marker\": {\"colorbar\": {\"outlinewidth\": 0, \"ticks\": \"\"}}, \"type\": \"scatterpolargl\"}], \"scatterternary\": [{\"marker\": {\"colorbar\": {\"outlinewidth\": 0, \"ticks\": \"\"}}, \"type\": \"scatterternary\"}], \"surface\": [{\"colorbar\": {\"outlinewidth\": 0, \"ticks\": \"\"}, \"colorscale\": [[0.0, \"#0d0887\"], [0.1111111111111111, \"#46039f\"], [0.2222222222222222, \"#7201a8\"], [0.3333333333333333, \"#9c179e\"], [0.4444444444444444, \"#bd3786\"], [0.5555555555555556, \"#d8576b\"], [0.6666666666666666, \"#ed7953\"], [0.7777777777777778, \"#fb9f3a\"], [0.8888888888888888, \"#fdca26\"], [1.0, \"#f0f921\"]], \"type\": \"surface\"}], \"table\": [{\"cells\": {\"fill\": {\"color\": \"#EBF0F8\"}, \"line\": {\"color\": \"white\"}}, \"header\": {\"fill\": {\"color\": \"#C8D4E3\"}, \"line\": {\"color\": \"white\"}}, \"type\": \"table\"}]}, \"layout\": {\"annotationdefaults\": {\"arrowcolor\": \"#2a3f5f\", \"arrowhead\": 0, \"arrowwidth\": 1}, \"coloraxis\": {\"colorbar\": {\"outlinewidth\": 0, \"ticks\": \"\"}}, \"colorscale\": {\"diverging\": [[0, \"#8e0152\"], [0.1, \"#c51b7d\"], [0.2, \"#de77ae\"], [0.3, \"#f1b6da\"], [0.4, \"#fde0ef\"], [0.5, \"#f7f7f7\"], [0.6, \"#e6f5d0\"], [0.7, \"#b8e186\"], [0.8, \"#7fbc41\"], [0.9, \"#4d9221\"], [1, \"#276419\"]], \"sequential\": [[0.0, \"#0d0887\"], [0.1111111111111111, \"#46039f\"], [0.2222222222222222, \"#7201a8\"], [0.3333333333333333, \"#9c179e\"], [0.4444444444444444, \"#bd3786\"], [0.5555555555555556, \"#d8576b\"], [0.6666666666666666, \"#ed7953\"], [0.7777777777777778, \"#fb9f3a\"], [0.8888888888888888, \"#fdca26\"], [1.0, \"#f0f921\"]], \"sequentialminus\": [[0.0, \"#0d0887\"], [0.1111111111111111, \"#46039f\"], [0.2222222222222222, \"#7201a8\"], [0.3333333333333333, \"#9c179e\"], [0.4444444444444444, \"#bd3786\"], [0.5555555555555556, \"#d8576b\"], [0.6666666666666666, \"#ed7953\"], [0.7777777777777778, \"#fb9f3a\"], [0.8888888888888888, \"#fdca26\"], [1.0, \"#f0f921\"]]}, \"colorway\": [\"#636efa\", \"#EF553B\", \"#00cc96\", \"#ab63fa\", \"#FFA15A\", \"#19d3f3\", \"#FF6692\", \"#B6E880\", \"#FF97FF\", \"#FECB52\"], \"font\": {\"color\": \"#2a3f5f\"}, \"geo\": {\"bgcolor\": \"white\", \"lakecolor\": \"white\", \"landcolor\": \"#E5ECF6\", \"showlakes\": true, \"showland\": true, \"subunitcolor\": \"white\"}, \"hoverlabel\": {\"align\": \"left\"}, \"hovermode\": \"closest\", \"mapbox\": {\"style\": \"light\"}, \"paper_bgcolor\": \"white\", \"plot_bgcolor\": \"#E5ECF6\", \"polar\": {\"angularaxis\": {\"gridcolor\": \"white\", \"linecolor\": \"white\", \"ticks\": \"\"}, \"bgcolor\": \"#E5ECF6\", \"radialaxis\": {\"gridcolor\": \"white\", \"linecolor\": \"white\", \"ticks\": \"\"}}, \"scene\": {\"xaxis\": {\"backgroundcolor\": \"#E5ECF6\", \"gridcolor\": \"white\", \"gridwidth\": 2, \"linecolor\": \"white\", \"showbackground\": true, \"ticks\": \"\", \"zerolinecolor\": \"white\"}, \"yaxis\": {\"backgroundcolor\": \"#E5ECF6\", \"gridcolor\": \"white\", \"gridwidth\": 2, \"linecolor\": \"white\", \"showbackground\": true, \"ticks\": \"\", \"zerolinecolor\": \"white\"}, \"zaxis\": {\"backgroundcolor\": \"#E5ECF6\", \"gridcolor\": \"white\", \"gridwidth\": 2, \"linecolor\": \"white\", \"showbackground\": true, \"ticks\": \"\", \"zerolinecolor\": \"white\"}}, \"shapedefaults\": {\"line\": {\"color\": \"#2a3f5f\"}}, \"ternary\": {\"aaxis\": {\"gridcolor\": \"white\", \"linecolor\": \"white\", \"ticks\": \"\"}, \"baxis\": {\"gridcolor\": \"white\", \"linecolor\": \"white\", \"ticks\": \"\"}, \"bgcolor\": \"#E5ECF6\", \"caxis\": {\"gridcolor\": \"white\", \"linecolor\": \"white\", \"ticks\": \"\"}}, \"title\": {\"x\": 0.05}, \"xaxis\": {\"automargin\": true, \"gridcolor\": \"white\", \"linecolor\": \"white\", \"ticks\": \"\", \"title\": {\"standoff\": 15}, \"zerolinecolor\": \"white\", \"zerolinewidth\": 2}, \"yaxis\": {\"automargin\": true, \"gridcolor\": \"white\", \"linecolor\": \"white\", \"ticks\": \"\", \"title\": {\"standoff\": 15}, \"zerolinecolor\": \"white\", \"zerolinewidth\": 2}}}},\n",
              "                        {\"responsive\": true}\n",
              "                    ).then(function(){\n",
              "                            \n",
              "var gd = document.getElementById('c26c507b-5e3d-4f73-8539-554a8ceeea8f');\n",
              "var x = new MutationObserver(function (mutations, observer) {{\n",
              "        var display = window.getComputedStyle(gd).display;\n",
              "        if (!display || display === 'none') {{\n",
              "            console.log([gd, 'removed!']);\n",
              "            Plotly.purge(gd);\n",
              "            observer.disconnect();\n",
              "        }}\n",
              "}});\n",
              "\n",
              "// Listen for the removal of the full notebook cells\n",
              "var notebookContainer = gd.closest('#notebook-container');\n",
              "if (notebookContainer) {{\n",
              "    x.observe(notebookContainer, {childList: true});\n",
              "}}\n",
              "\n",
              "// Listen for the clearing of the current output cell\n",
              "var outputEl = gd.closest('.output');\n",
              "if (outputEl) {{\n",
              "    x.observe(outputEl, {childList: true});\n",
              "}}\n",
              "\n",
              "                        })\n",
              "                };\n",
              "                \n",
              "            </script>\n",
              "        </div>\n",
              "</body>\n",
              "</html>"
            ]
          },
          "metadata": {
            "tags": []
          }
        }
      ]
    },
    {
      "cell_type": "code",
      "metadata": {
        "id": "arVs9liwgn7H",
        "colab_type": "code",
        "colab": {
          "base_uri": "https://localhost:8080/",
          "height": 476
        },
        "outputId": "d6b9c45b-1f50-4c08-8c88-c77971427864"
      },
      "source": [
        "# Keep parameters, calibrate on full data set\n",
        "model_2_out = SARIMAX(y,exog=X,order=arima,seasonal_order=seasonal,enforce_stationarity=False,enforce_invertibility=False).fit()\n",
        "print(model_2_out.summary())\n",
        "model_2_out_y = scaler_out.inverse_transform(model_2_out.predict().reshape(-1,1))\n",
        "\n",
        "data_ar['model_2_forecast'] = model_2_out_y"
      ],
      "execution_count": 171,
      "outputs": [
        {
          "output_type": "stream",
          "text": [
            "                                 Statespace Model Results                                \n",
            "=========================================================================================\n",
            "Dep. Variable:                                 y   No. Observations:                 1258\n",
            "Model:             SARIMAX(1, 0, 0)x(1, 0, 0, 7)   Log Likelihood                1765.957\n",
            "Date:                           Fri, 12 Jun 2020   AIC                          -3519.913\n",
            "Time:                                   18:56:49   BIC                          -3489.128\n",
            "Sample:                                        0   HQIC                         -3508.340\n",
            "                                          - 1258                                         \n",
            "Covariance Type:                             opg                                         \n",
            "==============================================================================\n",
            "                 coef    std err          z      P>|z|      [0.025      0.975]\n",
            "------------------------------------------------------------------------------\n",
            "x1            -0.2346      0.019    -12.313      0.000      -0.272      -0.197\n",
            "x2            -0.1511      0.058     -2.599      0.009      -0.265      -0.037\n",
            "x3            -0.1306      0.006    -20.755      0.000      -0.143      -0.118\n",
            "ar.L1          0.6048      0.021     28.819      0.000       0.564       0.646\n",
            "ar.S.L7        0.9773      0.006    158.355      0.000       0.965       0.989\n",
            "sigma2         0.0035      0.000     30.450      0.000       0.003       0.004\n",
            "===================================================================================\n",
            "Ljung-Box (Q):                      300.52   Jarque-Bera (JB):                69.25\n",
            "Prob(Q):                              0.00   Prob(JB):                         0.00\n",
            "Heteroskedasticity (H):               1.39   Skew:                            -0.06\n",
            "Prob(H) (two-sided):                  0.00   Kurtosis:                         4.15\n",
            "===================================================================================\n",
            "\n",
            "Warnings:\n",
            "[1] Covariance matrix calculated using the outer product of gradients (complex-step).\n"
          ],
          "name": "stdout"
        }
      ]
    },
    {
      "cell_type": "code",
      "metadata": {
        "id": "0JmdQJVpRSdg",
        "colab_type": "code",
        "colab": {
          "base_uri": "https://localhost:8080/",
          "height": 542
        },
        "outputId": "9a3aef73-4505-431e-d66e-b33f994cb727"
      },
      "source": [
        "# Show errors on the full set\n",
        "cutoff = dt.datetime(2017,6,2)\n",
        "plt_df = data_ar[data_ar['Date']>=cutoff]\n",
        "fig = go.Figure()\n",
        "fig.add_trace(go.Scatter(x=plt_df['Date'], y=plt_df['model_2_forecast']-plt_df['Log_load'],\n",
        "                    mode='lines',\n",
        "                    name='error'))\n",
        "fig.show()"
      ],
      "execution_count": 172,
      "outputs": [
        {
          "output_type": "display_data",
          "data": {
            "text/html": [
              "<html>\n",
              "<head><meta charset=\"utf-8\" /></head>\n",
              "<body>\n",
              "    <div>\n",
              "            <script src=\"https://cdnjs.cloudflare.com/ajax/libs/mathjax/2.7.5/MathJax.js?config=TeX-AMS-MML_SVG\"></script><script type=\"text/javascript\">if (window.MathJax) {MathJax.Hub.Config({SVG: {font: \"STIX-Web\"}});}</script>\n",
              "                <script type=\"text/javascript\">window.PlotlyConfig = {MathJaxConfig: 'local'};</script>\n",
              "        <script src=\"https://cdn.plot.ly/plotly-latest.min.js\"></script>    \n",
              "            <div id=\"94150869-1baa-4887-9ca8-fc2ca0f0a1a5\" class=\"plotly-graph-div\" style=\"height:525px; width:100%;\"></div>\n",
              "            <script type=\"text/javascript\">\n",
              "                \n",
              "                    window.PLOTLYENV=window.PLOTLYENV || {};\n",
              "                    \n",
              "                if (document.getElementById(\"94150869-1baa-4887-9ca8-fc2ca0f0a1a5\")) {\n",
              "                    Plotly.newPlot(\n",
              "                        '94150869-1baa-4887-9ca8-fc2ca0f0a1a5',\n",
              "                        [{\"mode\": \"lines\", \"name\": \"error\", \"type\": \"scatter\", \"x\": [\"2017-06-02T00:00:00\", \"2017-06-03T00:00:00\", \"2017-06-04T00:00:00\", \"2017-06-05T00:00:00\", \"2017-06-06T00:00:00\", \"2017-06-07T00:00:00\", \"2017-06-08T00:00:00\", \"2017-06-09T00:00:00\", \"2017-06-10T00:00:00\", \"2017-06-11T00:00:00\", \"2017-06-12T00:00:00\", \"2017-06-13T00:00:00\", \"2017-06-14T00:00:00\", \"2017-06-15T00:00:00\", \"2017-06-16T00:00:00\", \"2017-06-17T00:00:00\", \"2017-06-18T00:00:00\", \"2017-06-19T00:00:00\", \"2017-06-20T00:00:00\", \"2017-06-21T00:00:00\", \"2017-06-22T00:00:00\", \"2017-06-23T00:00:00\", \"2017-06-24T00:00:00\", \"2017-06-25T00:00:00\", \"2017-06-26T00:00:00\", \"2017-06-27T00:00:00\", \"2017-06-28T00:00:00\", \"2017-06-29T00:00:00\", \"2017-06-30T00:00:00\", \"2017-07-01T00:00:00\", \"2017-07-02T00:00:00\", \"2017-07-03T00:00:00\", \"2017-07-04T00:00:00\", \"2017-07-05T00:00:00\", \"2017-07-06T00:00:00\", \"2017-07-07T00:00:00\", \"2017-07-08T00:00:00\", \"2017-07-09T00:00:00\", \"2017-07-10T00:00:00\", \"2017-07-11T00:00:00\", \"2017-07-12T00:00:00\", \"2017-07-13T00:00:00\", \"2017-07-14T00:00:00\", \"2017-07-15T00:00:00\", \"2017-07-16T00:00:00\", \"2017-07-17T00:00:00\", \"2017-07-18T00:00:00\", \"2017-07-19T00:00:00\", \"2017-07-20T00:00:00\", \"2017-07-21T00:00:00\", \"2017-07-22T00:00:00\", \"2017-07-23T00:00:00\", \"2017-07-24T00:00:00\", \"2017-07-25T00:00:00\", \"2017-07-26T00:00:00\", \"2017-07-27T00:00:00\", \"2017-07-28T00:00:00\", \"2017-07-29T00:00:00\", \"2017-07-30T00:00:00\", \"2017-07-31T00:00:00\", \"2017-08-01T00:00:00\", \"2017-08-02T00:00:00\", \"2017-08-03T00:00:00\", \"2017-08-04T00:00:00\", \"2017-08-05T00:00:00\", \"2017-08-06T00:00:00\", \"2017-08-07T00:00:00\", \"2017-08-08T00:00:00\", \"2017-08-09T00:00:00\", \"2017-08-10T00:00:00\", \"2017-08-11T00:00:00\", \"2017-08-12T00:00:00\", \"2017-08-13T00:00:00\", \"2017-08-14T00:00:00\", \"2017-08-15T00:00:00\", \"2017-08-16T00:00:00\", \"2017-08-17T00:00:00\", \"2017-08-18T00:00:00\", \"2017-08-19T00:00:00\", \"2017-08-20T00:00:00\", \"2017-08-21T00:00:00\", \"2017-08-22T00:00:00\", \"2017-08-23T00:00:00\", \"2017-08-24T00:00:00\", \"2017-08-25T00:00:00\", \"2017-08-26T00:00:00\", \"2017-08-27T00:00:00\", \"2017-08-28T00:00:00\", \"2017-08-29T00:00:00\", \"2017-08-30T00:00:00\", \"2017-08-31T00:00:00\", \"2017-09-01T00:00:00\", \"2017-09-02T00:00:00\", \"2017-09-03T00:00:00\", \"2017-09-04T00:00:00\", \"2017-09-05T00:00:00\", \"2017-09-06T00:00:00\", \"2017-09-07T00:00:00\", \"2017-09-08T00:00:00\", \"2017-09-09T00:00:00\", \"2017-09-10T00:00:00\", \"2017-09-11T00:00:00\", \"2017-09-12T00:00:00\", \"2017-09-13T00:00:00\", \"2017-09-14T00:00:00\", \"2017-09-15T00:00:00\", \"2017-09-16T00:00:00\", \"2017-09-17T00:00:00\", \"2017-09-18T00:00:00\", \"2017-09-19T00:00:00\", \"2017-09-20T00:00:00\", \"2017-09-21T00:00:00\", \"2017-09-22T00:00:00\", \"2017-09-23T00:00:00\", \"2017-09-24T00:00:00\", \"2017-09-25T00:00:00\", \"2017-09-26T00:00:00\", \"2017-09-27T00:00:00\", \"2017-09-28T00:00:00\", \"2017-09-29T00:00:00\", \"2017-09-30T00:00:00\", \"2017-10-01T00:00:00\", \"2017-10-02T00:00:00\", \"2017-10-03T00:00:00\", \"2017-10-04T00:00:00\", \"2017-10-05T00:00:00\", \"2017-10-06T00:00:00\", \"2017-10-07T00:00:00\", \"2017-10-08T00:00:00\", \"2017-10-09T00:00:00\", \"2017-10-10T00:00:00\", \"2017-10-11T00:00:00\", \"2017-10-12T00:00:00\", \"2017-10-13T00:00:00\", \"2017-10-14T00:00:00\", \"2017-10-15T00:00:00\", \"2017-10-16T00:00:00\", \"2017-10-17T00:00:00\", \"2017-10-18T00:00:00\", \"2017-10-19T00:00:00\", \"2017-10-20T00:00:00\", \"2017-10-21T00:00:00\", \"2017-10-22T00:00:00\", \"2017-10-23T00:00:00\", \"2017-10-24T00:00:00\", \"2017-10-25T00:00:00\", \"2017-10-26T00:00:00\", \"2017-10-27T00:00:00\", \"2017-10-28T00:00:00\", \"2017-10-29T00:00:00\", \"2017-10-30T00:00:00\", \"2017-10-31T00:00:00\", \"2017-11-01T00:00:00\", \"2017-11-02T00:00:00\", \"2017-11-03T00:00:00\", \"2017-11-04T00:00:00\", \"2017-11-05T00:00:00\", \"2017-11-06T00:00:00\", \"2017-11-07T00:00:00\", \"2017-11-08T00:00:00\", \"2017-11-09T00:00:00\", \"2017-11-10T00:00:00\", \"2017-11-11T00:00:00\", \"2017-11-12T00:00:00\", \"2017-11-13T00:00:00\", \"2017-11-14T00:00:00\", \"2017-11-15T00:00:00\", \"2017-11-16T00:00:00\", \"2017-11-17T00:00:00\", \"2017-11-18T00:00:00\", \"2017-11-19T00:00:00\", \"2017-11-20T00:00:00\", \"2017-11-21T00:00:00\", \"2017-11-22T00:00:00\", \"2017-11-23T00:00:00\", \"2017-11-24T00:00:00\", \"2017-11-25T00:00:00\", \"2017-11-26T00:00:00\", \"2017-11-27T00:00:00\", \"2017-11-28T00:00:00\", \"2017-11-29T00:00:00\", \"2017-11-30T00:00:00\", \"2017-12-01T00:00:00\", \"2017-12-02T00:00:00\", \"2017-12-03T00:00:00\", \"2017-12-04T00:00:00\", \"2017-12-05T00:00:00\", \"2017-12-06T00:00:00\", \"2017-12-07T00:00:00\", \"2017-12-08T00:00:00\", \"2017-12-09T00:00:00\", \"2017-12-10T00:00:00\", \"2017-12-11T00:00:00\", \"2017-12-12T00:00:00\", \"2017-12-13T00:00:00\", \"2017-12-14T00:00:00\", \"2017-12-15T00:00:00\", \"2017-12-16T00:00:00\", \"2017-12-17T00:00:00\", \"2017-12-18T00:00:00\", \"2017-12-19T00:00:00\", \"2017-12-20T00:00:00\", \"2017-12-21T00:00:00\", \"2017-12-22T00:00:00\", \"2017-12-23T00:00:00\", \"2017-12-24T00:00:00\", \"2017-12-25T00:00:00\", \"2017-12-26T00:00:00\", \"2017-12-27T00:00:00\", \"2017-12-28T00:00:00\", \"2017-12-29T00:00:00\", \"2017-12-30T00:00:00\", \"2017-12-31T00:00:00\", \"2018-01-01T00:00:00\", \"2018-01-02T00:00:00\", \"2018-01-03T00:00:00\", \"2018-01-04T00:00:00\", \"2018-01-05T00:00:00\", \"2018-01-06T00:00:00\", \"2018-01-07T00:00:00\", \"2018-01-08T00:00:00\", \"2018-01-09T00:00:00\", \"2018-01-10T00:00:00\", \"2018-01-11T00:00:00\", \"2018-01-12T00:00:00\", \"2018-01-13T00:00:00\", \"2018-01-14T00:00:00\", \"2018-01-15T00:00:00\", \"2018-01-16T00:00:00\", \"2018-01-17T00:00:00\", \"2018-01-18T00:00:00\", \"2018-01-19T00:00:00\", \"2018-01-20T00:00:00\", \"2018-01-21T00:00:00\", \"2018-01-22T00:00:00\", \"2018-01-23T00:00:00\", \"2018-01-24T00:00:00\", \"2018-01-25T00:00:00\", \"2018-01-26T00:00:00\", \"2018-01-27T00:00:00\", \"2018-01-28T00:00:00\", \"2018-01-29T00:00:00\", \"2018-01-30T00:00:00\", \"2018-01-31T00:00:00\", \"2018-02-01T00:00:00\", \"2018-02-02T00:00:00\", \"2018-02-03T00:00:00\", \"2018-02-04T00:00:00\", \"2018-02-05T00:00:00\", \"2018-02-06T00:00:00\", \"2018-02-07T00:00:00\", \"2018-02-08T00:00:00\", \"2018-02-09T00:00:00\", \"2018-02-10T00:00:00\", \"2018-02-11T00:00:00\", \"2018-02-12T00:00:00\", \"2018-02-13T00:00:00\", \"2018-02-14T00:00:00\", \"2018-02-15T00:00:00\", \"2018-02-16T00:00:00\", \"2018-02-17T00:00:00\", \"2018-02-18T00:00:00\", \"2018-02-19T00:00:00\", \"2018-02-20T00:00:00\", \"2018-02-21T00:00:00\", \"2018-02-22T00:00:00\", \"2018-02-23T00:00:00\", \"2018-02-24T00:00:00\", \"2018-02-25T00:00:00\", \"2018-02-26T00:00:00\", \"2018-02-27T00:00:00\", \"2018-02-28T00:00:00\", \"2018-03-01T00:00:00\", \"2018-03-02T00:00:00\", \"2018-03-03T00:00:00\", \"2018-03-04T00:00:00\", \"2018-03-05T00:00:00\", \"2018-03-06T00:00:00\", \"2018-03-07T00:00:00\", \"2018-03-08T00:00:00\", \"2018-03-09T00:00:00\", \"2018-03-10T00:00:00\", \"2018-03-11T00:00:00\", \"2018-03-12T00:00:00\", \"2018-03-13T00:00:00\", \"2018-03-14T00:00:00\", \"2018-03-15T00:00:00\", \"2018-03-16T00:00:00\", \"2018-03-17T00:00:00\", \"2018-03-18T00:00:00\", \"2018-03-19T00:00:00\", \"2018-03-20T00:00:00\", \"2018-03-21T00:00:00\", \"2018-03-22T00:00:00\", \"2018-03-23T00:00:00\", \"2018-03-24T00:00:00\", \"2018-03-25T00:00:00\", \"2018-03-26T00:00:00\", \"2018-03-27T00:00:00\", \"2018-03-28T00:00:00\", \"2018-03-29T00:00:00\", \"2018-03-30T00:00:00\", \"2018-03-31T00:00:00\", \"2018-04-01T00:00:00\", \"2018-04-02T00:00:00\", \"2018-04-03T00:00:00\", \"2018-04-04T00:00:00\", \"2018-04-05T00:00:00\", \"2018-04-06T00:00:00\", \"2018-04-07T00:00:00\", \"2018-04-08T00:00:00\", \"2018-04-09T00:00:00\", \"2018-04-10T00:00:00\", \"2018-04-11T00:00:00\", \"2018-04-12T00:00:00\", \"2018-04-13T00:00:00\", \"2018-04-14T00:00:00\", \"2018-04-15T00:00:00\", \"2018-04-16T00:00:00\", \"2018-04-17T00:00:00\", \"2018-04-18T00:00:00\", \"2018-04-19T00:00:00\", \"2018-04-20T00:00:00\", \"2018-04-21T00:00:00\", \"2018-04-22T00:00:00\", \"2018-04-23T00:00:00\", \"2018-04-24T00:00:00\", \"2018-04-25T00:00:00\", \"2018-04-26T00:00:00\", \"2018-04-27T00:00:00\", \"2018-04-28T00:00:00\", \"2018-04-29T00:00:00\", \"2018-04-30T00:00:00\", \"2018-05-01T00:00:00\", \"2018-05-02T00:00:00\", \"2018-05-03T00:00:00\", \"2018-05-04T00:00:00\", \"2018-05-05T00:00:00\", \"2018-05-06T00:00:00\", \"2018-05-07T00:00:00\", \"2018-05-08T00:00:00\", \"2018-05-09T00:00:00\", \"2018-05-10T00:00:00\", \"2018-05-11T00:00:00\", \"2018-05-12T00:00:00\", \"2018-05-13T00:00:00\", \"2018-05-14T00:00:00\", \"2018-05-15T00:00:00\", \"2018-05-16T00:00:00\", \"2018-05-17T00:00:00\", \"2018-05-18T00:00:00\", \"2018-05-19T00:00:00\", \"2018-05-20T00:00:00\", \"2018-05-21T00:00:00\", \"2018-05-22T00:00:00\", \"2018-05-23T00:00:00\", \"2018-05-24T00:00:00\", \"2018-05-25T00:00:00\", \"2018-05-26T00:00:00\", \"2018-05-27T00:00:00\", \"2018-05-28T00:00:00\", \"2018-05-29T00:00:00\", \"2018-05-30T00:00:00\", \"2018-05-31T00:00:00\", \"2018-06-01T00:00:00\", \"2018-06-02T00:00:00\", \"2018-06-03T00:00:00\", \"2018-06-04T00:00:00\", \"2018-06-05T00:00:00\", \"2018-06-06T00:00:00\", \"2018-06-07T00:00:00\", \"2018-06-08T00:00:00\", \"2018-06-09T00:00:00\", \"2018-06-10T00:00:00\", \"2018-06-11T00:00:00\", \"2018-06-12T00:00:00\", \"2018-06-13T00:00:00\", \"2018-06-14T00:00:00\", \"2018-06-15T00:00:00\", \"2018-06-16T00:00:00\", \"2018-06-17T00:00:00\", \"2018-06-18T00:00:00\", \"2018-06-19T00:00:00\", \"2018-06-20T00:00:00\", \"2018-06-21T00:00:00\", \"2018-06-22T00:00:00\", \"2018-06-23T00:00:00\", \"2018-06-24T00:00:00\", \"2018-06-25T00:00:00\", \"2018-06-26T00:00:00\", \"2018-06-27T00:00:00\", \"2018-06-28T00:00:00\", \"2018-06-29T00:00:00\", \"2018-06-30T00:00:00\", \"2018-07-01T00:00:00\", \"2018-07-02T00:00:00\", \"2018-07-03T00:00:00\", \"2018-07-04T00:00:00\", \"2018-07-05T00:00:00\", \"2018-07-06T00:00:00\", \"2018-07-07T00:00:00\", \"2018-07-08T00:00:00\", \"2018-07-09T00:00:00\", \"2018-07-10T00:00:00\", \"2018-07-11T00:00:00\", \"2018-07-12T00:00:00\", \"2018-07-13T00:00:00\", \"2018-07-14T00:00:00\", \"2018-07-15T00:00:00\", \"2018-07-16T00:00:00\", \"2018-07-17T00:00:00\", \"2018-07-18T00:00:00\", \"2018-07-19T00:00:00\", \"2018-07-20T00:00:00\", \"2018-07-21T00:00:00\", \"2018-07-22T00:00:00\", \"2018-07-23T00:00:00\", \"2018-07-24T00:00:00\", \"2018-07-25T00:00:00\", \"2018-07-26T00:00:00\", \"2018-07-27T00:00:00\", \"2018-07-28T00:00:00\", \"2018-07-29T00:00:00\", \"2018-07-30T00:00:00\", \"2018-07-31T00:00:00\", \"2018-08-01T00:00:00\", \"2018-08-02T00:00:00\", \"2018-08-03T00:00:00\", \"2018-08-04T00:00:00\", \"2018-08-05T00:00:00\", \"2018-08-06T00:00:00\", \"2018-08-07T00:00:00\", \"2018-08-08T00:00:00\", \"2018-08-09T00:00:00\", \"2018-08-10T00:00:00\", \"2018-08-11T00:00:00\", \"2018-08-12T00:00:00\", \"2018-08-13T00:00:00\", \"2018-08-14T00:00:00\", \"2018-08-15T00:00:00\", \"2018-08-16T00:00:00\", \"2018-08-17T00:00:00\", \"2018-08-18T00:00:00\", \"2018-08-19T00:00:00\", \"2018-08-20T00:00:00\", \"2018-08-21T00:00:00\", \"2018-08-22T00:00:00\", \"2018-08-23T00:00:00\", \"2018-08-24T00:00:00\", \"2018-08-25T00:00:00\", \"2018-08-26T00:00:00\", \"2018-08-27T00:00:00\", \"2018-08-28T00:00:00\", \"2018-08-29T00:00:00\", \"2018-08-30T00:00:00\", \"2018-08-31T00:00:00\", \"2018-09-01T00:00:00\", \"2018-09-02T00:00:00\", \"2018-09-03T00:00:00\", \"2018-09-04T00:00:00\", \"2018-09-05T00:00:00\", \"2018-09-06T00:00:00\", \"2018-09-07T00:00:00\", \"2018-09-08T00:00:00\", \"2018-09-09T00:00:00\", \"2018-09-10T00:00:00\", \"2018-09-11T00:00:00\", \"2018-09-12T00:00:00\", \"2018-09-13T00:00:00\", \"2018-09-14T00:00:00\", \"2018-09-15T00:00:00\", \"2018-09-16T00:00:00\", \"2018-09-17T00:00:00\", \"2018-09-18T00:00:00\", \"2018-09-19T00:00:00\", \"2018-09-20T00:00:00\", \"2018-09-21T00:00:00\", \"2018-09-22T00:00:00\", \"2018-09-23T00:00:00\", \"2018-09-24T00:00:00\", \"2018-09-25T00:00:00\", \"2018-09-26T00:00:00\", \"2018-09-27T00:00:00\", \"2018-09-28T00:00:00\", \"2018-09-29T00:00:00\", \"2018-09-30T00:00:00\", \"2018-10-01T00:00:00\", \"2018-10-02T00:00:00\", \"2018-10-03T00:00:00\", \"2018-10-04T00:00:00\", \"2018-10-05T00:00:00\", \"2018-10-06T00:00:00\", \"2018-10-07T00:00:00\", \"2018-10-08T00:00:00\", \"2018-10-09T00:00:00\", \"2018-10-10T00:00:00\", \"2018-10-11T00:00:00\", \"2018-10-12T00:00:00\", \"2018-10-13T00:00:00\", \"2018-10-14T00:00:00\", \"2018-10-15T00:00:00\", \"2018-10-16T00:00:00\", \"2018-10-17T00:00:00\", \"2018-10-18T00:00:00\", \"2018-10-19T00:00:00\", \"2018-10-20T00:00:00\", \"2018-10-21T00:00:00\", \"2018-10-22T00:00:00\", \"2018-10-23T00:00:00\", \"2018-10-24T00:00:00\", \"2018-10-25T00:00:00\", \"2018-10-26T00:00:00\", \"2018-10-27T00:00:00\", \"2018-10-28T00:00:00\", \"2018-10-29T00:00:00\", \"2018-10-30T00:00:00\", \"2018-10-31T00:00:00\", \"2018-11-01T00:00:00\", \"2018-11-02T00:00:00\", \"2018-11-03T00:00:00\", \"2018-11-04T00:00:00\", \"2018-11-05T00:00:00\", \"2018-11-06T00:00:00\", \"2018-11-07T00:00:00\", \"2018-11-08T00:00:00\", \"2018-11-09T00:00:00\", \"2018-11-10T00:00:00\", \"2018-11-11T00:00:00\", \"2018-11-12T00:00:00\", \"2018-11-13T00:00:00\", \"2018-11-14T00:00:00\", \"2018-11-15T00:00:00\", \"2018-11-16T00:00:00\", \"2018-11-17T00:00:00\", \"2018-11-18T00:00:00\", \"2018-11-19T00:00:00\", \"2018-11-20T00:00:00\", \"2018-11-21T00:00:00\", \"2018-11-22T00:00:00\", \"2018-11-23T00:00:00\", \"2018-11-24T00:00:00\", \"2018-11-25T00:00:00\", \"2018-11-26T00:00:00\", \"2018-11-27T00:00:00\", \"2018-11-28T00:00:00\", \"2018-11-29T00:00:00\", \"2018-11-30T00:00:00\", \"2018-12-01T00:00:00\", \"2018-12-02T00:00:00\", \"2018-12-03T00:00:00\", \"2018-12-04T00:00:00\", \"2018-12-05T00:00:00\", \"2018-12-06T00:00:00\", \"2018-12-07T00:00:00\", \"2018-12-08T00:00:00\", \"2018-12-09T00:00:00\", \"2018-12-10T00:00:00\", \"2018-12-11T00:00:00\", \"2018-12-12T00:00:00\", \"2018-12-13T00:00:00\", \"2018-12-14T00:00:00\", \"2018-12-15T00:00:00\", \"2018-12-16T00:00:00\", \"2018-12-17T00:00:00\", \"2018-12-18T00:00:00\", \"2018-12-19T00:00:00\", \"2018-12-20T00:00:00\", \"2018-12-21T00:00:00\", \"2018-12-22T00:00:00\", \"2018-12-23T00:00:00\", \"2018-12-24T00:00:00\", \"2018-12-25T00:00:00\", \"2018-12-26T00:00:00\", \"2018-12-27T00:00:00\", \"2018-12-28T00:00:00\", \"2018-12-29T00:00:00\", \"2018-12-30T00:00:00\", \"2018-12-31T00:00:00\", \"2019-01-01T00:00:00\", \"2019-01-02T00:00:00\", \"2019-01-03T00:00:00\", \"2019-01-04T00:00:00\", \"2019-01-05T00:00:00\", \"2019-01-06T00:00:00\", \"2019-01-07T00:00:00\", \"2019-01-08T00:00:00\", \"2019-01-09T00:00:00\", \"2019-01-10T00:00:00\", \"2019-01-11T00:00:00\", \"2019-01-12T00:00:00\", \"2019-01-13T00:00:00\", \"2019-01-14T00:00:00\", \"2019-01-15T00:00:00\", \"2019-01-16T00:00:00\", \"2019-01-17T00:00:00\", \"2019-01-18T00:00:00\", \"2019-01-19T00:00:00\", \"2019-01-20T00:00:00\", \"2019-01-21T00:00:00\", \"2019-01-22T00:00:00\", \"2019-01-23T00:00:00\", \"2019-01-24T00:00:00\", \"2019-01-25T00:00:00\", \"2019-01-26T00:00:00\", \"2019-01-27T00:00:00\", \"2019-01-28T00:00:00\", \"2019-01-29T00:00:00\", \"2019-01-30T00:00:00\", \"2019-01-31T00:00:00\", \"2019-02-01T00:00:00\", \"2019-02-02T00:00:00\", \"2019-02-03T00:00:00\", \"2019-02-04T00:00:00\", \"2019-02-05T00:00:00\", \"2019-02-06T00:00:00\", \"2019-02-07T00:00:00\", \"2019-02-08T00:00:00\", \"2019-02-09T00:00:00\", \"2019-02-10T00:00:00\", \"2019-02-11T00:00:00\", \"2019-02-12T00:00:00\", \"2019-02-13T00:00:00\", \"2019-02-14T00:00:00\", \"2019-02-15T00:00:00\", \"2019-02-16T00:00:00\", \"2019-02-17T00:00:00\", \"2019-02-18T00:00:00\", \"2019-02-19T00:00:00\", \"2019-02-20T00:00:00\", \"2019-02-21T00:00:00\", \"2019-02-22T00:00:00\", \"2019-02-23T00:00:00\", \"2019-02-24T00:00:00\", \"2019-02-25T00:00:00\", \"2019-02-26T00:00:00\", \"2019-02-27T00:00:00\", \"2019-02-28T00:00:00\", \"2019-03-01T00:00:00\", \"2019-03-02T00:00:00\", \"2019-03-03T00:00:00\", \"2019-03-04T00:00:00\", \"2019-03-05T00:00:00\", \"2019-03-06T00:00:00\", \"2019-03-07T00:00:00\", \"2019-03-08T00:00:00\", \"2019-03-09T00:00:00\", \"2019-03-10T00:00:00\", \"2019-03-11T00:00:00\", \"2019-03-12T00:00:00\", \"2019-03-13T00:00:00\", \"2019-03-14T00:00:00\", \"2019-03-15T00:00:00\", \"2019-03-16T00:00:00\", \"2019-03-17T00:00:00\", \"2019-03-18T00:00:00\", \"2019-03-19T00:00:00\", \"2019-03-20T00:00:00\", \"2019-03-21T00:00:00\", \"2019-03-22T00:00:00\", \"2019-03-23T00:00:00\", \"2019-03-24T00:00:00\", \"2019-03-25T00:00:00\", \"2019-03-26T00:00:00\", \"2019-03-27T00:00:00\", \"2019-03-28T00:00:00\", \"2019-03-29T00:00:00\", \"2019-03-30T00:00:00\", \"2019-03-31T00:00:00\", \"2019-04-01T00:00:00\", \"2019-04-02T00:00:00\", \"2019-04-03T00:00:00\", \"2019-04-04T00:00:00\", \"2019-04-05T00:00:00\", \"2019-04-06T00:00:00\", \"2019-04-07T00:00:00\", \"2019-04-08T00:00:00\", \"2019-04-09T00:00:00\", \"2019-04-10T00:00:00\", \"2019-04-11T00:00:00\", \"2019-04-12T00:00:00\", \"2019-04-13T00:00:00\", \"2019-04-14T00:00:00\", \"2019-04-15T00:00:00\", \"2019-04-16T00:00:00\", \"2019-04-17T00:00:00\", \"2019-04-18T00:00:00\", \"2019-04-19T00:00:00\", \"2019-04-20T00:00:00\", \"2019-04-21T00:00:00\", \"2019-04-22T00:00:00\", \"2019-04-23T00:00:00\", \"2019-04-24T00:00:00\", \"2019-04-25T00:00:00\", \"2019-04-26T00:00:00\", \"2019-04-27T00:00:00\", \"2019-04-28T00:00:00\", \"2019-04-29T00:00:00\", \"2019-04-30T00:00:00\", \"2019-05-01T00:00:00\", \"2019-05-02T00:00:00\", \"2019-05-03T00:00:00\", \"2019-05-04T00:00:00\", \"2019-05-05T00:00:00\", \"2019-05-06T00:00:00\", \"2019-05-07T00:00:00\", \"2019-05-08T00:00:00\", \"2019-05-09T00:00:00\", \"2019-05-10T00:00:00\", \"2019-05-11T00:00:00\", \"2019-05-12T00:00:00\", \"2019-05-13T00:00:00\", \"2019-05-14T00:00:00\", \"2019-05-15T00:00:00\", \"2019-05-16T00:00:00\", \"2019-05-17T00:00:00\", \"2019-05-18T00:00:00\", \"2019-05-19T00:00:00\", \"2019-05-20T00:00:00\", \"2019-05-21T00:00:00\", \"2019-05-22T00:00:00\", \"2019-05-23T00:00:00\", \"2019-05-24T00:00:00\", \"2019-05-25T00:00:00\", \"2019-05-26T00:00:00\", \"2019-05-27T00:00:00\", \"2019-05-28T00:00:00\", \"2019-05-29T00:00:00\", \"2019-05-30T00:00:00\", \"2019-05-31T00:00:00\", \"2019-06-01T00:00:00\", \"2019-06-02T00:00:00\", \"2019-06-03T00:00:00\", \"2019-06-04T00:00:00\", \"2019-06-05T00:00:00\", \"2019-06-06T00:00:00\", \"2019-06-07T00:00:00\", \"2019-06-08T00:00:00\", \"2019-06-09T00:00:00\", \"2019-06-10T00:00:00\", \"2019-06-11T00:00:00\", \"2019-06-12T00:00:00\", \"2019-06-13T00:00:00\", \"2019-06-14T00:00:00\", \"2019-06-15T00:00:00\", \"2019-06-16T00:00:00\", \"2019-06-17T00:00:00\", \"2019-06-18T00:00:00\", \"2019-06-19T00:00:00\", \"2019-06-20T00:00:00\", \"2019-06-21T00:00:00\", \"2019-06-22T00:00:00\", \"2019-06-23T00:00:00\", \"2019-06-24T00:00:00\", \"2019-06-25T00:00:00\", \"2019-06-26T00:00:00\", \"2019-06-27T00:00:00\", \"2019-06-28T00:00:00\", \"2019-06-29T00:00:00\", \"2019-06-30T00:00:00\", \"2019-07-01T00:00:00\", \"2019-07-02T00:00:00\", \"2019-07-03T00:00:00\", \"2019-07-04T00:00:00\", \"2019-07-05T00:00:00\", \"2019-07-06T00:00:00\", \"2019-07-07T00:00:00\", \"2019-07-08T00:00:00\", \"2019-07-09T00:00:00\", \"2019-07-10T00:00:00\", \"2019-07-11T00:00:00\", \"2019-07-12T00:00:00\", \"2019-07-13T00:00:00\", \"2019-07-14T00:00:00\", \"2019-07-15T00:00:00\", \"2019-07-16T00:00:00\", \"2019-07-17T00:00:00\", \"2019-07-18T00:00:00\", \"2019-07-19T00:00:00\", \"2019-07-20T00:00:00\", \"2019-07-21T00:00:00\", \"2019-07-22T00:00:00\", \"2019-07-23T00:00:00\", \"2019-07-24T00:00:00\", \"2019-07-25T00:00:00\", \"2019-07-26T00:00:00\", \"2019-07-27T00:00:00\", \"2019-07-28T00:00:00\", \"2019-07-29T00:00:00\", \"2019-07-30T00:00:00\", \"2019-07-31T00:00:00\", \"2019-08-01T00:00:00\", \"2019-08-02T00:00:00\", \"2019-08-03T00:00:00\", \"2019-08-04T00:00:00\", \"2019-08-05T00:00:00\", \"2019-08-06T00:00:00\", \"2019-08-07T00:00:00\", \"2019-08-08T00:00:00\", \"2019-08-09T00:00:00\", \"2019-08-10T00:00:00\", \"2019-08-11T00:00:00\", \"2019-08-12T00:00:00\", \"2019-08-13T00:00:00\", \"2019-08-14T00:00:00\", \"2019-08-15T00:00:00\", \"2019-08-16T00:00:00\", \"2019-08-17T00:00:00\", \"2019-08-18T00:00:00\", \"2019-08-19T00:00:00\", \"2019-08-20T00:00:00\", \"2019-08-21T00:00:00\", \"2019-08-22T00:00:00\", \"2019-08-23T00:00:00\", \"2019-08-24T00:00:00\", \"2019-08-25T00:00:00\", \"2019-08-26T00:00:00\", \"2019-08-27T00:00:00\", \"2019-08-28T00:00:00\", \"2019-08-29T00:00:00\", \"2019-08-30T00:00:00\", \"2019-08-31T00:00:00\", \"2019-09-01T00:00:00\", \"2019-09-02T00:00:00\", \"2019-09-03T00:00:00\", \"2019-09-04T00:00:00\", \"2019-09-05T00:00:00\", \"2019-09-06T00:00:00\", \"2019-09-07T00:00:00\", \"2019-09-08T00:00:00\", \"2019-09-09T00:00:00\", \"2019-09-10T00:00:00\", \"2019-09-11T00:00:00\", \"2019-09-12T00:00:00\", \"2019-09-13T00:00:00\", \"2019-09-14T00:00:00\", \"2019-09-15T00:00:00\", \"2019-09-16T00:00:00\", \"2019-09-17T00:00:00\", \"2019-09-18T00:00:00\", \"2019-09-19T00:00:00\", \"2019-09-20T00:00:00\", \"2019-09-21T00:00:00\", \"2019-09-22T00:00:00\", \"2019-09-23T00:00:00\", \"2019-09-24T00:00:00\", \"2019-09-25T00:00:00\", \"2019-09-26T00:00:00\", \"2019-09-27T00:00:00\", \"2019-09-28T00:00:00\", \"2019-09-29T00:00:00\", \"2019-09-30T00:00:00\", \"2019-10-01T00:00:00\", \"2019-10-02T00:00:00\", \"2019-10-03T00:00:00\", \"2019-10-04T00:00:00\", \"2019-10-05T00:00:00\", \"2019-10-06T00:00:00\", \"2019-10-07T00:00:00\", \"2019-10-08T00:00:00\", \"2019-10-09T00:00:00\", \"2019-10-10T00:00:00\", \"2019-10-11T00:00:00\", \"2019-10-12T00:00:00\", \"2019-10-13T00:00:00\", \"2019-10-14T00:00:00\", \"2019-10-15T00:00:00\", \"2019-10-16T00:00:00\", \"2019-10-17T00:00:00\", \"2019-10-18T00:00:00\", \"2019-10-19T00:00:00\", \"2019-10-20T00:00:00\", \"2019-10-21T00:00:00\", \"2019-10-22T00:00:00\", \"2019-10-23T00:00:00\", \"2019-10-24T00:00:00\", \"2019-10-25T00:00:00\", \"2019-10-26T00:00:00\", \"2019-10-27T00:00:00\", \"2019-10-28T00:00:00\", \"2019-10-29T00:00:00\", \"2019-10-30T00:00:00\", \"2019-10-31T00:00:00\", \"2019-11-01T00:00:00\", \"2019-11-02T00:00:00\", \"2019-11-03T00:00:00\", \"2019-11-04T00:00:00\", \"2019-11-05T00:00:00\", \"2019-11-06T00:00:00\", \"2019-11-07T00:00:00\", \"2019-11-08T00:00:00\", \"2019-11-09T00:00:00\", \"2019-11-10T00:00:00\", \"2019-11-11T00:00:00\", \"2019-11-12T00:00:00\", \"2019-11-13T00:00:00\", \"2019-11-14T00:00:00\", \"2019-11-15T00:00:00\", \"2019-11-16T00:00:00\", \"2019-11-17T00:00:00\", \"2019-11-18T00:00:00\", \"2019-11-19T00:00:00\", \"2019-11-20T00:00:00\", \"2019-11-21T00:00:00\", \"2019-11-22T00:00:00\", \"2019-11-23T00:00:00\", \"2019-11-24T00:00:00\", \"2019-11-25T00:00:00\", \"2019-11-26T00:00:00\", \"2019-11-27T00:00:00\", \"2019-11-28T00:00:00\", \"2019-11-29T00:00:00\", \"2019-11-30T00:00:00\", \"2019-12-01T00:00:00\", \"2019-12-02T00:00:00\", \"2019-12-03T00:00:00\", \"2019-12-04T00:00:00\", \"2019-12-05T00:00:00\", \"2019-12-06T00:00:00\", \"2019-12-07T00:00:00\", \"2019-12-08T00:00:00\", \"2019-12-09T00:00:00\", \"2019-12-10T00:00:00\", \"2019-12-11T00:00:00\", \"2019-12-12T00:00:00\", \"2019-12-13T00:00:00\", \"2019-12-14T00:00:00\", \"2019-12-15T00:00:00\", \"2019-12-16T00:00:00\", \"2019-12-17T00:00:00\", \"2019-12-18T00:00:00\", \"2019-12-19T00:00:00\", \"2019-12-20T00:00:00\", \"2019-12-21T00:00:00\", \"2019-12-22T00:00:00\", \"2019-12-23T00:00:00\", \"2019-12-24T00:00:00\", \"2019-12-25T00:00:00\", \"2019-12-26T00:00:00\", \"2019-12-27T00:00:00\", \"2019-12-28T00:00:00\", \"2019-12-29T00:00:00\", \"2019-12-30T00:00:00\", \"2019-12-31T00:00:00\", \"2020-01-01T00:00:00\", \"2020-01-02T00:00:00\", \"2020-01-03T00:00:00\", \"2020-01-04T00:00:00\", \"2020-01-05T00:00:00\", \"2020-01-06T00:00:00\", \"2020-01-07T00:00:00\", \"2020-01-08T00:00:00\", \"2020-01-09T00:00:00\", \"2020-01-10T00:00:00\", \"2020-01-11T00:00:00\", \"2020-01-12T00:00:00\", \"2020-01-13T00:00:00\", \"2020-01-14T00:00:00\", \"2020-01-15T00:00:00\", \"2020-01-16T00:00:00\", \"2020-01-17T00:00:00\", \"2020-01-18T00:00:00\", \"2020-01-19T00:00:00\", \"2020-01-20T00:00:00\", \"2020-01-21T00:00:00\", \"2020-01-22T00:00:00\", \"2020-01-23T00:00:00\", \"2020-01-24T00:00:00\", \"2020-01-25T00:00:00\", \"2020-01-26T00:00:00\", \"2020-01-27T00:00:00\", \"2020-01-28T00:00:00\", \"2020-01-29T00:00:00\", \"2020-01-30T00:00:00\", \"2020-01-31T00:00:00\", \"2020-02-01T00:00:00\", \"2020-02-02T00:00:00\", \"2020-02-03T00:00:00\", \"2020-02-04T00:00:00\", \"2020-02-05T00:00:00\", \"2020-02-06T00:00:00\", \"2020-02-07T00:00:00\", \"2020-02-08T00:00:00\", \"2020-02-09T00:00:00\", \"2020-02-10T00:00:00\", \"2020-02-11T00:00:00\", \"2020-02-12T00:00:00\", \"2020-02-13T00:00:00\", \"2020-02-14T00:00:00\", \"2020-02-15T00:00:00\", \"2020-02-16T00:00:00\", \"2020-02-17T00:00:00\", \"2020-02-18T00:00:00\", \"2020-02-19T00:00:00\", \"2020-02-20T00:00:00\", \"2020-02-21T00:00:00\", \"2020-02-22T00:00:00\", \"2020-02-23T00:00:00\", \"2020-02-24T00:00:00\", \"2020-02-25T00:00:00\", \"2020-02-26T00:00:00\", \"2020-02-27T00:00:00\", \"2020-02-28T00:00:00\", \"2020-02-29T00:00:00\", \"2020-03-01T00:00:00\", \"2020-03-02T00:00:00\", \"2020-03-03T00:00:00\", \"2020-03-04T00:00:00\", \"2020-03-05T00:00:00\", \"2020-03-06T00:00:00\", \"2020-03-07T00:00:00\", \"2020-03-08T00:00:00\", \"2020-03-09T00:00:00\", \"2020-03-10T00:00:00\", \"2020-03-11T00:00:00\", \"2020-03-12T00:00:00\", \"2020-03-13T00:00:00\", \"2020-03-14T00:00:00\", \"2020-03-15T00:00:00\", \"2020-03-16T00:00:00\", \"2020-03-17T00:00:00\", \"2020-03-18T00:00:00\", \"2020-03-19T00:00:00\", \"2020-03-20T00:00:00\", \"2020-03-21T00:00:00\", \"2020-03-22T00:00:00\", \"2020-03-23T00:00:00\", \"2020-03-24T00:00:00\", \"2020-03-25T00:00:00\", \"2020-03-26T00:00:00\", \"2020-03-27T00:00:00\", \"2020-03-28T00:00:00\", \"2020-03-29T00:00:00\", \"2020-03-30T00:00:00\", \"2020-03-31T00:00:00\", \"2020-04-01T00:00:00\", \"2020-04-02T00:00:00\", \"2020-04-03T00:00:00\", \"2020-04-04T00:00:00\", \"2020-04-05T00:00:00\", \"2020-04-06T00:00:00\", \"2020-04-07T00:00:00\", \"2020-04-08T00:00:00\", \"2020-04-09T00:00:00\", \"2020-04-10T00:00:00\", \"2020-04-11T00:00:00\", \"2020-04-12T00:00:00\", \"2020-04-13T00:00:00\", \"2020-04-14T00:00:00\", \"2020-04-15T00:00:00\", \"2020-04-16T00:00:00\", \"2020-04-17T00:00:00\", \"2020-04-18T00:00:00\", \"2020-04-19T00:00:00\", \"2020-04-20T00:00:00\", \"2020-04-21T00:00:00\", \"2020-04-22T00:00:00\", \"2020-04-23T00:00:00\", \"2020-04-24T00:00:00\", \"2020-04-25T00:00:00\", \"2020-04-26T00:00:00\", \"2020-04-27T00:00:00\", \"2020-04-28T00:00:00\", \"2020-04-29T00:00:00\", \"2020-04-30T00:00:00\", \"2020-05-01T00:00:00\", \"2020-05-02T00:00:00\", \"2020-05-03T00:00:00\", \"2020-05-04T00:00:00\", \"2020-05-05T00:00:00\", \"2020-05-06T00:00:00\", \"2020-05-07T00:00:00\", \"2020-05-08T00:00:00\", \"2020-05-09T00:00:00\", \"2020-05-10T00:00:00\", \"2020-05-11T00:00:00\", \"2020-05-12T00:00:00\", \"2020-05-13T00:00:00\", \"2020-05-14T00:00:00\", \"2020-05-15T00:00:00\", \"2020-05-16T00:00:00\", \"2020-05-17T00:00:00\", \"2020-05-18T00:00:00\", \"2020-05-19T00:00:00\", \"2020-05-20T00:00:00\", \"2020-05-21T00:00:00\", \"2020-05-22T00:00:00\", \"2020-05-23T00:00:00\", \"2020-05-24T00:00:00\", \"2020-05-25T00:00:00\", \"2020-05-26T00:00:00\", \"2020-05-27T00:00:00\", \"2020-05-28T00:00:00\", \"2020-05-29T00:00:00\", \"2020-05-30T00:00:00\", \"2020-05-31T00:00:00\", \"2020-06-01T00:00:00\", \"2020-06-02T00:00:00\", \"2020-06-03T00:00:00\", \"2020-06-04T00:00:00\", \"2020-06-05T00:00:00\", \"2020-06-06T00:00:00\", \"2020-06-07T00:00:00\", \"2020-06-08T00:00:00\", \"2020-06-09T00:00:00\", \"2020-06-10T00:00:00\", \"2020-06-11T00:00:00\"], \"y\": [-0.08615933541997478, 0.07656267613643486, 0.0012265605226833287, 0.020568136999280284, -0.010536886068299722, 0.042113440689988124, -0.06526333919962113, 0.0618643732864399, -0.0717270174639495, 0.04474566756946352, 0.0005501764270672282, -0.0638080848197351, -0.041443386957745076, 0.08077547682280795, -0.02921771153604169, -0.02465833946259366, -0.08982648084756129, -0.06398146548087347, 0.008826585545968157, -0.043887114245247716, -0.0621644928388978, 0.05145110022679944, 0.010379705932187733, 0.027313004764307536, 0.06463788546999538, -0.04165047980517045, 0.02200773738555384, -0.014344748918224681, -0.05778522229222993, 0.04598510887643137, 0.034085526049402404, -0.05440523018894261, 0.017725270988936614, -0.002112457942143209, -0.0428986391142967, -0.0159320285618314, -0.015511261384826724, -0.07304485548178796, 0.00702292690728612, -0.01067529844301518, 0.04491485845384524, 0.04249253142896592, 0.03689782333610303, -0.06315003984871836, -0.012746215020563056, 0.05505387001873707, 0.009287727629883946, -0.11356125413670526, 0.05132019773480323, -0.02488504750187559, 0.020921532618418226, 0.028611867705063077, -0.01753429646040594, 0.010741500335237575, 0.049758012779498983, -0.008030951818195575, 0.004847032839599308, -0.01343448563526728, 0.04600199498636037, 0.0041163990814414575, 0.01679218498754942, -0.019599195522726376, 0.019532000750848155, 0.005095376540854346, 0.034206514824793643, -0.01801994582092803, -0.07402729071140612, -0.028151823906544138, 0.03430021179004683, -0.03903965367732454, -0.014028329982863852, -0.027604985025206474, 0.0005528839643975658, 0.00014025171182829865, 0.026697696220544742, -0.0018166312079319624, -0.05540617778358481, 0.040002107636311734, 0.05735490666128307, -0.08906598260384335, -0.026935611224054412, -0.05951354440233736, -0.030259180439450972, 0.044802129867482776, -0.05490009014704711, -0.05612602969079106, 0.07752188248842273, 0.06652388640394413, -0.032508485703431234, -0.005892748965564465, -0.01461590302909066, 0.013324225496045727, 0.013340092356754596, -0.07171146562074782, -0.09905955033657499, 0.029746269194307118, 0.04155850146094764, -0.0475562307652293, -0.039554632743925566, -0.0052823570956288535, 0.03322658989545779, 0.08705241875528813, 0.018344751683784466, -0.022431682134559594, -0.006816204323550679, -0.028095886870492137, -0.04137981238081245, -0.04260743150582691, -0.05822195543470521, -0.013956396707264673, -0.0561463834321998, -0.024547684343714238, 0.04719216816675953, -0.024252462220140103, -0.00171062181125059, -0.05998299649680128, -0.024301696144501506, 0.0003064257449452157, 0.011399330467108726, -0.05269418852896379, 0.011860867483356685, 0.002031039370562482, 0.09857219910875514, -0.0015190930629263022, -0.021047764072424258, 0.03848415160633323, -0.011952349932903061, -0.018641555614747674, -0.04124330971123946, -0.08571743131713738, 0.006346839283025929, 0.019566380946356432, -0.04649697348992454, -0.004326920414575497, -0.008095854397724978, 0.03674333130175356, 0.00924991257559249, -0.009198699551697942, -0.08810512901959733, -0.03533735954261097, 0.024172023500854678, 0.06939138396635158, 0.00274088797348071, -0.0827934858824122, -0.016028703077981987, 0.07220106047281938, -0.02671327196697959, 0.0035415368012987614, -0.009739469133950962, -0.05493158700186562, 0.02967642250485092, -0.03372473588962421, -0.05364901726949789, -0.0007016736579696925, -0.07410462879730773, -0.07062124835368522, 0.026910769578089244, -0.014057091870123273, -0.027652679343297848, -0.011410026661600625, -0.012152104287604715, 0.04668934812278991, -0.07727248250153806, 0.011536773761266161, -0.05055399138806749, -0.010731449450290143, -0.0319036314894543, 0.018255253826035656, -0.05312689703141338, 0.03499447405518907, -0.08843351569792013, 0.06198815131664759, -0.0004331654357905279, 0.05868625720104781, 0.007030543128184519, -0.05735839487909189, -0.0034858917249209753, -0.007798051119531024, -0.017249392842861866, -0.02584507046169371, -0.06387479831884768, -0.05358105706796579, -0.002576696208198115, -0.06201387724324192, 0.01142630127087152, -0.020850117545176516, -0.006688398628281078, 0.021133245893150132, 0.02003982117995129, 0.013015168097323837, -0.01976104149908231, -0.04968291154700388, -0.022091962178814484, -0.028420659082252442, -0.018456344686077486, -0.0533091364810776, -0.013108838021103963, 0.010028890799546275, -0.012002214482819795, 0.010693841522524394, -0.008160540742277789, -0.011279167430162218, 0.017729026189936548, 0.050985936967563816, 0.07828754524877546, 0.11199861826653112, 0.11901247011380711, 0.09287977692724425, 0.03469756765126242, 0.005383948203515843, -0.030983375662531287, -0.027001067721444727, -0.006507894275030068, -0.08494142708902075, -0.11802435177925119, -0.017843918765487743, -0.05407933195168191, -0.03825893612110853, -0.01574484531620257, -0.07171397380608724, -0.1014862195685371, -0.0031833248989272533, -0.03255134046559505, 0.00947542114611899, -0.014519554625191944, -0.012077501738016139, -0.03310655175834931, 0.07225988459315502, 0.03821095965715138, -0.027341228616526436, 0.008231984631864364, 0.012343391721234553, -0.05304845645056666, -0.022723665731799514, -0.0019553204423825576, 0.0030294275427174, 0.014180278257445167, 0.0010609059807205057, -0.03937224306691256, 0.06716544332025798, 0.08101456887536962, -0.058933951968182186, -0.03131971844466008, 0.02941061404575329, -0.009656644583115437, 0.010765576099947438, -0.06471957640391324, -0.042354934853799264, -0.03613989533825901, -0.01449143686813592, -0.043767552047096814, -0.010434221074678618, 0.021905538529031432, 0.011854022338054548, 0.062401723661379194, 0.0035246292536434964, -0.009444828439248099, -0.027468215174023314, 0.05360945391634253, -0.022423254695850048, 0.014590930634502897, -0.09668074963711071, -0.008457650440130138, 0.06902181713773459, -0.016934805641245276, -0.06480539477019853, 0.004432188110996549, 0.03659996595774295, 0.029279721211967313, -0.033751934105492154, -0.1007234511521169, 0.02400941076917995, -0.05164407590494058, -0.040094180927185974, -0.08828160437036736, -0.04563834763679786, 0.03601196813852958, 0.036711150397673364, 0.004701158066479749, 0.05945802914070342, -0.008868836739504005, 0.07204154570756138, 0.03865014857803395, -0.024155605634669897, 0.004409485790461076, 0.03668977922609962, -0.03413470065873625, 0.06121489079397868, -0.0354032785779097, -0.06695728264121747, 0.022396070948557778, -0.043706237071065246, -0.015961868222063913, 0.01240178195024555, 0.006772692390395463, -0.04208412004198436, 0.1173522985128077, 0.012723346115354417, 0.02016336249623052, -0.050447992351219995, 0.009186987191597495, -0.06490274990935063, 0.09818216341171393, -0.046050711485154494, -0.033536640181603516, 0.05496462840778804, 0.016763286776818376, 0.06857742246152654, 0.05600460097677917, -0.08384885994404456, -0.01156746981754253, 0.001571856003785399, -0.05175333491150447, -0.0009610711139789174, -0.09664643128653871, -0.055977201012719746, 0.12182485464116155, 0.00026159386618829217, 0.06791111419641105, 0.02713426049129275, 0.05040917297762526, 0.03472535090561912, 0.08598501649830936, -0.007806738787420997, 0.08872018483218902, -0.01238932744533372, -0.06268273361726528, 0.050544276126688104, 0.04194813198036407, -0.13577713901982236, -0.05034290064800473, -0.06091301907840574, -0.02700285975087624, 0.09951164673525703, -0.09477565346850803, -0.02685990241532643, 0.07635334271455108, 0.10729401319976795, 0.07150197632894972, -0.0013042190640177864, -0.03699747814211385, 0.03463451721397348, 0.04003493444481521, 0.050415562698111316, -0.11675949726660484, -0.014684032275603442, 0.03769092476528435, -0.002848831000259011, -0.015869601277943346, 0.0065442077899557916, -0.019897922820614866, 0.08694742467901406, -0.014771553954261663, -0.0741263857898442, 0.06728147746412105, 0.01786361256972313, -0.10325872211329923, -0.02813138351207023, 0.034466015665651994, -0.006574635822024888, 0.02219241070316258, -0.06990295311642747, -0.07994447691356932, 0.020235743945544726, 0.0008475666534000226, -0.06473940759760133, 0.005007510190564446, -0.04587509752548158, 0.012957734230752749, 0.0944401203249754, -0.0033018168578653473, -0.0063801992356857795, 0.03155276504230109, -0.021684296725066332, 0.04224570820552209, -0.035434160765824174, -0.008716293581720436, 0.05647676552919201, 0.008105736654192341, -0.034602742968948164, -0.0068286685686143045, -0.0030302183622445966, -0.035073482110846044, -0.020067188088559007, 0.052304513305228895, 0.02219953441746192, 2.2121453486789733e-05, 0.02128821023793037, -0.06327851516411442, 0.01890351075660135, -0.011590678883431238, -0.09786599425780551, -0.008063127406387594, 0.02885809780777393, -0.06663709824888642, 0.031135221227192034, 0.041967778300749714, -0.05771972384088997, -0.036545110562332894, -0.028097209530224987, -0.057221292024264514, 0.02638096033658499, -0.05323305364696829, 2.4094571434929435e-05, 0.008234560414560832, 0.0027333256687764873, -0.015325420866352246, 0.02152413772306616, 0.011452564737954418, -0.02340913687596924, -0.02262167843677254, -0.00639463048505462, 0.012552042006422681, -0.001009518974759871, -0.007569462073872657, -0.0185047958821567, -0.008866442904627903, -0.03014391536879124, 0.028708868148674682, -0.05435465640045756, -0.026115610681449297, 0.15174070992530098, -0.022947706029640358, 0.03549425254412952, 0.05372092331992029, -0.0003567251830158824, 0.009991342469469089, -0.01967614347926272, -0.12115769102209129, 0.044974571738798375, -0.018891548423448867, -0.07151771650080363, 0.022015656623919355, 0.02856346715907776, 0.0844963233198559, -0.020098016474570102, -0.07633712617416322, 0.015343280800383496, 0.02009479963005134, -0.019833949899435765, 0.009722659449163729, 0.012658136902551576, -0.03326053298789766, 0.02887822384080785, -0.05788398889482593, -0.024036026229460106, -0.034050533916559544, 0.018926100554736536, 0.01786180325009923, 0.04763290589862201, -0.023046151082100508, 0.09914612287786184, -0.04431151163792002, -0.0021010379077051056, -0.012303875823288735, -0.05976348730183645, -0.03722265162792837, 0.029555371780112694, -0.08781511004080933, 0.030863841395987635, -0.005546687844882214, -0.04139631350446038, 0.03721269680322159, -0.04302440072895308, 0.02941578238021414, 0.010711585891503006, -0.028242512923988272, -0.008472987999930126, 0.03676316974744687, -0.0765378058857813, 0.030904897564196787, -0.030798472079887063, -0.02413708768476397, 0.06490351369698466, -0.0012396148501725435, -0.08789567042357227, 0.10658952125974253, -0.11142724445586794, -0.005746468829107343, 0.043119275087001085, -0.03308300461637437, -0.017947133129590398, 0.03430838127411029, -0.10053397870965775, 0.13770893329824752, -0.043719205162618735, -0.031405987274354175, -0.005018514408980934, -0.057973747735127645, -0.020567520727855282, -0.0502262192092644, -0.0422455486330815, 0.040018914782903536, -0.024013782477732448, 0.0016363702296793292, 0.026924323370987935, -0.00956266845123288, 0.035762955000148366, -0.0077730226523691215, -0.08027432826190939, -0.028755676611345038, -0.05362363119300895, -0.017970449479213002, 0.026879623149810072, -0.01865059170976835, -0.007600229716945961, 0.049493707029617084, 0.04353335876143127, 0.014783471567854534, 0.0026503581699746093, -0.05312624719890735, 0.007717380441935262, -0.036076387553944045, -0.051713112107977466, -0.0721134506956993, -0.059026962804869854, -0.02247396191699913, -0.023340151741495063, -0.04802831893811721, 0.02242682643780114, -0.04148508775227455, -0.0006794488652808184, 0.02227777123935759, -0.00037089354761299376, 0.019563276033879973, -0.01937294921963506, -0.03762877142810872, 0.04501090857075418, 0.00913282002453819, 0.0014873459888189444, -0.015233173410313938, -0.048683170276591525, -0.028643440933208808, 0.025985976957979773, -0.00488969053029642, -0.03557716945761413, -0.07126413613774574, -0.055357937660513556, -0.013964715456193488, -0.017863897260552264, -0.05898730776932659, -0.03835802329120419, -0.01989516262030122, -0.010654542343280227, 0.06360947113003057, 0.02966692307075114, 0.0418503458716728, -0.0367854732961721, 0.041254317510237115, -0.0022996260272627467, -0.005633712860259266, -0.06918805724608745, -0.0014224533020001928, 0.013097180805189623, 0.05941903684021632, -0.058269718016525474, -0.04566226375926341, 0.0006278213909940433, 0.03135035133106534, -0.02989622186478691, -0.09452938667973676, -0.05298346706080892, -0.020703213859636804, 0.032519612245874185, 0.03793875097220578, -0.019876348005642086, 0.008303728479267747, 0.0690644359284569, 0.04597009594760948, -0.005791212315246597, 0.11466257194286555, 0.013758677351699333, 0.06085187343388121, 0.015485099686355142, -0.014349481562666355, -0.007450755241872997, 0.028471749791542322, -0.000856111172069518, -0.013343119593164587, -0.10091616350404742, -0.08612311200559297, -0.05355626373159872, -0.05850087240425772, -0.02281995279668969, -0.10681965626394252, -0.013193785375429812, -0.004439303399502492, -0.01597114234476571, 0.011016663100386737, 0.05997788337830734, 0.04094630512163455, -0.06554839072035001, -0.020502866713574264, 0.012946622570931154, 0.05358471363010864, -0.05048067723373606, -0.07180030811296767, -0.0664643205508959, 0.01683310727862697, -0.03146118300712253, -0.016459885005961183, -0.06053940879482589, 0.059257316242080194, 0.05319539502027304, 0.05829420996327883, -0.025793169706329167, -0.04814582243872145, -0.005491013553710289, 0.00647425732679352, -0.037641870161357005, -0.03557625735037284, -0.055799745823792435, 0.02063886407903226, 0.010770853951006742, 0.0223570200544696, 0.0486888161013983, 0.01705840256223823, 0.038284867985053594, -0.01926662491674591, -0.012635695557879245, 0.06411582941228744, -0.019577925783824668, -0.00399834540279187, 0.006486309826490455, -0.016681242401160645, 0.07729281727316817, -0.009571062786305262, -0.013443658240678502, 0.014356931125721673, -0.00802064012528625, 0.0016327982609780634, 0.012691246392234845, -0.02546419387971177, 0.025580828085185914, 0.0020651930303436927, 0.021135617827527042, -0.043586627619077944, -0.025714820283729622, 0.04893830733585247, -0.026565702485994436, 0.01751333065889682, -0.01741845492351146, -0.04412218904179177, 0.06422475233130243, -0.010969459191528586, -0.011995051072153373, 0.01709936780487986, -0.00853244845137624, -0.04989411046293846, 0.051305166902862354, -0.01788871934918923, 0.026842149183291752, -0.05731145362987178, 0.044510951543781374, -0.08678399931198832, 0.019210968548350138, -0.037202014035944586, -0.024229051193771056, -0.004366189092554151, 0.023492741343801526, 0.045510743182493485, 0.056902175109220465, 0.006081043845655998, -0.028426078429774293, 0.06149214282504367, 0.033869649075978, 0.0018122083391158839, -0.05608874889252924, -0.00010794039600270366, -0.037064004492171065, 0.021640958272289623, -0.06951546053747215, -0.01908475943117871, -0.01410171578499586, -0.047649440861446735, 0.005235982014905716, 0.046898047745569826, 0.053505125788845476, 0.019093126272533567, -0.03430412145736028, 0.050239099077774796, 0.018504468957724285, 0.028646096002065136, -0.0510799663712973, 0.0014019510038743022, 0.05207232250126381, 0.04757231326726874, 0.04161058415109409, 0.10919978432362676, -0.018677693637345172, 0.05153390966983373, -0.061073113818107316, -0.020905590348050396, 0.009009804275532218, -0.033778163926065474, -0.13680521200669737, -0.03991230511513422, 0.02487188793267414, -0.008710521295393292, -0.017143441002410498, -0.06257482903581568, 0.07745029974794448, 0.00872219877072844, -0.0070241528229644246, -0.015704296949158092, -0.005286299691173113, -0.0361128614415307, 0.02066182317857823, -0.08047932076595288, 0.08906495430785277, 0.09978893284344537, -0.0032094538987035293, 0.0369255539696951, 0.05928115225958308, -0.054878476916988106, -0.03386061996928191, -0.034698473550482944, -0.07314932518426076, 0.04524959179568633, -0.0028160996625761214, -0.011642000544183517, 0.07637332508330097, 0.04930466303668801, 0.03297737963322689, 0.04688079965416847, -0.05931400028235423, -0.028534317370180418, 0.02794655118913525, -0.008885656972399403, -0.02182721218441941, -0.023701558029305403, -0.0200960870282767, -0.05546062559119136, 0.048001926508764114, -0.010685775437003997, -0.04698740525529388, 0.05123392901112567, -0.01666535667855662, -0.09973624054794428, 0.07152458619878921, -0.09799933462135435, -0.06544114631128117, 0.04082968578237711, -0.03634001279054644, 0.025362728346378205, 0.0367955411815899, -0.06498456041510714, 0.03669201208677286, 0.11999310291938592, -0.020872481448712676, 0.025118675946451674, -0.0795170204951301, -0.059723272282969475, 0.009838498702553267, 0.04584130956734178, -0.041692082453270274, 0.02516432314931727, -0.09064107553060019, 0.11002088489580863, 0.06467918000582706, 0.0191642009415407, -0.027104177232876836, -0.04541569975265958, -0.037886757649600256, 0.02945702871634026, -0.049132238798527794, -0.02893430531911534, -0.0452509161106569, -0.0183554852822283, -0.042915301373289694, 0.03619433845453912, -0.0072005553631253605, -0.014743099966057827, -0.0023254532681615814, 0.03537144456649699, -0.014519158832055012, 0.02055179244374372, -0.05386784646131915, 0.08106183108471221, 0.002281657588635966, -0.02947808635464355, -0.054107971738282856, -0.033452504758720636, -0.07563185656767324, -0.0034861289304721765, -0.04763116229267794, 0.005022502576917276, 0.046995817279860574, 0.05599156334912969, 0.060562247257644586, 0.042122733880143315, 0.02508399607902767, -0.03975009092171078, -0.012829382100509434, -0.016376483812059917, 0.02259706864465727, 0.0016502071227115778, -0.010902556005728314, 0.0064130371470394465, 0.09794575909035075, -0.006490596461601328, -0.030423930172283065, -0.009840282689649982, -0.0862939965377425, 0.0909726649766025, -0.03842383110379011, 0.006431701651466781, 0.03127712043878361, 0.005799369580536506, -0.02436022473975541, 0.061390322799120156, -0.07066828571490902, 5.499092756977575e-05, -0.065714677116123, -0.06132603221075428, -0.024215721131330525, -0.061817002827208256, -0.029881299227769276, 0.06197556869546972, 0.038033748231189435, 0.0018128770735703625, 0.06486473935622428, -0.011558959675038949, 0.030836085873213293, 0.06647713148928425, -0.05897934506136515, -0.046362892980273074, -0.030073270340716718, -0.028046497545480165, -0.07679782893103138, 0.025483577528229162, -0.06338720530426123, -0.03587877454793009, 0.039950591584537065, 0.037031259737110744, -0.07335787334027621, 0.014650868814737095, 0.040808645437550695, -0.01761414450913712, 0.0007091409352053546, -0.00416975854998114, -0.017953486475244418, -0.05834790348766994, 0.0667670734791379, -0.1091802225043157, -0.030882504215128392, 0.0437349220612564, -0.027130334769168485, -0.016631897282840313, 0.040840383238942124, -0.06533646848242647, 0.029846944482951443, 0.04837859582760906, -0.11641717202948598, -0.030445481477993752, -0.06708543304540271, 0.04588263661497294, -0.02175193700902156, 0.02744771766139742, -0.04413419532938967, 0.05860045946312553, -0.04854098409565566, -0.017944083637679853, -0.06107096487925645, 0.001110631320639044, -0.06245376448833362, 0.0011239489830536797, -0.03672045649566691, 0.023336840424100558, 0.009602329307826452, 0.03975602330836381, -0.039249994926041865, -0.012029433314417304, -0.036449624509190315, -0.025887022693144246, -0.019289818347168364, -0.01490987467087912, -0.0020365329151541545, -0.0014382786969129313, -0.016655737096646916, 0.0014979159224672856, -0.03122439432802615, -0.017937695219998773, 0.016411878721848794, -0.07419024824817555, 0.0019251612792068329, -0.009393691730631204, -0.041985022438273845, 0.006612183728412546, -0.01371049797002577, -0.07481461883127238, 0.018958787861633297, 0.028045831573789926, -0.02736989950209079, -0.018463756234044837, -0.018400688058488157, -0.02258653967474622, 0.005021302427685725, -0.04617599977475528, -0.02586652826022906, -0.04173665707350516, 0.022911740089135435, -0.034156597676048506, 0.0005889231943729811, 0.008557472542907618, -0.016707599699978815, -0.019009645598931257, 0.02698009352958408, -0.023062225398128078, 0.03284655053561458, -0.008271241491762282, -0.028702982816291467, 0.0032148698829352895, -0.03066941898401332, -0.01642133617071373, -0.026374548978978396, -0.013368725053707564, 0.035516428364507746, 0.029015668387151194, 0.07160010127975625, -0.013757482367191542, -0.014311507910296228, 0.002872355310875818, -0.029768513852472367, -0.02859619108521194, 0.011620051311622248, -0.0662966187275309, -0.014660333005521053, -0.02139483808317344, 0.004795377330060191, 0.05885231933995172, -0.039487037510545164, -0.013353771276738868, 0.018848081865350252, 0.10329855663275644, 0.11222440909811304, 0.05079636862908998, 0.010013733516171186, 0.034439830468731, -0.0232823260863686, 0.008287010557284091, 8.757950448234908e-05, -0.034436295614471035, -0.06203360701584337, -0.025901531709205727, -0.023943635073781167, 0.008747466163441686, -0.04129500065428893, -0.051026890424987315, -0.06754434921485952, -0.013468812232710903, -0.022480367219646524, -0.008401456866346635, 0.05227435149502391, -0.010570893200839038, -0.04052187641690175, -0.0030278912270294, 0.026685951195759117, -0.025103436257579048, -0.019411826283434408, -0.06557707403374557, -0.023488144955592816, -0.03130449342409669, -0.02365116914944565, -0.04849706851813451, -0.036640289012868976, -0.009324092984526189, -0.011999187758961583, 0.042963154512966284, 0.010761519078975823, 0.03981313869541658, 0.020801690834122866, 0.020589875885468345, 0.043294754789421575, 0.08400678627346281, -0.05809920081549613, 0.015483377331795722, -0.038908224831965654, -0.05795622028124647, -0.0022215901504196722, -0.01618518120639756, -0.013781747353656115, 0.0029832216883498575, -0.013753027222772829, 0.01779773900234005, 0.02755826529300265, -0.028131268409989474, -0.03241229881341923, -0.04618344905278704, 0.055196653446845545, -0.0025439729027709745, -0.022404034054165578, -0.02459757323038403, 0.046145665166843486, 0.00386664574734219, 0.02876080291560079, -0.04338601353012095, -0.039417548019448745, 0.011889646814704946, 0.01690233420547571, -0.04241149930184207, -0.053024706386288756, 0.04355790537625026, 0.028367070832608476, -0.03033663656907848, -0.03291170946802069, -0.03557321787902268, -0.030427364573501592, 0.07092364800469575, -0.06690870483946831, 0.04107058415459086, 9.525718990133214e-05, 0.04487055465211931, 0.08478182517105282, 0.0906412940648238, -0.08852062155311557, -0.009551455061682645, -0.045211913293231376, 0.055793811987749464, -0.029076428235322638, -0.08740297722646417, -0.0845343192551109, 0.11554181496842553, 0.03406023649757017, -0.007547304790453069, -0.05070190986754852, 0.05668228525039254, 0.0879856482975434, 0.06900460311710432, 0.0031669158469878056, -0.03956806440204197, -0.007403737673815414, 0.006381367547385608, -0.058724417089006664, -0.06196895214189979, 0.06719834533909896, -0.04813003105691038, 0.054021260674465665, 0.13150734260771912, 0.06490517390492556, 0.04913741535840366, 0.07097361241434186, -0.02708952902545647, 0.012378914091581095, 0.04908230967699723, -0.09670705151417813, 0.038745144977708534, -0.03579849475732999, 0.010537501570455632, -0.0003676120113507153, 0.05630116309557032, -0.14780539945347115, 0.09684451681142825, -0.04833881269367879, 0.050896664667860136, -0.021865092142354214, 0.02156845424276632, -0.003762716176463954, 0.0707505920081779, -0.09446984541047065, -0.01549729164453062, -0.12541676633615495, 0.006598506535910431, -0.05383182562154332, -0.012449909990740693, 0.03548472592520291, -0.0781766522163192, 0.0991162579651732, 0.14457073605969484, 0.011388889930314505, 0.01641824076861198, -0.0470708988116435, 0.06627407012179276, 0.06274411652629475, -0.05793887436135314, -0.12381372266370505, -0.022493358576635814, 0.013208197280606626, 0.1493512365266998, -0.09677472203543758, -0.06266163404801972, 0.015385023620746452, 0.08957826630459742, 0.004696146101830223, -0.02084099486297397, 0.00424327481968767, 0.06223662349088954, 0.08032541637558843, -0.033536598711107146, -0.024995467400273697, -0.003284352543509783, 0.021955847925687166, -0.27519640921522637, 0.1066914086029076, 0.03051765964732489, -0.033694938570535626, 0.0032540458837573283, -0.04852296147326207, -0.03494926379752705, 0.208667655568048, -0.14189785143554268, -0.09803079293776484, -0.013735135142544763, -0.030169570875013818, -0.040798007637389944, 0.030577502486373476]}],\n",
              "                        {\"template\": {\"data\": {\"bar\": [{\"error_x\": {\"color\": \"#2a3f5f\"}, \"error_y\": {\"color\": \"#2a3f5f\"}, \"marker\": {\"line\": {\"color\": \"#E5ECF6\", \"width\": 0.5}}, \"type\": \"bar\"}], \"barpolar\": [{\"marker\": {\"line\": {\"color\": \"#E5ECF6\", \"width\": 0.5}}, \"type\": \"barpolar\"}], \"carpet\": [{\"aaxis\": {\"endlinecolor\": \"#2a3f5f\", \"gridcolor\": \"white\", \"linecolor\": \"white\", \"minorgridcolor\": \"white\", \"startlinecolor\": \"#2a3f5f\"}, \"baxis\": {\"endlinecolor\": \"#2a3f5f\", \"gridcolor\": \"white\", \"linecolor\": \"white\", \"minorgridcolor\": \"white\", \"startlinecolor\": \"#2a3f5f\"}, \"type\": \"carpet\"}], \"choropleth\": [{\"colorbar\": {\"outlinewidth\": 0, \"ticks\": \"\"}, \"type\": \"choropleth\"}], \"contour\": [{\"colorbar\": {\"outlinewidth\": 0, \"ticks\": \"\"}, \"colorscale\": [[0.0, \"#0d0887\"], [0.1111111111111111, \"#46039f\"], [0.2222222222222222, \"#7201a8\"], [0.3333333333333333, \"#9c179e\"], [0.4444444444444444, \"#bd3786\"], [0.5555555555555556, \"#d8576b\"], [0.6666666666666666, \"#ed7953\"], [0.7777777777777778, \"#fb9f3a\"], [0.8888888888888888, \"#fdca26\"], [1.0, \"#f0f921\"]], \"type\": \"contour\"}], \"contourcarpet\": [{\"colorbar\": {\"outlinewidth\": 0, \"ticks\": \"\"}, \"type\": \"contourcarpet\"}], \"heatmap\": [{\"colorbar\": {\"outlinewidth\": 0, \"ticks\": \"\"}, \"colorscale\": [[0.0, \"#0d0887\"], [0.1111111111111111, \"#46039f\"], [0.2222222222222222, \"#7201a8\"], [0.3333333333333333, \"#9c179e\"], [0.4444444444444444, \"#bd3786\"], [0.5555555555555556, \"#d8576b\"], [0.6666666666666666, \"#ed7953\"], [0.7777777777777778, \"#fb9f3a\"], [0.8888888888888888, \"#fdca26\"], [1.0, \"#f0f921\"]], \"type\": \"heatmap\"}], \"heatmapgl\": [{\"colorbar\": {\"outlinewidth\": 0, \"ticks\": \"\"}, \"colorscale\": [[0.0, \"#0d0887\"], [0.1111111111111111, \"#46039f\"], [0.2222222222222222, \"#7201a8\"], [0.3333333333333333, \"#9c179e\"], [0.4444444444444444, \"#bd3786\"], [0.5555555555555556, \"#d8576b\"], [0.6666666666666666, \"#ed7953\"], [0.7777777777777778, \"#fb9f3a\"], [0.8888888888888888, \"#fdca26\"], [1.0, \"#f0f921\"]], \"type\": \"heatmapgl\"}], \"histogram\": [{\"marker\": {\"colorbar\": {\"outlinewidth\": 0, \"ticks\": \"\"}}, \"type\": \"histogram\"}], \"histogram2d\": [{\"colorbar\": {\"outlinewidth\": 0, \"ticks\": \"\"}, \"colorscale\": [[0.0, \"#0d0887\"], [0.1111111111111111, \"#46039f\"], [0.2222222222222222, \"#7201a8\"], [0.3333333333333333, \"#9c179e\"], [0.4444444444444444, \"#bd3786\"], [0.5555555555555556, \"#d8576b\"], [0.6666666666666666, \"#ed7953\"], [0.7777777777777778, \"#fb9f3a\"], [0.8888888888888888, \"#fdca26\"], [1.0, \"#f0f921\"]], \"type\": \"histogram2d\"}], \"histogram2dcontour\": [{\"colorbar\": {\"outlinewidth\": 0, \"ticks\": \"\"}, \"colorscale\": [[0.0, \"#0d0887\"], [0.1111111111111111, \"#46039f\"], [0.2222222222222222, \"#7201a8\"], [0.3333333333333333, \"#9c179e\"], [0.4444444444444444, \"#bd3786\"], [0.5555555555555556, \"#d8576b\"], [0.6666666666666666, \"#ed7953\"], [0.7777777777777778, \"#fb9f3a\"], [0.8888888888888888, \"#fdca26\"], [1.0, \"#f0f921\"]], \"type\": \"histogram2dcontour\"}], \"mesh3d\": [{\"colorbar\": {\"outlinewidth\": 0, \"ticks\": \"\"}, \"type\": \"mesh3d\"}], \"parcoords\": [{\"line\": {\"colorbar\": {\"outlinewidth\": 0, \"ticks\": \"\"}}, \"type\": \"parcoords\"}], \"pie\": [{\"automargin\": true, \"type\": \"pie\"}], \"scatter\": [{\"marker\": {\"colorbar\": {\"outlinewidth\": 0, \"ticks\": \"\"}}, \"type\": \"scatter\"}], \"scatter3d\": [{\"line\": {\"colorbar\": {\"outlinewidth\": 0, \"ticks\": \"\"}}, \"marker\": {\"colorbar\": {\"outlinewidth\": 0, \"ticks\": \"\"}}, \"type\": \"scatter3d\"}], \"scattercarpet\": [{\"marker\": {\"colorbar\": {\"outlinewidth\": 0, \"ticks\": \"\"}}, \"type\": \"scattercarpet\"}], \"scattergeo\": [{\"marker\": {\"colorbar\": {\"outlinewidth\": 0, \"ticks\": \"\"}}, \"type\": \"scattergeo\"}], \"scattergl\": [{\"marker\": {\"colorbar\": {\"outlinewidth\": 0, \"ticks\": \"\"}}, \"type\": \"scattergl\"}], \"scattermapbox\": [{\"marker\": {\"colorbar\": {\"outlinewidth\": 0, \"ticks\": \"\"}}, \"type\": \"scattermapbox\"}], \"scatterpolar\": [{\"marker\": {\"colorbar\": {\"outlinewidth\": 0, \"ticks\": \"\"}}, \"type\": \"scatterpolar\"}], \"scatterpolargl\": [{\"marker\": {\"colorbar\": {\"outlinewidth\": 0, \"ticks\": \"\"}}, \"type\": \"scatterpolargl\"}], \"scatterternary\": [{\"marker\": {\"colorbar\": {\"outlinewidth\": 0, \"ticks\": \"\"}}, \"type\": \"scatterternary\"}], \"surface\": [{\"colorbar\": {\"outlinewidth\": 0, \"ticks\": \"\"}, \"colorscale\": [[0.0, \"#0d0887\"], [0.1111111111111111, \"#46039f\"], [0.2222222222222222, \"#7201a8\"], [0.3333333333333333, \"#9c179e\"], [0.4444444444444444, \"#bd3786\"], [0.5555555555555556, \"#d8576b\"], [0.6666666666666666, \"#ed7953\"], [0.7777777777777778, \"#fb9f3a\"], [0.8888888888888888, \"#fdca26\"], [1.0, \"#f0f921\"]], \"type\": \"surface\"}], \"table\": [{\"cells\": {\"fill\": {\"color\": \"#EBF0F8\"}, \"line\": {\"color\": \"white\"}}, \"header\": {\"fill\": {\"color\": \"#C8D4E3\"}, \"line\": {\"color\": \"white\"}}, \"type\": \"table\"}]}, \"layout\": {\"annotationdefaults\": {\"arrowcolor\": \"#2a3f5f\", \"arrowhead\": 0, \"arrowwidth\": 1}, \"coloraxis\": {\"colorbar\": {\"outlinewidth\": 0, \"ticks\": \"\"}}, \"colorscale\": {\"diverging\": [[0, \"#8e0152\"], [0.1, \"#c51b7d\"], [0.2, \"#de77ae\"], [0.3, \"#f1b6da\"], [0.4, \"#fde0ef\"], [0.5, \"#f7f7f7\"], [0.6, \"#e6f5d0\"], [0.7, \"#b8e186\"], [0.8, \"#7fbc41\"], [0.9, \"#4d9221\"], [1, \"#276419\"]], \"sequential\": [[0.0, \"#0d0887\"], [0.1111111111111111, \"#46039f\"], [0.2222222222222222, \"#7201a8\"], [0.3333333333333333, \"#9c179e\"], [0.4444444444444444, \"#bd3786\"], [0.5555555555555556, \"#d8576b\"], [0.6666666666666666, \"#ed7953\"], [0.7777777777777778, \"#fb9f3a\"], [0.8888888888888888, \"#fdca26\"], [1.0, \"#f0f921\"]], \"sequentialminus\": [[0.0, \"#0d0887\"], [0.1111111111111111, \"#46039f\"], [0.2222222222222222, \"#7201a8\"], [0.3333333333333333, \"#9c179e\"], [0.4444444444444444, \"#bd3786\"], [0.5555555555555556, \"#d8576b\"], [0.6666666666666666, \"#ed7953\"], [0.7777777777777778, \"#fb9f3a\"], [0.8888888888888888, \"#fdca26\"], [1.0, \"#f0f921\"]]}, \"colorway\": [\"#636efa\", \"#EF553B\", \"#00cc96\", \"#ab63fa\", \"#FFA15A\", \"#19d3f3\", \"#FF6692\", \"#B6E880\", \"#FF97FF\", \"#FECB52\"], \"font\": {\"color\": \"#2a3f5f\"}, \"geo\": {\"bgcolor\": \"white\", \"lakecolor\": \"white\", \"landcolor\": \"#E5ECF6\", \"showlakes\": true, \"showland\": true, \"subunitcolor\": \"white\"}, \"hoverlabel\": {\"align\": \"left\"}, \"hovermode\": \"closest\", \"mapbox\": {\"style\": \"light\"}, \"paper_bgcolor\": \"white\", \"plot_bgcolor\": \"#E5ECF6\", \"polar\": {\"angularaxis\": {\"gridcolor\": \"white\", \"linecolor\": \"white\", \"ticks\": \"\"}, \"bgcolor\": \"#E5ECF6\", \"radialaxis\": {\"gridcolor\": \"white\", \"linecolor\": \"white\", \"ticks\": \"\"}}, \"scene\": {\"xaxis\": {\"backgroundcolor\": \"#E5ECF6\", \"gridcolor\": \"white\", \"gridwidth\": 2, \"linecolor\": \"white\", \"showbackground\": true, \"ticks\": \"\", \"zerolinecolor\": \"white\"}, \"yaxis\": {\"backgroundcolor\": \"#E5ECF6\", \"gridcolor\": \"white\", \"gridwidth\": 2, \"linecolor\": \"white\", \"showbackground\": true, \"ticks\": \"\", \"zerolinecolor\": \"white\"}, \"zaxis\": {\"backgroundcolor\": \"#E5ECF6\", \"gridcolor\": \"white\", \"gridwidth\": 2, \"linecolor\": \"white\", \"showbackground\": true, \"ticks\": \"\", \"zerolinecolor\": \"white\"}}, \"shapedefaults\": {\"line\": {\"color\": \"#2a3f5f\"}}, \"ternary\": {\"aaxis\": {\"gridcolor\": \"white\", \"linecolor\": \"white\", \"ticks\": \"\"}, \"baxis\": {\"gridcolor\": \"white\", \"linecolor\": \"white\", \"ticks\": \"\"}, \"bgcolor\": \"#E5ECF6\", \"caxis\": {\"gridcolor\": \"white\", \"linecolor\": \"white\", \"ticks\": \"\"}}, \"title\": {\"x\": 0.05}, \"xaxis\": {\"automargin\": true, \"gridcolor\": \"white\", \"linecolor\": \"white\", \"ticks\": \"\", \"title\": {\"standoff\": 15}, \"zerolinecolor\": \"white\", \"zerolinewidth\": 2}, \"yaxis\": {\"automargin\": true, \"gridcolor\": \"white\", \"linecolor\": \"white\", \"ticks\": \"\", \"title\": {\"standoff\": 15}, \"zerolinecolor\": \"white\", \"zerolinewidth\": 2}}}},\n",
              "                        {\"responsive\": true}\n",
              "                    ).then(function(){\n",
              "                            \n",
              "var gd = document.getElementById('94150869-1baa-4887-9ca8-fc2ca0f0a1a5');\n",
              "var x = new MutationObserver(function (mutations, observer) {{\n",
              "        var display = window.getComputedStyle(gd).display;\n",
              "        if (!display || display === 'none') {{\n",
              "            console.log([gd, 'removed!']);\n",
              "            Plotly.purge(gd);\n",
              "            observer.disconnect();\n",
              "        }}\n",
              "}});\n",
              "\n",
              "// Listen for the removal of the full notebook cells\n",
              "var notebookContainer = gd.closest('#notebook-container');\n",
              "if (notebookContainer) {{\n",
              "    x.observe(notebookContainer, {childList: true});\n",
              "}}\n",
              "\n",
              "// Listen for the clearing of the current output cell\n",
              "var outputEl = gd.closest('.output');\n",
              "if (outputEl) {{\n",
              "    x.observe(outputEl, {childList: true});\n",
              "}}\n",
              "\n",
              "                        })\n",
              "                };\n",
              "                \n",
              "            </script>\n",
              "        </div>\n",
              "</body>\n",
              "</html>"
            ]
          },
          "metadata": {
            "tags": []
          }
        }
      ]
    },
    {
      "cell_type": "code",
      "metadata": {
        "id": "Ww_voVPRe_MW",
        "colab_type": "code",
        "colab": {
          "base_uri": "https://localhost:8080/",
          "height": 34
        },
        "outputId": "f0d7ac49-8160-4660-9910-4552b0612ab0"
      },
      "source": [
        "# What's the standard deviation of errors\n",
        "np.std(plt_df['model_2_forecast']-plt_df['Log_load'])"
      ],
      "execution_count": 173,
      "outputs": [
        {
          "output_type": "execute_result",
          "data": {
            "text/plain": [
              "0.04770011026277957"
            ]
          },
          "metadata": {
            "tags": []
          },
          "execution_count": 173
        }
      ]
    },
    {
      "cell_type": "code",
      "metadata": {
        "id": "ChAPDjO-VJsz",
        "colab_type": "code",
        "colab": {}
      },
      "source": [
        "# Complete the missing data from the frame so we can predict\n",
        "# i.e. compute temperature mean forecast, specify whether holiday, give lockdown_index\n",
        "\n",
        "# variable today_date\n",
        "today_hol = 0\n",
        "today_lock = 70.37\n",
        "\n",
        "# variable fcast_date\n",
        "fcast_hol = 0\n",
        "fcast_lock = 70.37\n",
        "\n",
        "# Prior date (that's the last day all available info)\n",
        "# variable yday_date\n",
        "\n",
        "# Get temperature forecast for today\n",
        "tmp_df_1 = data.loc[data['Date']==today_date]\n",
        "temp_mean_1 = ((tmp_df_1['London_mean'] + tmp_df_1['Bristol_mean'] + tmp_df_1['Leeds_mean'])/3).squeeze()\n",
        "# Get temperature forecast for tomorrow\n",
        "tmp_df_2 = data.loc[data['Date']==fcast_date]\n",
        "temp_mean_2 = ((tmp_df_2['London_mean'] + tmp_df_2['Bristol_mean'] + tmp_df_2['Leeds_mean'])/3).squeeze()\n",
        "\n",
        "# Write back to df\n",
        "data.loc[data['Date']==today_date,['Temp_mean']] = temp_mean_1\n",
        "data.loc[data['Date']==fcast_date,['Temp_mean']] = temp_mean_2\n",
        "data.loc[data['Date']==today_date,['Holiday']] = today_hol\n",
        "data.loc[data['Date']==fcast_date,['Holiday']]=fcast_hol\n",
        "data.loc[data['Date']==today_date,['Lockdown_index']] = today_lock\n",
        "data.loc[data['Date']==fcast_date,['Lockdown_index']]=fcast_lock"
      ],
      "execution_count": 0,
      "outputs": []
    },
    {
      "cell_type": "code",
      "metadata": {
        "id": "NdmoHAaFwFc-",
        "colab_type": "code",
        "colab": {}
      },
      "source": [
        "# A function to predict and write-back using the SARIMAX model defined above\n",
        "# Not changing the specification of the model, just calibrating to latest available data to generate today's load\n",
        "# Then predict tomorrow's load\n",
        "\n",
        "def fit_predict(frame, last_good_date, predict_date):\n",
        "  '''frame is the input dataframe, last_good_date is the last date beyond which info needs to be predicted, 1 step at a time'''\n",
        "  scaler_in = MinMaxScaler()\n",
        "  scaler_out = MinMaxScaler()\n",
        "  \n",
        "  # You can only look at data up to today\n",
        "  df = frame[frame['Date']<=last_good_date]\n",
        "\n",
        "  # Scale the data\n",
        "  scaled_in = scaler_in.fit_transform(df[['Temp_mean','Lockdown_index','Holiday']])\n",
        "  scaled_out = scaler_out.fit_transform(np.array(df['Load']).reshape(-1,1))\n",
        "\n",
        "  # Fit the model\n",
        "  model = SARIMAX(scaled_out,exog=scaled_in,order=arima,seasonal_order=seasonal,enforce_stationarity=False,enforce_invertibility=False).fit()\n",
        "\n",
        "  # Grab info for the date to be forecast\n",
        "  predict_df = frame[frame['Date']==predict_date]\n",
        "  x_exog = np.array(predict_df[['Temp_mean','Lockdown_index','Holiday']].squeeze())\n",
        "\n",
        "  # Forecast it\n",
        "  forecast_y = model.forecast(steps=1,exog=scaler_in.transform(x_exog.reshape(1,-1)))\n",
        "  \n",
        "  # Invert and return\n",
        "  return scaler_out.inverse_transform(forecast_y.reshape(1,-1))[0][0]"
      ],
      "execution_count": 0,
      "outputs": []
    },
    {
      "cell_type": "code",
      "metadata": {
        "id": "BiC4aadn0vqc",
        "colab_type": "code",
        "colab": {}
      },
      "source": [
        "# Generate and append today's Load\n",
        "data.loc[data['Date']==today_date,['Load']] = fit_predict(data,yday_date,today_date)"
      ],
      "execution_count": 0,
      "outputs": []
    },
    {
      "cell_type": "code",
      "metadata": {
        "id": "onS4KG7esXVy",
        "colab_type": "code",
        "colab": {}
      },
      "source": [
        "# Generate and append tomorrow's forecast Load\n",
        "data.loc[data['Date']==fcast_date,['Load']] = fit_predict(data,today_date,fcast_date)"
      ],
      "execution_count": 0,
      "outputs": []
    },
    {
      "cell_type": "code",
      "metadata": {
        "id": "Oyt3Y-gx1J4K",
        "colab_type": "code",
        "colab": {
          "base_uri": "https://localhost:8080/",
          "height": 34
        },
        "outputId": "af0dd992-f859-4c8f-d507-ec8a425c3186"
      },
      "source": [
        "print(f\"Prediction is {np.round(data.loc[data['Date']==fcast_date]['Load'].squeeze(),2)}\")"
      ],
      "execution_count": 178,
      "outputs": [
        {
          "output_type": "stream",
          "text": [
            "Prediction is 9.79\n"
          ],
          "name": "stdout"
        }
      ]
    }
  ]
}